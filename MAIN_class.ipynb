{
  "cells": [
    {
      "cell_type": "markdown",
      "source": [
        "##Call the API with my variables for my research"
      ],
      "metadata": {
        "id": "Nu7m15GcZfnS"
      },
      "id": "Nu7m15GcZfnS"
    },
    {
      "cell_type": "markdown",
      "source": [
        "> List of some states \"46 SD\", \"47 TN\",\"10 DE\", \"2 AK\",\"5 AR\",\"24 MD\",\"31 NE\"\n",
        "\n",
        "CBSA:\n",
        "\n",
        "\"46 SD\",\n",
        "* \"43620 Sioux Falls, SD\",\n",
        "\n",
        "\"47 TN\"\n",
        "* \"16860 Chattanooga, TN-GA\",\n",
        "* \"28940 Knoxville, TN\",\n",
        "* \"34980\": \"Nashville-Davidson--Murfreesboro--Franklin, TN\",\n",
        "* \"28700\": \"Kingsport-Bristol-Bristol, TN-VA\",\n",
        "* \"32820\": \"Memphis, TN-MS-AR\",\n",
        "* \"17300\": \"Clarksville, TN-KY\",\n",
        "* \"27740\": \"Johnson City, TN\",\n",
        "* \"17420\": \"Cleveland, TN\",\n",
        "\n",
        "\"10 DE\"\n",
        "* \"20100 Dover, DE\",\n",
        "* \"428\": \"Philadelphia-Reading-Camden, PA-NJ-DE-MD\",\n",
        "* \"41540\": \"Salisbury, MD-DE\",\n",
        "*\n",
        "* 0 city for \"2 AK\"\n",
        "\n",
        "\"5 AR\",\n",
        "* \"22900 Fort Smith, AR-OK\",\n",
        "* \"30780 Little Rock-North Little Rock-Conway, AR\",\n",
        "* \"22220 Fayetteville-Springdale-Rogers, AR-MO\",\n",
        "* \"38220 Pine Bluff, AR\",\n",
        "* \"32820 Memphis, TN-MS-AR\",\n",
        "*\n",
        "\"24 MD\",\n",
        "* \"25180\": \"Hagerstown-Martinsburg, MD-WV\",\n",
        "* \"428\": \"Philadelphia-Reading-Camden, PA-NJ-DE-MD\",\n",
        "* \"12580\": \"Baltimore-Columbia-Towson, MD\",\n",
        "* \"37980\": \"Philadelphia-Camden-Wilmington, PA-NJ-DE-MD\",\n",
        "* \"15680\": \"California-Lexington Park, MD\",\n",
        "* \"41540\": \"Salisbury, MD-DE\","
      ],
      "metadata": {
        "id": "MiS6CIJ8WuA8"
      },
      "id": "MiS6CIJ8WuA8"
    },
    {
      "cell_type": "code",
      "source": [
        "##Constantes\n",
        "month_dict = {\n",
        "    1: \"jan\",\n",
        "    2: \"feb\",\n",
        "    3: \"mar\",\n",
        "    4: \"apr\",\n",
        "    5: \"may\",\n",
        "    6: \"jun\",\n",
        "    7: \"jul\",\n",
        "    8: \"aug\",\n",
        "    9: \"sep\",\n",
        "    10: \"oct\",\n",
        "    11: \"nov\",\n",
        "    12: \"dec\"\n",
        "}\n",
        "# Find the key for 'A MONTH'\n",
        "def monthTLA(m):\n",
        "  \"\"\"\n",
        "  Will return the key for the 3 letters acronym\n",
        "  \"\"\"\n",
        "  global month_dict\n",
        "  return next(key for key, value in month_dict.items() if value == m)\n",
        "\n",
        "STATE_dict= {\n",
        "    \"46\": \"SD\",    \"47\": \"TN\",    \"10\": \"DE\",    \"2\": \"AK\",    \"5\": \"AR\",    \"24\": \"MD\",    \"31\": \"NE\",    \"44\": \"RI\",    \"48\": \"TX\",    \"11\": \"DC\",    \"16\": \"ID\",    \"4\": \"AZ\",    \"6\": \"CA\",    \"19\": \"IA\",    \"22\": \"LA\",    \"26\": \"MI\",\n",
        "    \"45\": \"SC\",    \"50\": \"VT\",    \"51\": \"VA\",    \"1\": \"AL\",    \"8\": \"CO\",    \"32\": \"NV\",    \"37\": \"NC\",    \"49\": \"UT\",    \"54\": \"WV\",    \"55\": \"WI\",    \"13\": \"GA\",    \"15\": \"HI\",    \"17\": \"IL\",    \"21\": \"KY\",    \"34\": \"NJ\",    \"38\": \"ND\",\n",
        "    \"39\": \"OH\",    \"41\": \"OR\",    \"30\": \"MT\",    \"40\": \"OK\",   \"56\": \"WY\",    \"28\": \"MS\",    \"36\": \"NY\",    \"42\": \"PA\",    \"53\": \"WA\",    \"12\": \"FL\",    \"18\": \"IN\",    \"9\": \"CT\",    \"20\": \"KS\",    \"23\": \"ME\",    \"25\": \"MA\",    \"27\": \"MN\",\n",
        "    \"29\": \"MO\",    \"33\": \"NH\",    \"35\": \"NM\"\n",
        "    }\n",
        "states = [state for state in STATE_dict.keys()]\n",
        "\n",
        "##Variables\n",
        "stateID = states[1] #47 #range(1-56), without 3, 7, 14, 43\n",
        "year = 2015 # range(2010-2023)\n",
        "month = month_dict[10] #range(1-12)"
      ],
      "metadata": {
        "id": "uB5R3hshb3YQ"
      },
      "id": "uB5R3hshb3YQ",
      "execution_count": 64,
      "outputs": []
    },
    {
      "cell_type": "code",
      "source": [
        "import requests\n",
        "import json\n",
        "import numpy as np\n",
        "\n",
        "# download the Demographics_Native_Country_Of_Mother for Mix-Compostion\n",
        "key = '&key='+'804d0a1a18d1de70764950c78e2a3a42d3d45e48'\n",
        "data = 'https://api.census.gov/data/'+ str(year) +'/cps/basic/'+ month + '?tabulate=weight(PWSSWGT)&row+for&row+PEMNTVTY&row+PEMARITL&row+PESEX&row+PRCITSHP&row+GTCBSA&for=state:' + str(stateID) + key\n",
        "print (data)\n",
        "try:\n",
        "  data = requests.get(data)\n",
        "  print(data.status_code)\n",
        "except requests.exceptions.RequestException as e:\n",
        "    # Handle connection errors or HTTP errors\n",
        "    print(\"STOP ERROR: Tools for Data Science - Semester Project: An error occurred:\\n [[[[\", e, \"]]]]\")\n",
        "except AttributeError:\n",
        "  print (\"STOP ERROR: Please check your variable name!\")"
      ],
      "metadata": {
        "id": "jbgSMXUEZTLt",
        "outputId": "3014197d-ab58-4944-c4d2-066706842fdb",
        "colab": {
          "base_uri": "https://localhost:8080/"
        }
      },
      "id": "jbgSMXUEZTLt",
      "execution_count": 65,
      "outputs": [
        {
          "output_type": "stream",
          "name": "stdout",
          "text": [
            "https://api.census.gov/data/2015/cps/basic/oct?tabulate=weight(PWSSWGT)&row+for&row+PEMNTVTY&row+PEMARITL&row+PESEX&row+PRCITSHP&row+GTCBSA&for=state:47&key=804d0a1a18d1de70764950c78e2a3a42d3d45e48\n",
            "200\n"
          ]
        }
      ]
    },
    {
      "cell_type": "markdown",
      "source": [
        "##Display a sample (a couple of lines in the top and some at the end)"
      ],
      "metadata": {
        "id": "YZloIaG1lzqL"
      },
      "id": "YZloIaG1lzqL"
    },
    {
      "cell_type": "code",
      "source": [
        "##Display the first 100 and last 100 characters\n",
        "#print (data.text[0:100:],'\\n') #TEST\n",
        "#print (data.text[-100:]) #TEST"
      ],
      "metadata": {
        "id": "trqfqrnA4NIs"
      },
      "id": "trqfqrnA4NIs",
      "execution_count": null,
      "outputs": []
    },
    {
      "cell_type": "markdown",
      "source": [
        "## Cleaning the Data\n",
        "For some reason the data will return tabulate data with 0, witch means no possible match in regards to all the variables."
      ],
      "metadata": {
        "id": "rGG-8FGml-rM"
      },
      "id": "rGG-8FGml-rM"
    },
    {
      "cell_type": "code",
      "source": [
        "import pandas as pd\n",
        "import regex as re\n",
        "\n",
        "data = data.text\n",
        "pattern_cleaning = r'\\[0,.*?\\],?\\n?' #remove the data with no tabulate information (tabulate=0)\n",
        "data = re.sub(pattern_cleaning, '', data)\n",
        "pattern_cleaning = r'\\n' #remove retunr line\n",
        "data = re.sub(pattern_cleaning, '', data)"
      ],
      "metadata": {
        "id": "I_REJW5U9mWC"
      },
      "id": "I_REJW5U9mWC",
      "execution_count": 66,
      "outputs": []
    },
    {
      "cell_type": "markdown",
      "source": [
        "##Prep'ing the _columns_ and _data values_ for the _df_ called **mix_composition**"
      ],
      "metadata": {
        "id": "KVty0kmNaGcQ"
      },
      "id": "KVty0kmNaGcQ"
    },
    {
      "cell_type": "code",
      "source": [
        "##Separe cols from data (numbers)\n",
        "pattern = r'.*?(\\[\"tabulate\".*?\"GTCBSA\"\\]),([\\s\\S]*)'\n",
        "matches = re.search(pattern, data)\n",
        "data_cols = matches.group(1)\n",
        "data_vals = matches.group(2)[:-1] #removing the last char \"]\" at the end."
      ],
      "metadata": {
        "id": "bNqIBXjtGNru"
      },
      "id": "bNqIBXjtGNru",
      "execution_count": 67,
      "outputs": []
    },
    {
      "cell_type": "code",
      "source": [
        "data_colsList = re.findall(r'\"(.*?)\"', data_cols) #Transform string_column in List_column\n",
        "\n",
        "#Transform string_row in List of Lists then Matrix\n",
        "rows = re.findall(r'\\[(.*?)\\]', data_vals)\n",
        "dataM=[]\n",
        "for row in rows:\n",
        "  row_list = re.findall(r'-?\\d+(?:\\.\\d+)?', row)\n",
        "  dataM.append([int(elt) for elt in row_list])\n",
        "\n",
        "#print (rows[1]) #TEST\n",
        "#print (dataM[1]) #TEST"
      ],
      "metadata": {
        "id": "AFHWyJzBNgcb"
      },
      "id": "AFHWyJzBNgcb",
      "execution_count": 68,
      "outputs": []
    },
    {
      "cell_type": "markdown",
      "source": [
        "##Definition of variables:\n",
        "* tabulate: represents the information related to population counts.\n",
        "* state: column provides information about the state\n",
        "1. PEMNTVTY Demographics-native country of mother\n",
        "2. PEMARITL Demographics-marital status\n",
        "3. PESEX Demographics-sex\n",
        "4. PRCITSHP Demographics-United States citizenship group\n",
        "5. GTCBSA Demographics-city level\n",
        "\n",
        "We will understand the population composition by state about how mixed it is based on the native country of mothers, marital status distribution, gender demographics, citizenship status, at the city-level characteristics. This data can be used to uncover trends, patterns, and insights into the social and cultural fabric of the US population."
      ],
      "metadata": {
        "id": "QIeiQKSgY-d_"
      },
      "id": "QIeiQKSgY-d_"
    },
    {
      "cell_type": "code",
      "source": [
        "##Convert the result to a Df **mix_composition**\n",
        "df = pd.DataFrame(dataM, columns=data_colsList)\n",
        "\n",
        "##Building the YYYYMM column\n",
        "from datetime import datetime as dt\n",
        "df['YYYYMM'] = pd.Series([dt.strptime(str(year)+ '-' +str(month), \"%Y-%b\") for _ in range(df.shape[0])])\n",
        "df.head()"
      ],
      "metadata": {
        "colab": {
          "base_uri": "https://localhost:8080/",
          "height": 206
        },
        "id": "Kxam2UlyK8jH",
        "outputId": "c3e7fa05-10c6-48d5-ab4c-9f07abe90e6a"
      },
      "id": "Kxam2UlyK8jH",
      "execution_count": 69,
      "outputs": [
        {
          "output_type": "execute_result",
          "data": {
            "text/plain": [
              "   tabulate  state  PEMNTVTY  PEMARITL  PESEX  PRCITSHP  GTCBSA     YYYYMM\n",
              "0      3214     47        57         6      2         3   17420 2015-10-01\n",
              "1      2467     47       233         1      1         3   17420 2015-10-01\n",
              "2      1889     47        57         1      1         3   17420 2015-10-01\n",
              "3      2422     47       303         2      2         5   17420 2015-10-01\n",
              "4      2612     47       301         1      2         5   17420 2015-10-01"
            ],
            "text/html": [
              "\n",
              "  <div id=\"df-5ed16a9e-0948-4c84-87d3-ae7ba912c6bd\" class=\"colab-df-container\">\n",
              "    <div>\n",
              "<style scoped>\n",
              "    .dataframe tbody tr th:only-of-type {\n",
              "        vertical-align: middle;\n",
              "    }\n",
              "\n",
              "    .dataframe tbody tr th {\n",
              "        vertical-align: top;\n",
              "    }\n",
              "\n",
              "    .dataframe thead th {\n",
              "        text-align: right;\n",
              "    }\n",
              "</style>\n",
              "<table border=\"1\" class=\"dataframe\">\n",
              "  <thead>\n",
              "    <tr style=\"text-align: right;\">\n",
              "      <th></th>\n",
              "      <th>tabulate</th>\n",
              "      <th>state</th>\n",
              "      <th>PEMNTVTY</th>\n",
              "      <th>PEMARITL</th>\n",
              "      <th>PESEX</th>\n",
              "      <th>PRCITSHP</th>\n",
              "      <th>GTCBSA</th>\n",
              "      <th>YYYYMM</th>\n",
              "    </tr>\n",
              "  </thead>\n",
              "  <tbody>\n",
              "    <tr>\n",
              "      <th>0</th>\n",
              "      <td>3214</td>\n",
              "      <td>47</td>\n",
              "      <td>57</td>\n",
              "      <td>6</td>\n",
              "      <td>2</td>\n",
              "      <td>3</td>\n",
              "      <td>17420</td>\n",
              "      <td>2015-10-01</td>\n",
              "    </tr>\n",
              "    <tr>\n",
              "      <th>1</th>\n",
              "      <td>2467</td>\n",
              "      <td>47</td>\n",
              "      <td>233</td>\n",
              "      <td>1</td>\n",
              "      <td>1</td>\n",
              "      <td>3</td>\n",
              "      <td>17420</td>\n",
              "      <td>2015-10-01</td>\n",
              "    </tr>\n",
              "    <tr>\n",
              "      <th>2</th>\n",
              "      <td>1889</td>\n",
              "      <td>47</td>\n",
              "      <td>57</td>\n",
              "      <td>1</td>\n",
              "      <td>1</td>\n",
              "      <td>3</td>\n",
              "      <td>17420</td>\n",
              "      <td>2015-10-01</td>\n",
              "    </tr>\n",
              "    <tr>\n",
              "      <th>3</th>\n",
              "      <td>2422</td>\n",
              "      <td>47</td>\n",
              "      <td>303</td>\n",
              "      <td>2</td>\n",
              "      <td>2</td>\n",
              "      <td>5</td>\n",
              "      <td>17420</td>\n",
              "      <td>2015-10-01</td>\n",
              "    </tr>\n",
              "    <tr>\n",
              "      <th>4</th>\n",
              "      <td>2612</td>\n",
              "      <td>47</td>\n",
              "      <td>301</td>\n",
              "      <td>1</td>\n",
              "      <td>2</td>\n",
              "      <td>5</td>\n",
              "      <td>17420</td>\n",
              "      <td>2015-10-01</td>\n",
              "    </tr>\n",
              "  </tbody>\n",
              "</table>\n",
              "</div>\n",
              "    <div class=\"colab-df-buttons\">\n",
              "\n",
              "  <div class=\"colab-df-container\">\n",
              "    <button class=\"colab-df-convert\" onclick=\"convertToInteractive('df-5ed16a9e-0948-4c84-87d3-ae7ba912c6bd')\"\n",
              "            title=\"Convert this dataframe to an interactive table.\"\n",
              "            style=\"display:none;\">\n",
              "\n",
              "  <svg xmlns=\"http://www.w3.org/2000/svg\" height=\"24px\" viewBox=\"0 -960 960 960\">\n",
              "    <path d=\"M120-120v-720h720v720H120Zm60-500h600v-160H180v160Zm220 220h160v-160H400v160Zm0 220h160v-160H400v160ZM180-400h160v-160H180v160Zm440 0h160v-160H620v160ZM180-180h160v-160H180v160Zm440 0h160v-160H620v160Z\"/>\n",
              "  </svg>\n",
              "    </button>\n",
              "\n",
              "  <style>\n",
              "    .colab-df-container {\n",
              "      display:flex;\n",
              "      gap: 12px;\n",
              "    }\n",
              "\n",
              "    .colab-df-convert {\n",
              "      background-color: #E8F0FE;\n",
              "      border: none;\n",
              "      border-radius: 50%;\n",
              "      cursor: pointer;\n",
              "      display: none;\n",
              "      fill: #1967D2;\n",
              "      height: 32px;\n",
              "      padding: 0 0 0 0;\n",
              "      width: 32px;\n",
              "    }\n",
              "\n",
              "    .colab-df-convert:hover {\n",
              "      background-color: #E2EBFA;\n",
              "      box-shadow: 0px 1px 2px rgba(60, 64, 67, 0.3), 0px 1px 3px 1px rgba(60, 64, 67, 0.15);\n",
              "      fill: #174EA6;\n",
              "    }\n",
              "\n",
              "    .colab-df-buttons div {\n",
              "      margin-bottom: 4px;\n",
              "    }\n",
              "\n",
              "    [theme=dark] .colab-df-convert {\n",
              "      background-color: #3B4455;\n",
              "      fill: #D2E3FC;\n",
              "    }\n",
              "\n",
              "    [theme=dark] .colab-df-convert:hover {\n",
              "      background-color: #434B5C;\n",
              "      box-shadow: 0px 1px 3px 1px rgba(0, 0, 0, 0.15);\n",
              "      filter: drop-shadow(0px 1px 2px rgba(0, 0, 0, 0.3));\n",
              "      fill: #FFFFFF;\n",
              "    }\n",
              "  </style>\n",
              "\n",
              "    <script>\n",
              "      const buttonEl =\n",
              "        document.querySelector('#df-5ed16a9e-0948-4c84-87d3-ae7ba912c6bd button.colab-df-convert');\n",
              "      buttonEl.style.display =\n",
              "        google.colab.kernel.accessAllowed ? 'block' : 'none';\n",
              "\n",
              "      async function convertToInteractive(key) {\n",
              "        const element = document.querySelector('#df-5ed16a9e-0948-4c84-87d3-ae7ba912c6bd');\n",
              "        const dataTable =\n",
              "          await google.colab.kernel.invokeFunction('convertToInteractive',\n",
              "                                                    [key], {});\n",
              "        if (!dataTable) return;\n",
              "\n",
              "        const docLinkHtml = 'Like what you see? Visit the ' +\n",
              "          '<a target=\"_blank\" href=https://colab.research.google.com/notebooks/data_table.ipynb>data table notebook</a>'\n",
              "          + ' to learn more about interactive tables.';\n",
              "        element.innerHTML = '';\n",
              "        dataTable['output_type'] = 'display_data';\n",
              "        await google.colab.output.renderOutput(dataTable, element);\n",
              "        const docLink = document.createElement('div');\n",
              "        docLink.innerHTML = docLinkHtml;\n",
              "        element.appendChild(docLink);\n",
              "      }\n",
              "    </script>\n",
              "  </div>\n",
              "\n",
              "\n",
              "<div id=\"df-87179c2f-816e-435f-8643-707ef34c358c\">\n",
              "  <button class=\"colab-df-quickchart\" onclick=\"quickchart('df-87179c2f-816e-435f-8643-707ef34c358c')\"\n",
              "            title=\"Suggest charts\"\n",
              "            style=\"display:none;\">\n",
              "\n",
              "<svg xmlns=\"http://www.w3.org/2000/svg\" height=\"24px\"viewBox=\"0 0 24 24\"\n",
              "     width=\"24px\">\n",
              "    <g>\n",
              "        <path d=\"M19 3H5c-1.1 0-2 .9-2 2v14c0 1.1.9 2 2 2h14c1.1 0 2-.9 2-2V5c0-1.1-.9-2-2-2zM9 17H7v-7h2v7zm4 0h-2V7h2v10zm4 0h-2v-4h2v4z\"/>\n",
              "    </g>\n",
              "</svg>\n",
              "  </button>\n",
              "\n",
              "<style>\n",
              "  .colab-df-quickchart {\n",
              "      --bg-color: #E8F0FE;\n",
              "      --fill-color: #1967D2;\n",
              "      --hover-bg-color: #E2EBFA;\n",
              "      --hover-fill-color: #174EA6;\n",
              "      --disabled-fill-color: #AAA;\n",
              "      --disabled-bg-color: #DDD;\n",
              "  }\n",
              "\n",
              "  [theme=dark] .colab-df-quickchart {\n",
              "      --bg-color: #3B4455;\n",
              "      --fill-color: #D2E3FC;\n",
              "      --hover-bg-color: #434B5C;\n",
              "      --hover-fill-color: #FFFFFF;\n",
              "      --disabled-bg-color: #3B4455;\n",
              "      --disabled-fill-color: #666;\n",
              "  }\n",
              "\n",
              "  .colab-df-quickchart {\n",
              "    background-color: var(--bg-color);\n",
              "    border: none;\n",
              "    border-radius: 50%;\n",
              "    cursor: pointer;\n",
              "    display: none;\n",
              "    fill: var(--fill-color);\n",
              "    height: 32px;\n",
              "    padding: 0;\n",
              "    width: 32px;\n",
              "  }\n",
              "\n",
              "  .colab-df-quickchart:hover {\n",
              "    background-color: var(--hover-bg-color);\n",
              "    box-shadow: 0 1px 2px rgba(60, 64, 67, 0.3), 0 1px 3px 1px rgba(60, 64, 67, 0.15);\n",
              "    fill: var(--button-hover-fill-color);\n",
              "  }\n",
              "\n",
              "  .colab-df-quickchart-complete:disabled,\n",
              "  .colab-df-quickchart-complete:disabled:hover {\n",
              "    background-color: var(--disabled-bg-color);\n",
              "    fill: var(--disabled-fill-color);\n",
              "    box-shadow: none;\n",
              "  }\n",
              "\n",
              "  .colab-df-spinner {\n",
              "    border: 2px solid var(--fill-color);\n",
              "    border-color: transparent;\n",
              "    border-bottom-color: var(--fill-color);\n",
              "    animation:\n",
              "      spin 1s steps(1) infinite;\n",
              "  }\n",
              "\n",
              "  @keyframes spin {\n",
              "    0% {\n",
              "      border-color: transparent;\n",
              "      border-bottom-color: var(--fill-color);\n",
              "      border-left-color: var(--fill-color);\n",
              "    }\n",
              "    20% {\n",
              "      border-color: transparent;\n",
              "      border-left-color: var(--fill-color);\n",
              "      border-top-color: var(--fill-color);\n",
              "    }\n",
              "    30% {\n",
              "      border-color: transparent;\n",
              "      border-left-color: var(--fill-color);\n",
              "      border-top-color: var(--fill-color);\n",
              "      border-right-color: var(--fill-color);\n",
              "    }\n",
              "    40% {\n",
              "      border-color: transparent;\n",
              "      border-right-color: var(--fill-color);\n",
              "      border-top-color: var(--fill-color);\n",
              "    }\n",
              "    60% {\n",
              "      border-color: transparent;\n",
              "      border-right-color: var(--fill-color);\n",
              "    }\n",
              "    80% {\n",
              "      border-color: transparent;\n",
              "      border-right-color: var(--fill-color);\n",
              "      border-bottom-color: var(--fill-color);\n",
              "    }\n",
              "    90% {\n",
              "      border-color: transparent;\n",
              "      border-bottom-color: var(--fill-color);\n",
              "    }\n",
              "  }\n",
              "</style>\n",
              "\n",
              "  <script>\n",
              "    async function quickchart(key) {\n",
              "      const quickchartButtonEl =\n",
              "        document.querySelector('#' + key + ' button');\n",
              "      quickchartButtonEl.disabled = true;  // To prevent multiple clicks.\n",
              "      quickchartButtonEl.classList.add('colab-df-spinner');\n",
              "      try {\n",
              "        const charts = await google.colab.kernel.invokeFunction(\n",
              "            'suggestCharts', [key], {});\n",
              "      } catch (error) {\n",
              "        console.error('Error during call to suggestCharts:', error);\n",
              "      }\n",
              "      quickchartButtonEl.classList.remove('colab-df-spinner');\n",
              "      quickchartButtonEl.classList.add('colab-df-quickchart-complete');\n",
              "    }\n",
              "    (() => {\n",
              "      let quickchartButtonEl =\n",
              "        document.querySelector('#df-87179c2f-816e-435f-8643-707ef34c358c button');\n",
              "      quickchartButtonEl.style.display =\n",
              "        google.colab.kernel.accessAllowed ? 'block' : 'none';\n",
              "    })();\n",
              "  </script>\n",
              "</div>\n",
              "\n",
              "    </div>\n",
              "  </div>\n"
            ],
            "application/vnd.google.colaboratory.intrinsic+json": {
              "type": "dataframe",
              "variable_name": "df",
              "summary": "{\n  \"name\": \"df\",\n  \"rows\": 308,\n  \"fields\": [\n    {\n      \"column\": \"tabulate\",\n      \"properties\": {\n        \"dtype\": \"number\",\n        \"std\": 40092,\n        \"min\": 1344,\n        \"max\": 309662,\n        \"num_unique_values\": 286,\n        \"samples\": [\n          2454,\n          3793,\n          3368\n        ],\n        \"semantic_type\": \"\",\n        \"description\": \"\"\n      }\n    },\n    {\n      \"column\": \"state\",\n      \"properties\": {\n        \"dtype\": \"number\",\n        \"std\": 0,\n        \"min\": 47,\n        \"max\": 47,\n        \"num_unique_values\": 1,\n        \"samples\": [\n          47\n        ],\n        \"semantic_type\": \"\",\n        \"description\": \"\"\n      }\n    },\n    {\n      \"column\": \"PEMNTVTY\",\n      \"properties\": {\n        \"dtype\": \"number\",\n        \"std\": 125,\n        \"min\": 57,\n        \"max\": 515,\n        \"num_unique_values\": 54,\n        \"samples\": [\n          206\n        ],\n        \"semantic_type\": \"\",\n        \"description\": \"\"\n      }\n    },\n    {\n      \"column\": \"PEMARITL\",\n      \"properties\": {\n        \"dtype\": \"number\",\n        \"std\": 2,\n        \"min\": -1,\n        \"max\": 6,\n        \"num_unique_values\": 7,\n        \"samples\": [\n          6\n        ],\n        \"semantic_type\": \"\",\n        \"description\": \"\"\n      }\n    },\n    {\n      \"column\": \"PESEX\",\n      \"properties\": {\n        \"dtype\": \"number\",\n        \"std\": 0,\n        \"min\": 1,\n        \"max\": 2,\n        \"num_unique_values\": 2,\n        \"samples\": [\n          1\n        ],\n        \"semantic_type\": \"\",\n        \"description\": \"\"\n      }\n    },\n    {\n      \"column\": \"PRCITSHP\",\n      \"properties\": {\n        \"dtype\": \"number\",\n        \"std\": 1,\n        \"min\": 1,\n        \"max\": 5,\n        \"num_unique_values\": 5,\n        \"samples\": [\n          5\n        ],\n        \"semantic_type\": \"\",\n        \"description\": \"\"\n      }\n    },\n    {\n      \"column\": \"GTCBSA\",\n      \"properties\": {\n        \"dtype\": \"number\",\n        \"std\": 7235,\n        \"min\": 16860,\n        \"max\": 34980,\n        \"num_unique_values\": 8,\n        \"samples\": [\n          28700\n        ],\n        \"semantic_type\": \"\",\n        \"description\": \"\"\n      }\n    },\n    {\n      \"column\": \"YYYYMM\",\n      \"properties\": {\n        \"dtype\": \"date\",\n        \"min\": \"2015-10-01 00:00:00\",\n        \"max\": \"2015-10-01 00:00:00\",\n        \"num_unique_values\": 1,\n        \"samples\": [\n          \"2015-10-01 00:00:00\"\n        ],\n        \"semantic_type\": \"\",\n        \"description\": \"\"\n      }\n    }\n  ]\n}"
            }
          },
          "metadata": {},
          "execution_count": 69
        }
      ]
    },
    {
      "cell_type": "code",
      "source": [
        "##How many cities represented for the sigle stateID?\n",
        "#Remark: for 47-TN I got all the cities listed as predicted [17420 28700 27740 32820 34980 17300 16860 28940]\n",
        "print(pd.unique(df['GTCBSA']))"
      ],
      "metadata": {
        "colab": {
          "base_uri": "https://localhost:8080/"
        },
        "id": "9qYAEFH75m3F",
        "outputId": "1c7c5b77-28be-4af0-e2cb-4765dfeb8c2a"
      },
      "id": "9qYAEFH75m3F",
      "execution_count": 70,
      "outputs": [
        {
          "output_type": "stream",
          "name": "stdout",
          "text": [
            "[17420 28700 27740 32820 34980 17300 16860 28940]\n"
          ]
        }
      ]
    },
    {
      "cell_type": "markdown",
      "source": [
        "#class Creation\n",
        "Now we have all we need for our analysis, let's try to reorganize what we build so far into a class called _MixComp_"
      ],
      "metadata": {
        "id": "5INb-cvbMhEJ"
      },
      "id": "5INb-cvbMhEJ"
    },
    {
      "cell_type": "code",
      "source": [
        "class MixComp:\n",
        "  \"\"\"\n",
        "This class will pull the Mix composition about the US population from one state.\n",
        "Code\t    Label\n",
        "tabulate  Counts of instances\n",
        "PEMNTVTY\tDemographics-native country of mother\n",
        "PEMARITL\tDemographics-marital status\n",
        "PESEX\t    Demographics-sex\n",
        "PRCITSHP\tDemographics-United States citizenship group\n",
        "GTCBSA\t  Demographics-city level\n",
        "STATE\t    FIPS STATE Code\n",
        "GTCBSA\t  Demographics-city level\n",
        "\n",
        "  \"\"\"\n",
        "  def __init__(self, stateID, year, month):\n",
        "      self.stateID = stateID\n",
        "      self.year = year\n",
        "      self.month = month\n",
        "      self.dataAPI = None\n",
        "      self.dataText = None\n",
        "      self.data4Df = []\n",
        "      self.df = pd.DataFrame(None) #Will contain the final df(dataframe)\n",
        "\n",
        "  def __str__(self):\n",
        "      return f\"\"\"\n",
        "      Mix Composition of the US population: stateID:={self.stateID}, month={self.month}, year={self.year}\n",
        "      Dataframe head:\n",
        "         {self.df.head(3)}\"\"\"\n",
        "\n",
        "  def __repr__(self):\n",
        "      return f\"MixComp({self.stateID}, {self.year}, {self.month})\"\n",
        "\n",
        "  def __len__(self):\n",
        "      return self.df.shape[0]\n",
        "\n",
        "  def __add__(self, other):\n",
        "      return pd.concat(self.df, other.df, axis=1)\n",
        "\n",
        "  def pull(self):\n",
        "      # download the Demographics_Native_Country_Of_Mother for Mix-Compostion\n",
        "      key = '&key='+'804d0a1a18d1de70764950c78e2a3a42d3d45e48'\n",
        "      self.url = 'https://api.census.gov/data/'+ str(year) +'/cps/basic/'+ month + '?tabulate=weight(PWSSWGT)&row+for&row+PEMNTVTY&row+PEMARITL&row+PESEX&row+PRCITSHP&row+GTCBSA&for=state:' + str(stateID) + key\n",
        "      try:\n",
        "        self.dataAPI = requests.get(self.url)\n",
        "      except requests.exceptions.RequestException as e:\n",
        "          # Handle connection errors or HTTP errors\n",
        "          print(\"STOP ERROR: Tools for Data Science - Semester Project: An error occurred:\\n [[[[\", e, \"]]]]\")\n",
        "      except AttributeError:\n",
        "        print (\"STOP ERROR: Please check your variable name!\")\n",
        "      return f\"\"\"API request Status: {self.dataAPI.status_code}, url: {self.url}\"\"\"\n",
        "\n",
        "  def cleaning(self):\n",
        "      self.dataText = self.dataAPI.text\n",
        "      pattern_cleaning = r'\\[0,.*?\\],?\\n?' #remove the data with no tabulate information (tabulate=0)\n",
        "      self.dataText = re.sub(pattern_cleaning, '', self.dataText)\n",
        "      pattern_cleaning = r'\\n' #remove retunr line\n",
        "      self.dataText = re.sub(pattern_cleaning, '', self.dataText)\n",
        "\n",
        "  def preping(self):\n",
        "      ##Separe cols from data (numbers)\n",
        "      pattern = r'.*?(\\[\"tabulate\".*?\"GTCBSA\"\\]),([\\s\\S]*)'\n",
        "      matches = re.search(pattern, self.dataText)\n",
        "      data_cols = matches.group(1)\n",
        "      data_vals = matches.group(2)[:-1] #removing the last char \"]\" at the end.\n",
        "\n",
        "      data_colsList = re.findall(r'\"(.*?)\"', data_cols) #Transform string_column in List_column\n",
        "\n",
        "      #Transform string_row in List of Lists then Matrix\n",
        "      rows = re.findall(r'\\[(.*?)\\]', data_vals)\n",
        "      for row in rows:\n",
        "        row_list = re.findall(r'-?\\d+(?:\\.\\d+)?', row)\n",
        "        self.data4Df.append([int(elt) for elt in row_list])\n",
        "\n",
        "      #print (rows[1]) #TEST\n",
        "      #print (dataM[1]) #TEST\n",
        "\n",
        "  def buildingDf(self):\n",
        "      \"\"\"\n",
        "      ##Definition of variables:\n",
        "      * tabulate: represents the information related to population counts.\n",
        "      * state: column provides information about the state\n",
        "      1. PEMNTVTY Demographics-native country of mother\n",
        "      2. PEMARITL Demographics-marital status\n",
        "      3. PESEX Demographics-sex\n",
        "      4. PRCITSHP Demographics-United States citizenship group\n",
        "      5. GTCBSA Demographics-city level\n",
        "      We will understand the population composition by state about how mixed it is based on the native country of mothers,\n",
        "      marital status distribution, gender demographics, citizenship status, at the city-level characteristics.\n",
        "      This data can be used to uncover trends, patterns, and insights into the social and cultural fabric of the US population.\n",
        "      \"\"\"\n",
        "      ##Convert the result to the Df **mix_composition**\n",
        "      self.df = pd.DataFrame(self.data4Df, columns=data_colsList)\n",
        "\n",
        "      ##Building the YYYYMM column\n",
        "      from datetime import datetime as dt\n",
        "      self.df['YYYYMM'] = pd.Series([dt.strptime(str(self.year)+ '-' +str(self.month), \"%Y-%b\") for _ in range(self.df.shape[0])])\n",
        "\n",
        "  def main(self):\n",
        "      self.pull()\n",
        "      self.cleaning()\n",
        "      self.preping()\n",
        "      self.buildingDf()\n"
      ],
      "metadata": {
        "id": "pkTeNx4nLZy8"
      },
      "id": "pkTeNx4nLZy8",
      "execution_count": 84,
      "outputs": []
    },
    {
      "cell_type": "markdown",
      "source": [
        "##Let's test the Class MixComp"
      ],
      "metadata": {
        "id": "9QQSyxSd8yJw"
      },
      "id": "9QQSyxSd8yJw"
    },
    {
      "cell_type": "code",
      "source": [
        "stateID = states[1] #47 #range(1-56), without 3, 7, 14, 43\n",
        "year = 2015 # range(2010-2023)\n",
        "month = month_dict[10] #range(1-12)\n",
        "\n",
        "data = MixComp(stateID, year, month)\n",
        "data.pull()\n",
        "print(data)"
      ],
      "metadata": {
        "id": "_IWkgVLw8gwB",
        "outputId": "ca4497a3-f7ed-4220-b14b-dcbd23a1056e",
        "colab": {
          "base_uri": "https://localhost:8080/"
        }
      },
      "id": "_IWkgVLw8gwB",
      "execution_count": 85,
      "outputs": [
        {
          "output_type": "stream",
          "name": "stdout",
          "text": [
            "https://api.census.gov/data/2015/cps/basic/oct?tabulate=weight(PWSSWGT)&row+for&row+PEMNTVTY&row+PEMARITL&row+PESEX&row+PRCITSHP&row+GTCBSA&for=state:47&key=804d0a1a18d1de70764950c78e2a3a42d3d45e48\n",
            "200\n",
            "\n",
            "      Mix Composition of the US population: stateID:=47, month=oct, year=2015\n",
            "      Dataframe head:         \n",
            "         Empty DataFrame\n",
            "Columns: []\n",
            "Index: []\n"
          ]
        }
      ]
    },
    {
      "cell_type": "code",
      "source": [
        "data.cleaning()"
      ],
      "metadata": {
        "id": "s0BdSTc6Ac4M"
      },
      "id": "s0BdSTc6Ac4M",
      "execution_count": 86,
      "outputs": []
    },
    {
      "cell_type": "code",
      "source": [
        "data.preping()"
      ],
      "metadata": {
        "id": "7-iAgJfAAmEW"
      },
      "id": "7-iAgJfAAmEW",
      "execution_count": 87,
      "outputs": []
    },
    {
      "cell_type": "code",
      "source": [
        "data.buildingDf()"
      ],
      "metadata": {
        "id": "AFvLAxzIAqW2"
      },
      "id": "AFvLAxzIAqW2",
      "execution_count": 88,
      "outputs": []
    },
    {
      "cell_type": "code",
      "source": [
        "print(data"
      ],
      "metadata": {
        "id": "03jZG2A5Aulv",
        "outputId": "38fef22a-b632-42f4-de38-6b05db4b592c",
        "colab": {
          "base_uri": "https://localhost:8080/"
        }
      },
      "id": "03jZG2A5Aulv",
      "execution_count": 89,
      "outputs": [
        {
          "output_type": "stream",
          "name": "stdout",
          "text": [
            "\n",
            "      Mix Composition of the US population: stateID:=47, month=oct, year=2015\n",
            "      Dataframe head:         \n",
            "         Empty DataFrame\n",
            "Columns: []\n",
            "Index: []\n"
          ]
        }
      ]
    }
  ],
  "metadata": {
    "kernelspec": {
      "display_name": "Python 3",
      "name": "python3"
    },
    "language_info": {
      "codemirror_mode": {
        "name": "ipython",
        "version": 3
      },
      "file_extension": ".py",
      "mimetype": "text/x-python",
      "name": "python",
      "nbconvert_exporter": "python",
      "pygments_lexer": "ipython3",
      "version": "3.9.13"
    },
    "colab": {
      "provenance": []
    }
  },
  "nbformat": 4,
  "nbformat_minor": 5
}