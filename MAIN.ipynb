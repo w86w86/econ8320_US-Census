{
  "cells": [
    {
      "cell_type": "markdown",
      "id": "b509e99c",
      "metadata": {
        "id": "b509e99c"
      },
      "source": [
        "## Scipy and Optimization"
      ]
    },
    {
      "cell_type": "markdown",
      "id": "81d84e61",
      "metadata": {
        "id": "81d84e61"
      },
      "source": [
        "In the last notebook we took a tour of the `numpy` and `scipy` stack as it relates to math and statistics. This notebook is going to focus on another subset of `scipy` functionality that is absolutely critical to data analytics. Nearly every statistical algorithm aside from Ordinary Least Squares (OLS) regression cannot be solved algebraically. Because they cannot be solved algebraically, they must be solved **numerically**.\n",
        "\n",
        "### Numeric Optimization\n",
        "\n",
        "Let's start with an example of optimization. Let's say that you know the demand function for tickets to watch a local sports franchise. You can write the inverse demand function as\n",
        "\n",
        "$$ P = 300 - \\frac{1}{2}Q $$\n",
        "\n",
        "and the total cost function as\n",
        "\n",
        "$$ TC = 4000 + 45Q $$\n",
        "\n",
        "In order to choose the right number of tickets to sell, you need to calculate the quantity of tickets that will maximize profits. We can calculate total revenue as $ TR = P \\times Q $, and we can calculate profit as $ \\Pi = TR - TC $. This means that our profit function is\n",
        "\n",
        "$$ \\Pi = 300Q - \\frac{1}{2}Q^2 - 4000 - 45Q $$\n",
        "\n",
        "In order to find the $Q$ associated with the highest achievable level of profit, we can use calculus to find the point at which the rate of change in the profit function is zero ($\\frac{\\partial\\Pi}{\\partial Q}=0$).\n",
        "\n",
        "$$ \\frac{\\partial\\Pi}{\\partial Q} = 300 - Q - 45 = 0 \\implies Q = 255$$\n",
        "\n",
        "So we can **algebraically** solve this particular problem. This isn't always the case. Using `scipy`, we can solve this same problem, as well as many algebraically intractable problems that might be more interesting to us.\n"
      ]
    },
    {
      "cell_type": "markdown",
      "id": "c6d805e4",
      "metadata": {
        "id": "c6d805e4"
      },
      "source": [
        "<img src=\"https://github.com/dustywhite7/Econ8320/raw/master/SlidesCode/paraboloid.png\" width=\"200\" height=\"200\" />\n",
        "\n",
        "\n",
        "In any optimization problem, we need to find a way to get ourselves to the minimum, and to know when we get there. When we look at the above image, we are able to visually trace the functional shape (looks like a rainbow ice cream cone to me...) and locate the bottom of the function. What we want to do is utilize an algorithm to \"trace\" our way from an arbitrary starting point within a function to the optimal point in that function.\n",
        "\n",
        "In three or fewer dimensions, this is easy. Regressions and statistical models often live in worlds with 100's or 1000's (even millions sometimes) of dimensions. We can't visualize our way to the bottom of those functions!\n",
        "\n",
        "The class of algorithm that is used to solve these problems is called **gradient descent**.\n",
        "\n",
        "<img src=\"https://github.com/dustywhite7/Econ8320/raw/master/SlidesCode/gradDesc.png\" width=\"400\" />\n",
        "\n",
        "**Gradient descent** is an algorithm that explores the shape of the function, and determines which direction is most likely to lead to the optimal point. Let's focus on minimization. We want to find our way to the *bottom* of a function, and we can use gradient descent to try to get there. Given any starting point, our goal is to check the direction in which we can move downward most quickly, and start moving in that direction. At some distance from our starting point, we will stop and re-evaluate the direction in which we would like to travel. Are we still heading downhill in the steepest direction? If we aren't, then we need to update our behavior.\n",
        "\n",
        "Our gradient descent algorithm will keep \"looking around\" and moving down until it reaches a point at which it can no longer move \"down\" in any meaningful way. That is the stopping point, and is treated as the optimum.\n"
      ]
    },
    {
      "cell_type": "markdown",
      "id": "0af96154",
      "metadata": {
        "id": "0af96154"
      },
      "source": [
        "With an intuitive understanding of how optimization will happen computationally, it's time to learn a bit more about the math and the code that will help us to achieve computational optimization.\n",
        "\n",
        "Consider a function, $f$, with two variables $x$ and $y$. Because there are two input variables in the function, it has two partial derivatives:\n",
        "\n",
        "$$ \\frac{\\partial f}{\\partial x} \\text{ and } \\frac{\\partial f}{\\partial y} $$\n",
        "\n",
        "Each partial derivative tells us how $f$ changes as we move in a particular dimension **all else equal**. The **gradient**, then, is the vector of all partial derivatives of a given function at any point along the function:\n",
        "\n",
        "$$ \\nabla f = \\left[ \\begin{matrix} \\frac{\\partial f}{\\partial x} \\\\ \\\\ \\frac{\\partial f}{\\partial y} \\end{matrix} \\right]  $$\n",
        "\n",
        "We can use the gradient to determine the linear approximation of a function at any given point. Think about the gradient as the mathematical representation of the slope and direction of a hill you are hiking on. If we know the gradient, we know which way is down. As we continue to calculate gradients while walking, we can continue to ensure that we will walk downhill until we reach the bottom of the hill.\n",
        "\n",
        "\n"
      ]
    },
    {
      "cell_type": "markdown",
      "id": "6b3fefac",
      "metadata": {
        "id": "6b3fefac"
      },
      "source": [
        "The steps of our gradient descent function will be the following:\n",
        "\n",
        "- Evaluate the gradient of the function\n",
        "- Find the direction of steepest descent\n",
        "- Determine how far to move in that direction\n",
        "- Move to new point\n",
        "- Reevaluate the gradient\n",
        "- Stop moving when gradient is within a margin of error from 0\n",
        "\n",
        "Let's try to implement gradient descent by solving our old profit maximization problem computationally. The very first thing that we need to do is write a Python function that will represent our mathematical function."
      ]
    },
    {
      "cell_type": "code",
      "execution_count": null,
      "id": "3c641a5e",
      "metadata": {
        "id": "3c641a5e"
      },
      "outputs": [],
      "source": [
        "def profit(q):\n",
        "    p = 300-0.5*q\n",
        "    tr = p*q\n",
        "    tc = 4000 + 45*q\n",
        "    return tr - tc"
      ]
    },
    {
      "cell_type": "markdown",
      "id": "ed1c0514",
      "metadata": {
        "id": "ed1c0514"
      },
      "source": [
        "This function will allow us to calculate profit at any output level based on our assumed total costs and demand curve. With this function, we can quickly calculate the gradient (in this case, just a simple derivative because our function is univariate) by calculating profit at two nearby points, and dividing by the horizontal distance between those points:"
      ]
    },
    {
      "cell_type": "code",
      "execution_count": null,
      "id": "4ef8c0ac",
      "metadata": {
        "id": "4ef8c0ac"
      },
      "outputs": [],
      "source": [
        "# Gradient at q=200\n",
        "\n",
        "(profit(201) - profit(199))/2"
      ]
    },
    {
      "cell_type": "markdown",
      "id": "5e219ac5",
      "metadata": {
        "id": "5e219ac5"
      },
      "source": [
        "    55.0\n",
        "\n",
        "\n",
        "\n",
        "Thus, a one unit increase in output at $Q=200$ results in a $55 increase in profits. This is cool, but it isn't enough for us to find the point of maximum profit (the optimal point). For that, we will need to calculate LOTS of gradients in order to move along the function until we cannot increase profits any further.\n",
        "\n",
        "Fortunately for us, `scipy` comes with optimization tools that will do all of the heavy lifting of the \"search\" for the optimal point. All that we need to do is frame our question algorithmically, and let `scipy` do the rest:"
      ]
    },
    {
      "cell_type": "code",
      "execution_count": null,
      "id": "edaa6713",
      "metadata": {
        "id": "edaa6713"
      },
      "outputs": [],
      "source": [
        "import numpy as np\n",
        "from scipy.optimize import minimize"
      ]
    },
    {
      "cell_type": "markdown",
      "id": "6b4f0c01",
      "metadata": {
        "id": "6b4f0c01"
      },
      "source": [
        "We start by importing the `minimize` function from `scipy.optimize`. Hang on! Weren't we working on a MAXIMIZATION problem?? What are we doing here?\n",
        "\n",
        "Maximization and minimization are the **same thing**. To maximize a function, you can multiply that function by `-1` and then calculate the minimum of the new \"upside-down\" function. It is functionally equivalent. So, in computational optimization, we always minimize.\n",
        "\n",
        "### Prepping for optimization\n",
        "\n",
        "As we prepare to optimize, there are two common problems with our function that we may need to resolve:\n",
        "\n",
        "1) When using `minimize` we can only pass an array of inputs, so we have to be careful to write our function accordingly\n",
        "2) Our problem is concave, and so has a maximum\n",
        "\t- We need to restate it as a minimization problem\n",
        "\n",
        "Problem 1 does not apply, since our function in univariate. In order to make our problem a minimization problem, we can flip our profit maximization function. We will simply return -1 * profit:"
      ]
    },
    {
      "cell_type": "code",
      "execution_count": null,
      "id": "c950291a",
      "metadata": {
        "id": "c950291a"
      },
      "outputs": [],
      "source": [
        "def profit(q):\n",
        "    p = 300-0.5*q\n",
        "    tr = p*q\n",
        "    tc = 4000 + 45*q\n",
        "    pi =  tr - tc # didn't name it profit because that is our function's name! Don't want to clutter our name space!\n",
        "    return -1*pi"
      ]
    },
    {
      "cell_type": "markdown",
      "id": "56b1a329",
      "metadata": {
        "id": "56b1a329"
      },
      "source": [
        "### Making the call to `minimize`\n",
        "\n",
        "Now that our function is ready, it is time to minimize! The `minimize` function takes two arguments:\n",
        "1. Our function that we want to optimize\n",
        "2. A starting guess (as a vector)\n",
        "\n",
        "Let's give it a try."
      ]
    },
    {
      "cell_type": "code",
      "execution_count": null,
      "id": "7d46c4fa",
      "metadata": {
        "id": "7d46c4fa"
      },
      "outputs": [],
      "source": [
        "res = minimize(profit, [0]) # provide function and starting inputs\n",
        "res"
      ]
    },
    {
      "cell_type": "markdown",
      "id": "61532439",
      "metadata": {
        "id": "61532439"
      },
      "source": [
        "          fun: -28512.499999980355\n",
        "     hess_inv: array([[1.00000175]])\n",
        "          jac: array([0.])\n",
        "      message: 'Optimization terminated successfully.'\n",
        "         nfev: 21\n",
        "          nit: 3\n",
        "         njev: 7\n",
        "       status: 0\n",
        "      success: True\n",
        "            x: array([255.00019821])\n",
        "\n",
        "\n",
        "\n",
        "That's it! No calculus, no searching, no checking gradients manually. `minimize` simply takes our function and our starting guess and brings us back the optimal choice. We get lots of information stored in the attributes of the `res` object:\n",
        "\n",
        "- `fun` provides the value of the function (this is -1 times the profit level at the optimal output in our example)\n",
        "- `hess_inv` and `jac` are measures of gradient and are used to determine how far to go and in which direction\n",
        "- `message` should be self-explanatory\n",
        "- `nfev` is the number of times the function (in this case `profit`) was evaluated during the search\n",
        "- `nit` is the number of iterations it took to find the optimum\n",
        "- `njev` is the number of times the Jacobian was estimated\n",
        "- `status` is a code associated with the `message` and `success` atrributes\n",
        "- `success` tells you whether or not an optimum was found (sometimes it cannot be easily found!)\n",
        "- `x` probably the most important attribute. This tells us the optimal input value (in our case $Q$), or set of values depending on our function. In a regression context, this could represent the fitted coefficients!\n",
        "\n",
        "Going forward, you will realize (especially because so many of them print the output as they optimize) just how many libraries in Python use this minimize function behind the scenes. It is used in `statsmodels`, `sklearn`, and many other high-profile libraries! Now that you know where it really happens (in `scipy`!), you'll be better able to troubleshoot the problems that will inevitably arise as you use statistical models."
      ]
    },
    {
      "cell_type": "markdown",
      "id": "4035bfcd",
      "metadata": {
        "id": "4035bfcd"
      },
      "source": [
        "**Solve-it!**\n",
        "\n",
        "In this lesson we learned about optimization using SciPy. For the assignment this week, I would like you to build off of your `RegressionModel` class. You will add a Logistic Regression (Logit) method to your class, so that when the `regression_type` parameter is `logit`, Logistic Regression Results are returned.\n",
        "\n",
        "Your job is to create the following functionality within your class object:\n",
        "- a method (call it `logistic_regression`) that estimates the results of logistic regression using your `x` and `y` data frames, and using a likelihood function and gradient descent (DO NOT USE PREBUILT REGRESSION FUNCTIONS).\n",
        "    - You need to write a function to calculate the Log-likelihood of your model\n",
        "    - You need to implement gradient descent to find the optimal values of beta\n",
        "    - You need to use your beta estimates, the model variance, and calculate the standard errors of the coefficients, as well as Z statistics and p-values\n",
        "    - the results should be stored in a dictionary named `results`, where each variable name (including the intercept if `create_intercept` is `True`) is the key, and the value is another dictionary, with keys for `coefficient`, `standard_error`, `z_stat`, and `p_value`. The coefficient should be the log odds-ratio (which takes the place of the coefficients in OLS)\n",
        "- a method called `fit_model` that uses the `self.regression_type` attribute to determine whether or not to run an OLS or Logistic Regression using the data provided. This method should call the correct regression method.\n",
        "- an updated method (call it `summary`) that presents your regression results in a table\n",
        "    - Columns should be: Variable name, Log odds-ratio value, standard error, z-statistic, and p-value, in that order.\n",
        "    - Your summary table should have different column titles for OLS and Logistic Regressions! (think if statement...)\n",
        "\n",
        "You only need to define the class. My code will create an instance of your class (be sure all the names match these instructions, and those from last week!), and provide data to run a regression. I will provide the same data to you, so that you can experiment and make sure that your code is functioning properly.\n",
        "\n",
        "NOTE: I have created a [primer on Logistic regression](https://github.com/dustywhite7/Econ8320/blob/master/SlidesPDF/9-2%20-%20Logit%20Primer.pdf) to go with this assignment. See the Github slidesPDF folder\n",
        "\n",
        "Put the code that you would like graded in the cell labeled `#si-exercise`. I recommend copying your code from the last assignment (in chapter 9 about linear regression and `numpy`), and continuing from there.\n",
        "\n"
      ]
    },
    {
      "cell_type": "code",
      "execution_count": null,
      "id": "6a146533",
      "metadata": {
        "id": "6a146533"
      },
      "outputs": [],
      "source": [
        "#si-exercise\n",
        "\n",
        "#si-exercise\n",
        "import numpy as np\n",
        "from scipy.stats import t\n",
        "import scipy.stats as stats\n",
        "import pandas as pd\n",
        "from scipy.optimize import minimize\n",
        "\n",
        "class RegressionModel:\n",
        "  \"\"\"\n",
        "  course 10, 10-2\n",
        "  adding Logistic regression to the previous OLS regression\n",
        "  version:4-good\n",
        "  \"\"\"\n",
        "\n",
        "  def __init__(self, x, y, create_intercept=True, regression_type=\"ols\"):\n",
        "    #print (f'****** type of y \\n\\n{y}\\n\\n')\n",
        "    self.x = pd.DataFrame(x)\n",
        "    self.y = y #type(y): <class 'pandas.core.series.Series'> not <class 'pandas.core.frame.DataFrame'>\n",
        "    self.y2 = pd.DataFrame(y)\n",
        "    self.num_obs = len(self.x) #number of observation\n",
        "    _, self.num_vars = x.shape\n",
        "    if isinstance(regression_type, str) and regression_type in [\"ols\",\"logit\"]:\n",
        "      self.regression_type = regression_type\n",
        "    else:\n",
        "      raise RuntimeError(\"Enter ols or logit to processed\")\n",
        "\n",
        "    #>exogenous and endogenous variables labels\n",
        "    self.x_list = list(self.x.columns.values)\n",
        "    self.y_label = y.name\n",
        "    #print (f'y_label = {self.y_label}, x_list = {self.x_list}\\n***********************')\n",
        "\n",
        "    #>convert DataFrame to Matrixes but keep x&y type <class 'pandas.core.frame.DataFrame'> koz unitest\n",
        "    self.add_intercept(create_intercept)\n",
        "    self.x1 = np.array(self.x)\n",
        "    self.y1 = np.array(self.y2)\n",
        "    #print(self.x1)\n",
        "\n",
        "#> Helpful Functions, Begining\n",
        "  def add_intercept(self, create_intercept):\n",
        "    \"\"\"will add a column of ones to the data frame x if create_intercept is True\"\"\"\n",
        "    if create_intercept:\n",
        "      ##> Update Endogenous Variables first elt with <intercept>\n",
        "      self.x_list.append('intercept')\n",
        "      #print (type(self.x_list))\n",
        "      ##> Set beta_0, all 1 in First Column of x\n",
        "      all_1 = pd.DataFrame([1 for i in range(self.num_obs)], columns=['intercept'])\n",
        "      self.x = pd.concat([self.x, all_1], axis=1).reset_index(drop=True)\n",
        "      #update shape\n",
        "      _, self.num_vars = self.x.shape\n",
        "\n",
        "  def inver(self, mat):\n",
        "    \"\"\"inverse of the matrix\"\"\"\n",
        "    return np.linalg.inv(mat)\n",
        "#> Helpful Functions, End\n",
        "\n",
        "  def BetaHat(self):\n",
        "    \"\"\">Solving Beta_hat\n",
        "       >y = x . Beta_hat + E\n",
        "       >Beta_hat = ( x’ x)_inv  x’ y\n",
        "    \"\"\"\n",
        "    xt_x = self.x1.T @ self.x1\n",
        "    xt_y = self.x1.T @ self.y1\n",
        "    self.Beta_hat_M = self.inver(xt_x) @ (xt_y)\n",
        "    self.Beta_hat = list(self.Beta_hat_M.T)[0] #from (5,1) to a list\n",
        "\n",
        "#> Col3 - Begining: standard error\n",
        "  def chat2(self): #chat or shat, sound about the same.\n",
        "    \"\"\"Variance <s**2>  = [ (y - x * B_hat)_tansp * (y - x * B_hat) ] / ( n - k )  \"\"\"\n",
        "    n, k = self.x1.shape\n",
        "    self.df = n - k\n",
        "    res = ((self.y1 - self.x1 @ self.Beta_hat_M).T @ (self.y1 - self.x1 @ self.Beta_hat_M)) / ( self.df)\n",
        "    #print(f'chat2: {res}')\n",
        "    return float(res[0][0])\n",
        "\n",
        "  def varianceOfBeta_hat(self):\n",
        "    #\"\"\" Covariance = chat2 * ( xt * x )_inver \"\"\"\n",
        "    covariance = self.chat2() * ( self.inver( self.x1.T @ self.x1 ) )\n",
        "    return np.diag(covariance)\n",
        "\n",
        "  def std_error(self):\n",
        "    self.stdError = list(np.sqrt(self.varianceOfBeta_hat()))\n",
        "    # https://youtu.be/e8MyE5iRBEA?si=ZaJSQTf36KptTSwT&t=398\n",
        "#> Col3 - End: standard error\n",
        "\n",
        "#> Col4 - Begining: t-statistic\n",
        "  def t_statistic(self):\n",
        "    \"\"\" t =  Beta_hat(j) / stdError(j), each element one-by-one \"\"\"\n",
        "    #self.t_stat =  self.Beta_hat_M / self.stdError\n",
        "    self.t_stat = [Bj / Oj for Bj, Oj in zip(self.Beta_hat, self.stdError)]\n",
        "#> Col4 - End: t-statistic\n",
        "\n",
        "#> Col5 - Begining: p-value\n",
        "  def p_value(self):\n",
        "    \"\"\" p_val =  t.sf ( t_stat , degreeOfFreedom_df) \"\"\"\n",
        "    self.p_val = t.sf (self.t_stat, self.df)\n",
        "#> Col5 - End\n",
        "\n",
        "#> Set the dict for Results\n",
        "  def resultToDict(self):\n",
        "    dfResultsDict = pd.DataFrame({\n",
        "            \"Variable name\"     : self.x_list\n",
        "            ,\"coefficient\": self.Beta_hat\n",
        "            ,\"standard_error\"   : self.stdError\n",
        "            ,\"t_stat\"      : self.t_stat\n",
        "            ,\"p_value\"          : self.p_val\n",
        "                    })\n",
        "    dfResultsDict = dfResultsDict.set_index(\"Variable name\")\n",
        "    self.results = dfResultsDict.transpose().to_dict()\n",
        "\n",
        "#> End of dict Method\n",
        "\n",
        "  def ols_regression(self):\n",
        "    \"\"\" Main method to call\"\"\"\n",
        "    self.BetaHat()\n",
        "    self.varianceOfBeta_hat()\n",
        "    self.std_error()\n",
        "    self.t_statistic()\n",
        "    self.p_value()\n",
        "    self.resultToDict()\n",
        "\n",
        "  #############################################################\n",
        "  ##\n",
        "  ## Exo - 10,\n",
        "  ##\n",
        "  ##############################################################\n",
        "\n",
        "  def fit_model(self):\n",
        "    if self.regression_type == 'ols':\n",
        "      self.ols_regression()\n",
        "    elif self.regression_type == 'logit':\n",
        "      self.logistic_regression()\n",
        "\n",
        "##-- end ex 10\n",
        "\n",
        "\n",
        "  def summary_ols(self):\n",
        "    #for OLS\n",
        "    \"\"\"Will display the summary of all feature of the Multi dimension Regression\"\"\"\n",
        "    dfResults = pd.DataFrame({\n",
        "                    \"Variable name\"     : self.x_list\n",
        "                    ,\"coefficient value\": self.Beta_hat\n",
        "                    ,\"standard error\"   : self.stdError\n",
        "                    ,\"t-statistic\"      : self.t_stat\n",
        "                    ,\"p-value\"          : self.p_val\n",
        "                           })\n",
        "    print(f'\"\\n-------- Summary --------\\n\"{dfResults}')\n",
        "\n",
        "  def logistic_regression(self):\n",
        "    def loglike(b, y, x):\n",
        "      #print(f'A) shapes x: {x.shape}, shapes y: {y.shape} and b:{b}')\n",
        "      #print(f'A1) y.iloc[5] [{y.loc[5]}]')\n",
        "      gamma = np.exp( x @ b) / (1 + np.exp( x @ b))\n",
        "      #print (f'B) gamma.shape: {gamma.shape}')\n",
        "      ll = -1 * sum(yi * np.log(gi) + (1 - yi) * np.log(1 - gi) \\\n",
        "                    for yi,gi in zip(np.array(y).ravel(), gamma))\n",
        "      return ll\n",
        "\n",
        "    #b=[0.086] * (self.num_vars)\n",
        "    b = np.full((self.num_vars), 0.1)\n",
        "    y=self.y2\n",
        "    x=self.x\n",
        "\n",
        "    betas = minimize(loglike, b, args=(y,x)).x  ; self.Beta_hat = betas\n",
        "\n",
        "    ## Others dependant results\n",
        "    shat2 = self.num_obs * np.mean(y) * (1-np.mean(y))\n",
        "    cov = shat2 * np.linalg.inv(self.x.T @ self.x)\n",
        "    variances = cov.diagonal()\n",
        "    self.stdError = np.sqrt(np.diag(cov))\n",
        "    self.zScores = betas / self.stdError\n",
        "    self.p_val = stats.norm.sf(np.abs(self.zScores)) * 2\n",
        "\n",
        "    self.results = {}\n",
        "    variable_names = self.x.columns\n",
        "    for i, name in enumerate(variable_names):\n",
        "      self.results[name] = {\n",
        "        'coefficient': betas[i],\n",
        "        'standard_error': self.stdError[i],\n",
        "        'z_stat': self.zScores[i],\n",
        "        'p_value': self.p_val[i]\n",
        "      }\n",
        "\n",
        "    #print(self.results)\n",
        "\n",
        "  def summary(self):\n",
        "    if  self.regression_type == 'logit':\n",
        "      dfResults = pd.DataFrame({\n",
        "                      \"Variable name\"     : self.x_list\n",
        "                      ,\"coefficient value\": self.Beta_hat\n",
        "                      ,\"standard error\"   : self.stdError\n",
        "                      ,\"z-statistic\"      : self.zScores\n",
        "                      ,\"p-value\"          : self.p_val\n",
        "                            })\n",
        "    elif self.regression_type == 'ols':\n",
        "      dfResults = pd.DataFrame({\n",
        "                    \"Variable name\"     : self.x_list\n",
        "                    ,\"coefficient value\": self.Beta_hat\n",
        "                    ,\"standard error\"   : self.stdError\n",
        "                    ,\"t-statistic\"      : self.t_stat\n",
        "                    ,\"p-value\"          : self.p_val\n",
        "                           })\n",
        "    print(f'\"\\n-------- Summary --------\\n\"{dfResults}')"
      ]
    },
    {
      "cell_type": "code",
      "source": [
        "\n",
        "## testing my code\n",
        "data = pd.read_csv(\"assignment8Data_2.csv\")\n",
        "x = data.loc[:100, ['sex','age','educ']]\n",
        "y = data.loc[:100, 'white']\n",
        "\n",
        "#reg = RegressionModel(x, y, True, 'ols')\n",
        "reg = RegressionModel(x, y, True, 'logit')\n",
        "reg.fit_model()\n",
        "reg.summary()"
      ],
      "metadata": {
        "colab": {
          "base_uri": "https://localhost:8080/"
        },
        "id": "IgkwwiwAQnzA",
        "outputId": "6c78f0dd-96af-4b84-a226-44577b51194b"
      },
      "id": "IgkwwiwAQnzA",
      "execution_count": null,
      "outputs": [
        {
          "output_type": "stream",
          "name": "stdout",
          "text": [
            "\"\n",
            "-------- Summary --------\n",
            "\"  Variable name  coefficient value  standard error  z-statistic       p-value\n",
            "0           sex          -1.122915        0.397988    -2.821482  4.780229e-03\n",
            "1           age          -0.007013        0.010836    -0.647167  5.175242e-01\n",
            "2          educ          -0.046486        0.101003    -0.460246  6.453399e-01\n",
            "3     intercept           5.735443        1.126621     5.090837  3.564855e-07\n"
          ]
        }
      ]
    },
    {
      "cell_type": "markdown",
      "source": [
        "      sex = {'coefficient': -1.1229156890097627,\n",
        "      'standard_error': 0.39798772782618025,\n",
        "      'z_stat': -2.821483202869492,\n",
        "      'p_value': 0.004780214077269219}\n",
        "      age = {'coefficient': -0.007012518056833769,\n",
        "      'standard_error': 0.010835821823286998,\n",
        "      'z_stat': -0.6471607019011091,\n",
        "      'p_value': 0.5175279421902776}\n",
        "      educ = {'coefficient': -0.046485475816343394,\n",
        "      'standard_error': 0.10100278092776117,\n",
        "      'z_stat': -0.46023956359766527,\n",
        "      'p_value': 0.6453442758780246}\n",
        "      intercept = {'coefficient': 5.735435005488546,\n",
        "      'standard_error': 1.1266207023561843,\n",
        "      'z_stat': 5.090830475148922,\n",
        "      'p_value': 3.56498650369634e-07}"
      ],
      "metadata": {
        "id": "D567EAu6mNuZ"
      },
      "id": "D567EAu6mNuZ"
    },
    {
      "cell_type": "code",
      "source": [
        "a = [0]*4\n",
        "b = np.zeros(4,int)\n",
        "b.shape\n",
        "np.array(a)"
      ],
      "metadata": {
        "id": "fz95Mv_sRdH4"
      },
      "id": "fz95Mv_sRdH4",
      "execution_count": null,
      "outputs": []
    },
    {
      "cell_type": "code",
      "source": [
        "## testing my code\n",
        "\n",
        "import numpy as np\n",
        "from scipy.stats import t\n",
        "import pandas as pd\n",
        "\n",
        "data = pd.read_csv(\"assignment8Data_2.csv\")\n",
        "\n",
        "x = data.loc[:100, ['sex','age','educ']]\n",
        "y = data.loc[:100, 'white']\n",
        "\n",
        "reg = RegressionModel(x, y, True, 'logit')\n",
        "reg.fit_model()\n"
      ],
      "metadata": {
        "colab": {
          "base_uri": "https://localhost:8080/"
        },
        "id": "H_3s7R8fNMwY",
        "outputId": "ac14d201-e239-4a3d-c54b-6fdfd84618a8"
      },
      "id": "H_3s7R8fNMwY",
      "execution_count": null,
      "outputs": [
        {
          "output_type": "stream",
          "name": "stdout",
          "text": [
            "betas\n"
          ]
        }
      ]
    }
  ],
  "metadata": {
    "kernelspec": {
      "display_name": "Python 3 (ipykernel)",
      "language": "python",
      "name": "python3"
    },
    "language_info": {
      "codemirror_mode": {
        "name": "ipython",
        "version": 3
      },
      "file_extension": ".py",
      "mimetype": "text/x-python",
      "name": "python",
      "nbconvert_exporter": "python",
      "pygments_lexer": "ipython3",
      "version": "3.9.13"
    },
    "colab": {
      "provenance": []
    }
  },
  "nbformat": 4,
  "nbformat_minor": 5
}