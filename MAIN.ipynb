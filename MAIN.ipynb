{
  "cells": [
    {
      "cell_type": "markdown",
      "metadata": {
        "id": "view-in-github",
        "colab_type": "text"
      },
      "source": [
        "<a href=\"https://colab.research.google.com/github/w86w86/econ8320_US-Census/blob/main/MAIN.ipynb\" target=\"_parent\"><img src=\"https://colab.research.google.com/assets/colab-badge.svg\" alt=\"Open In Colab\"/></a>"
      ]
    },
    {
      "cell_type": "markdown",
      "source": [
        "##Call the API with my variables for my research"
      ],
      "metadata": {
        "id": "Nu7m15GcZfnS"
      },
      "id": "Nu7m15GcZfnS"
    },
    {
      "cell_type": "markdown",
      "source": [
        "> List of some states \"46 SD\", \"47 TN\",\"10 DE\", \"2 AK\",\"5 AR\",\"24 MD\",\"31 NE\"\n",
        "\n",
        "CBSA:\n",
        "\n",
        "\"46 SD\",\n",
        "* \"43620 Sioux Falls, SD\",\n",
        "\n",
        "\"47 TN\"\n",
        "* \"16860 Chattanooga, TN-GA\",\n",
        "* \"28940 Knoxville, TN\",\n",
        "* \"34980\": \"Nashville-Davidson--Murfreesboro--Franklin, TN\",\n",
        "* \"28700\": \"Kingsport-Bristol-Bristol, TN-VA\",\n",
        "* \"32820\": \"Memphis, TN-MS-AR\",\n",
        "* \"17300\": \"Clarksville, TN-KY\",\n",
        "* \"27740\": \"Johnson City, TN\",\n",
        "* \"17420\": \"Cleveland, TN\",\n",
        "\n",
        "\"10 DE\"\n",
        "* \"20100 Dover, DE\",\n",
        "* \"428\": \"Philadelphia-Reading-Camden, PA-NJ-DE-MD\",\n",
        "* \"41540\": \"Salisbury, MD-DE\",\n",
        "*\n",
        "* 0 city for \"2 AK\"\n",
        "\n",
        "\"5 AR\",\n",
        "* \"22900 Fort Smith, AR-OK\",\n",
        "* \"30780 Little Rock-North Little Rock-Conway, AR\",\n",
        "* \"22220 Fayetteville-Springdale-Rogers, AR-MO\",\n",
        "* \"38220 Pine Bluff, AR\",\n",
        "* \"32820 Memphis, TN-MS-AR\",\n",
        "*\n",
        "\"24 MD\",\n",
        "* \"25180\": \"Hagerstown-Martinsburg, MD-WV\",\n",
        "* \"428\": \"Philadelphia-Reading-Camden, PA-NJ-DE-MD\",\n",
        "* \"12580\": \"Baltimore-Columbia-Towson, MD\",\n",
        "* \"37980\": \"Philadelphia-Camden-Wilmington, PA-NJ-DE-MD\",\n",
        "* \"15680\": \"California-Lexington Park, MD\",\n",
        "* \"41540\": \"Salisbury, MD-DE\","
      ],
      "metadata": {
        "id": "MiS6CIJ8WuA8"
      },
      "id": "MiS6CIJ8WuA8"
    },
    {
      "cell_type": "markdown",
      "source": [
        "##CONSTANTES"
      ],
      "metadata": {
        "id": "Wf-TQOlWDpR-"
      },
      "id": "Wf-TQOlWDpR-"
    },
    {
      "cell_type": "code",
      "source": [
        "# (10) IMPORT LIBRARY\n",
        "import requests\n",
        "import pandas as pd\n",
        "import regex as re\n",
        "import time\n",
        "from datetime import datetime as dt\n",
        "import json\n",
        "import logging"
      ],
      "metadata": {
        "id": "IWRGDOLjvDDP"
      },
      "id": "IWRGDOLjvDDP",
      "execution_count": null,
      "outputs": []
    },
    {
      "cell_type": "code",
      "source": [
        "from google.colab import drive\n",
        "drive.mount('/content/gdrive')"
      ],
      "metadata": {
        "colab": {
          "base_uri": "https://localhost:8080/"
        },
        "id": "ON5Q2cNbslbX",
        "outputId": "1ef65c30-7dd3-4f8f-e13a-d182ef2d83d2"
      },
      "id": "ON5Q2cNbslbX",
      "execution_count": null,
      "outputs": [
        {
          "output_type": "stream",
          "name": "stdout",
          "text": [
            "Drive already mounted at /content/gdrive; to attempt to forcibly remount, call drive.mount(\"/content/gdrive\", force_remount=True).\n"
          ]
        }
      ]
    },
    {
      "cell_type": "code",
      "source": [
        "# (20) CONSTANTES\n",
        "\n",
        "#Dict of all states\n",
        "#all_states = requests.get('https://api.census.gov/data/2024/cps/basic/jan/variables.json')\n",
        "#states = json.loads(all_states.text)\n",
        "#states_dict = states['variables']['STATE']['values']['item']\n",
        "#states = [state for state in states_dict.keys()]\n",
        "\n",
        "#All year of the study\n"
      ],
      "metadata": {
        "id": "uB5R3hshb3YQ"
      },
      "id": "uB5R3hshb3YQ",
      "execution_count": null,
      "outputs": []
    },
    {
      "cell_type": "markdown",
      "source": [
        "###(10) CLASS API"
      ],
      "metadata": {
        "id": "UfTbNpBzVvFH"
      },
      "id": "UfTbNpBzVvFH"
    },
    {
      "cell_type": "code",
      "source": [
        "# (30) CLASS API and Decorator [log_activity2]\n",
        "\n",
        "def log_activity2(func):\n",
        "    def wrapper(*args, **kwargs):\n",
        "        gdrivePath='/content/gdrive/MyDrive/project/'\n",
        "        # Create a logger\n",
        "        logger = logging.getLogger('activity_logger')\n",
        "        logger.setLevel(logging.INFO)\n",
        "\n",
        "        # Create a file handler and set the logging format\n",
        "        file_handler = logging.FileHandler(gdrivePath + 'activity.log')\n",
        "        formatter = logging.Formatter('%(asctime)s - %(levelname)s - %(message)s')\n",
        "        file_handler.setFormatter(formatter)\n",
        "\n",
        "        # Add the file handler to the logger\n",
        "        logger.addHandler(file_handler)\n",
        "\n",
        "        # Log the activity before calling the wrapped function\n",
        "        logger.info(f'Activity: {func.__name__}')\n",
        "\n",
        "        # Call the wrapped function\n",
        "        return func(*args, **kwargs)\n",
        "\n",
        "    return wrapper\n",
        "\n",
        "\n",
        "class API:\n",
        "  \"\"\"This generic class API will handle at once all request to the CPS api\n",
        "  How to?:\n",
        "  > instanciate a variable at once, then use it to browse through all variables (not data) on the Census API json file\n",
        "  > example api:    api=API()\n",
        "\n",
        "  Properties:\n",
        "  > allVars_dict (variable): a dict of all variables for each 'year' (key)\n",
        "  > examples:\n",
        "    - api.allVars_dict[2023]        * to se all the variables (dict) in 2023\n",
        "    - 'GTCBSA' in api.allVars_dict[2024].keys() *                is <GTCBSA> in 2024?\n",
        "    - api.allState_dict[2021]       * all stateID:description in year 2021\"\"\"\n",
        "\n",
        "  def __init__(self) -> None:\n",
        "    self.get()\n",
        "\n",
        "  @log_activity2\n",
        "  def get(self):\n",
        "    self.allVars_dict = {year_: year_vars for year_, year_vars in \\\n",
        "            zip(self.allYearList(), [json.loads(requests.get('https://api.census.gov/data/'+ str(year_) +'/cps/basic/jan/variables.json').text)['variables'] for year_ in self.allYearList()])}\n",
        "\n",
        "  def store(self):\n",
        "    pass\n",
        "\n",
        "  @log_activity2\n",
        "  def allStatesIdList(self, year:int=2020):\n",
        "    return list(map(int, self.allVars_dict[year]['GESTFIPS']['values']['item'].keys())) #convert in int\n",
        "\n",
        "  @log_activity2\n",
        "  def allMonthList3TLA(self):\n",
        "    month_dict = {1:\"jan\",2:\"feb\",3:\"mar\",4:\"apr\",5:\"may\",6:\"jun\",7:\"jul\",8:\"aug\",9: \"sep\",10: \"oct\",11:\"nov\",12:\"dec\"}\n",
        "    #return next(key for key, value in month_dict.items() if value == m)\n",
        "    return list(month_dict.values())\n",
        "\n",
        "  def allYearList(self):\n",
        "    return range(2010, 1+dt.now().year)\n",
        "\n",
        "  @log_activity2\n",
        "  def getVarsNameFromUrl(self, url):\n",
        "    return re.findall(r'([A-Z]+)', url)\n",
        "\n",
        "\n",
        "api=API()"
      ],
      "metadata": {
        "colab": {
          "base_uri": "https://localhost:8080/"
        },
        "id": "3AkeD9fuuu7V",
        "outputId": "1be10b7d-327b-4a05-ea29-28ef0ab491ed"
      },
      "id": "3AkeD9fuuu7V",
      "execution_count": null,
      "outputs": [
        {
          "output_type": "stream",
          "name": "stderr",
          "text": [
            "INFO:activity_logger:Activity: get\n"
          ]
        }
      ]
    },
    {
      "cell_type": "markdown",
      "source": [
        "###(20) CLASS FileCompMix:"
      ],
      "metadata": {
        "id": "ecfQhoBJw4Me"
      },
      "id": "ecfQhoBJw4Me"
    },
    {
      "cell_type": "code",
      "source": [
        "class FileCompMix:\n",
        "  \"\"\"This class will track the which State Year and Month has already been processed\n",
        "  so we are ending up re-download the same file, knowing that we have close to 10,000 calls\n",
        "  to make with an average of 2.50 secs = ~ 7 hours in total.\n",
        "\n",
        "  Hou to?:\n",
        "  > track = FileCompMix(filename [optional])\n",
        "        - if filename contains any char then the class will generate a new fileName_%m%d-%H%M%.\n",
        "        - defaut is   ' MixCompStatus.csv '\n",
        "  > two main methods:\n",
        "        - track.record_state_of_state_year_month()   *   to store the info\n",
        "        - track.is_record_state_of_state_year_month  *   to check if elt exist already\n",
        "  \"\"\"\n",
        "  def __init__(self, fileName='', gdrivePath='/content/gdrive/MyDrive/project/') -> None:\n",
        "    if not len(fileName) == 0:\n",
        "      fileName  = dt.now().strftime(\"_%m%d-%H%M%S\")\n",
        "    self.gdrivePath = gdrivePath\n",
        "    self.track_file = self.gdrivePath + 'MixCompStatus' + fileName + \".csv\"\n",
        "    self.set_df()\n",
        "    self.eltInFileList = [list(i) for i in self.df.values]\n",
        "\n",
        "\n",
        "  def set_df(self):\n",
        "    try:\n",
        "      self.df = pd.read_csv(self.track_file, header=None)\n",
        "    except Exception as e:\n",
        "      self.df = pd.DataFrame([])\n",
        "    self.hasCSVdata = self.df.shape[0]\n",
        "\n",
        "  def numberOfelement(self):\n",
        "    return self.df.shape[0]\n",
        "\n",
        "  def record_state_of_state_year_month(self, element):\n",
        "    self.df = pd.concat([self.df, pd.DataFrame([element])], ignore_index=True)\n",
        "    #print (f'__record_state_of_state_year_month__ len: {self.df.shape[0]}')\n",
        "    self.df.to_csv(self.track_file, mode='w', header=False, index=False) #not mode='a'\n",
        "    self.hasCSVdata = True\n",
        "\n",
        "  def is_record_state_of_state_year_month(self, element):\n",
        "    if not self.hasCSVdata:\n",
        "      #print ('--------------------------------#1F File emply, so will add')\n",
        "      return False\n",
        "    else:\n",
        "      #print('______________________')\n",
        "      #print(f'------- element: {element}')\n",
        "      #print(f'------- self.eltInFileList: {self.eltInFileList}')\n",
        "      #print('______________________')\n",
        "      if (list(element) in self.eltInFileList):\n",
        "        #print ('--------------------------------#2T elt already there, so not added, skipped')\n",
        "        return True\n",
        "      #print ('--------------------------------#3F, so will add')\n",
        "      return False"
      ],
      "metadata": {
        "id": "HfEeo6dFzYCL"
      },
      "id": "HfEeo6dFzYCL",
      "execution_count": null,
      "outputs": []
    },
    {
      "cell_type": "markdown",
      "source": [
        "###(40) CLASS MIXCOMP"
      ],
      "metadata": {
        "id": "nZpi3PtBwkHG"
      },
      "id": "nZpi3PtBwkHG"
    },
    {
      "cell_type": "code",
      "source": [
        "# (40) CLASS MIXCOMP\n",
        "#Decorator to track API response time\n",
        "def track_response_time(func):\n",
        "    def wrapper(self, *args, **kwargs):\n",
        "        start_time = time.time()\n",
        "        result = func(self, *args, **kwargs)\n",
        "        end_time = time.time()\n",
        "        response_time = end_time - start_time\n",
        "        self.response_time = response_time  # Store in the class\n",
        "        print(f\"Function: '{func.__name__}()'. Census API query took: {response_time} seconds\")\n",
        "        return result\n",
        "    return wrapper\n",
        "\n",
        "\n",
        "#Class for unit-request (specific State, specific Year, specific Month)\n",
        "class MixComp:\n",
        "  \"\"\"\n",
        "This class will pull the Mix composition about the US population from one state.\n",
        "Code\t    Label\n",
        "tabulate  Counts of instances\n",
        "PEMNTVTY\tDemographics-native country of mother\n",
        "PEMARITL\tDemographics-marital status\n",
        "PESEX\t    Demographics-sex\n",
        "PRCITSHP\tDemographics-United States citizenship group\n",
        "GTCBSA\t  Demographics-city level\n",
        "STATE\t    FIPS STATE Code\n",
        "GTCBSA\t  Demographics-city level\n",
        "\n",
        "  \"\"\"\n",
        "  def __init__(self, stateID, year, month):\n",
        "      key = '&key='+'804d0a1a18d1de70764950c78e2a3a42d3d45e48'\n",
        "      self.url = 'https://api.census.gov/data/'+ str(year) +'/cps/basic/'+ month + '?tabulate=weight(PWSSWGT)&row+for&row+PEMNTVTY&row+PEMARITL&row+PESEX&row+PRCITSHP&row+GTCBSA&for=state:' + str(stateID) + key\n",
        "      self.gdrivePath='/content/gdrive/MyDrive/project/'\n",
        "      self.activityLog = self.gdrivePath + 'activity.log'\n",
        "      self.stateID = stateID\n",
        "      self.year = year\n",
        "      self.month = month\n",
        "      self.response_time = 0 # how long the API took to run on Census CPS\n",
        "      self.dataAPI = None\n",
        "      self.dataText = None\n",
        "      self.data4Df = []\n",
        "      self.df = pd.DataFrame(None) #Will contain the final df(dataframe)\n",
        "      self.initLogger()\n",
        "\n",
        "  def initLogger(self):\n",
        "      # Create a logger\n",
        "      self.logger = logging.getLogger('activity_logger')\n",
        "      self.logger.setLevel(logging.INFO)\n",
        "      # Create a file handler and set the logging format\n",
        "      file_handler = logging.FileHandler(self.activityLog)\n",
        "      formatter = logging.Formatter('%(asctime)s - %(levelname)s - [w86] %(message)s')\n",
        "      file_handler.setFormatter(formatter)\n",
        "      # Add the file handler to the logger\n",
        "      self.logger.addHandler(file_handler)\n",
        "\n",
        "  def __str__(self):\n",
        "      return f\"\"\"\n",
        "      Mix Composition of the US population: stateID:={self.stateID}, month={self.month}, year={self.year}\n",
        "      Dataframe head:\n",
        "         {self.df.head(3)}\"\"\"\n",
        "\n",
        "  def __repr__(self):\n",
        "      return f\"MixComp({self.stateID}, {self.year}, {self.month})\"\n",
        "\n",
        "  def __len__(self):\n",
        "      return self.df.shape[0]\n",
        "\n",
        "  def __add__(self, other):\n",
        "      return pd.concat([self.df, other.df], axis=0)\n",
        "\n",
        "  # to convert in class\n",
        "  def checkVariable(self, year, url):\n",
        "      \"\"\"\n",
        "      this function will check if a set of variables are declared on the Census API. Using the an url as input. Vars are in ALL_CAPS\n",
        "      \"\"\"\n",
        "      api=API()\n",
        "      api.get()\n",
        "      matches = api.getVarsNameFromUrl(url)\n",
        "      cps_vars = api.allVars_dict[year].keys()\n",
        "      res = dict()\n",
        "      for var in matches:\n",
        "        res[var] = True if var in cps_vars else False\n",
        "      res['status'] = all([status for status in res.values()])\n",
        "      return res\n",
        "\n",
        "  @track_response_time\n",
        "  def get(self):\n",
        "\n",
        "      #This section will validate all variables and replace the city's with the right one if year>=2024\n",
        "#      check = self.checkVariable(self.year, self.url)\n",
        "#      print (f\"checkVariable() = {check}\")\n",
        "#      if not check['status']:\n",
        "#        print(f\"BEFORE - Variables = {check}\")\n",
        "#        if (self.year>=2024) and ('CBSA' not in check.keys()): #before 2024, City variable in 'GTCBSA', starting on 2024, City variable was 'CBSA'\n",
        "#          self.url = re.sub('GTCBSA', 'CBSA', self.url)\n",
        "#          print(f\"AFTER -  Variables = {self.checkVariable(self.year, self.url)}\\nNew URL: {self.url}\")\n",
        "#        else:\n",
        "#          raise(f\"Please check all your Census variables. Unable to find some in the API call. Variables = {check}\")\n",
        "\n",
        "      try:\n",
        "        # download the Demographics_Native_Country_Of_Mother for Mix-Compostion\n",
        "        self.dataAPI = requests.get(self.url)\n",
        "        res = dict({'response time in secs': round(self.response_time,2), 'status': True if 200==self.dataAPI.status_code else False, 'code':self.dataAPI.status_code, 'comment': 'url:' + self.url})\n",
        "        self.logger.info(f'> Return dict: [[[[ {res} ]]]]')\n",
        "        return res\n",
        "\n",
        "      except requests.exceptions.RequestException as e:\n",
        "          # Handle connection errors or HTTP errors\n",
        "          #raise(\"STOP ERROR: Tools for Data Science - Semester Project: An error occurred:\\n [[[[\", e, \"]]]]\")\n",
        "          self.logger.info(f'> STOP ERROR: Tools for Data Science - Semester Project: An error occurred:\\n [[[[ {e} ]]]]')\n",
        "          self.logger.info(f'> Skipped !!')\n",
        "      except AttributeError:\n",
        "          self.logger.info(f'> STOP ERROR: Please check your variable name!')\n",
        "\n",
        "  def cleaning(self):\n",
        "      self.dataText = self.dataAPI.text\n",
        "      pattern_cleaning = r'\\[0,.*?\\],?\\n?' #remove the data with no tabulate information (tabulate=0)\n",
        "      self.dataText = re.sub(pattern_cleaning, '', self.dataText)\n",
        "      pattern_cleaning = r'\\n' #remove retunr line\n",
        "      self.dataText = re.sub(pattern_cleaning, '', self.dataText)\n",
        "      self.logger.info(f'> Cleaning dataAPI but removing data with no tabulate information (tabulate=0)')\n",
        "\n",
        "  def preping(self):\n",
        "      ##Separe cols from data (numbers)\n",
        "      pattern = r'.*?(\\[\"tabulate\".*?\"GTCBSA\"\\]),([\\s\\S]*)'\n",
        "      matches = re.search(pattern, self.dataText)\n",
        "      data_cols = matches.group(1)\n",
        "      data_vals = matches.group(2)[:-1] #removing the last char \"]\" at the end.\n",
        "\n",
        "      self.data_cols = re.findall(r'\"(.*?)\"', data_cols) #Transform string_column in List_column\n",
        "\n",
        "      #Transform string_row in List of Lists then Matrix\n",
        "      rows = re.findall(r'\\[(.*?)\\]', data_vals)\n",
        "      for row in rows:\n",
        "        row_list = re.findall(r'-?\\d+(?:\\.\\d+)?', row)\n",
        "        self.data4Df.append([int(elt) for elt in row_list])\n",
        "\n",
        "      self.logger.info(f'> len(self.data4Df): {len(self.data4Df)}')\n",
        "\n",
        "  def buildingDf(self):\n",
        "      \"\"\"\n",
        "      ##Definition of variables:\n",
        "      * tabulate: represents the information related to population counts.\n",
        "      * state: column provides information about the state\n",
        "      1. PEMNTVTY Demographics-native country of mother\n",
        "      2. PEMARITL Demographics-marital status\n",
        "      3. PESEX Demographics-sex\n",
        "      4. PRCITSHP Demographics-United States citizenship group\n",
        "      5. GTCBSA Demographics-city level\n",
        "      We will understand the population composition by state about how mixed it is based on the native country of mothers,\n",
        "      marital status distribution, gender demographics, citizenship status, at the city-level characteristics.\n",
        "      This data can be used to uncover trends, patterns, and insights into the social and cultural fabric of the US population.\n",
        "      \"\"\"\n",
        "      ##Convert the result to the Df **mix_composition**\n",
        "      self.df = pd.DataFrame(self.data4Df, columns=self.data_cols)\n",
        "\n",
        "      ##Building the YYYYMM column\n",
        "      self.df['YYYYMM'] = pd.Series([dt.strptime(str(self.year)+ '-' +str(self.month), \"%Y-%b\") for _ in range(self.df.shape[0])])\n",
        "\n",
        "      self.logger.info(f'> Built Dataframe for stateiD:{self.stateID}, YYYYMM:{str(self.year)}-{str(self.month)}')\n",
        "\n",
        "  def save(self, file=''):\n",
        "      try:\n",
        "        if file == '':\n",
        "          stateID = '0'+ str(self.stateID) if len(str(self.stateID))<2 else str(self.stateID) #fixing stateID in 2 digits\n",
        "          file = str(self.year)+'-'+ str(self.month)+'-'+ str(stateID)+'-MixComp.csv'\n",
        "        r = self.df.to_csv( self.gdrivePath + file, index=False)\n",
        "        self.logger.info(f'> Created CSV file: {file}')\n",
        "        return r\n",
        "      except FileNotFoundError:\n",
        "        raise (f'Check the path {file} of the file')\n",
        "        self.logger.info(f'> Check the path {file} of the file')\n",
        "        self.logger.info(f'> Skipped {file} creation')\n",
        "\n",
        "  def build(self):\n",
        "      self.logger.info(f\"> {'v'*60}\")\n",
        "      self.logger.info(f'> Called main(self) method - Entrance')\n",
        "      self.logger.info(f'> Input Variables = stateID:{self.stateID},year:{self.year},month:{self.month}, self.url: {self.url}')\n",
        "\n",
        "      self.logger.info(f'> Called main(self) - get() method - Will take some time usually 3-5min')\n",
        "      url_call = self.get()\n",
        "      self.logger.info(f'Called main(self) - line: get() method - Result:{url_call}')\n",
        "\n",
        "      try:\n",
        "        if url_call['status']:\n",
        "          self.cleaning()\n",
        "          self.preping()\n",
        "          self.buildingDf(); self.logger.info(f'> Called main(self) - buildingDf() method')\n",
        "\n",
        "          self.logger.info(f'> Called main(self) - save() method')\n",
        "          self.save()\n",
        "        else:\n",
        "          self.logger.info(f\"> Error during URL call, Code return: {url_call['code']}, Skipped !!\")\n",
        "      except Exception as e:\n",
        "        self.logger.info(f\"> Error during URL call, Code return was undefinied, Skipped !!\")\n",
        "      self.logger.info(f'> Called main(self) method - End')\n",
        "      self.logger.info(f\"> {'^'*60}\")\n"
      ],
      "metadata": {
        "id": "pkTeNx4nLZy8"
      },
      "id": "pkTeNx4nLZy8",
      "execution_count": null,
      "outputs": []
    },
    {
      "cell_type": "markdown",
      "source": [
        "###(60) CORE"
      ],
      "metadata": {
        "id": "FaDs85AMwyIy"
      },
      "id": "FaDs85AMwyIy"
    },
    {
      "cell_type": "code",
      "source": [
        "# (60 - 2) Going through All Months at once\n",
        "from itertools import product\n",
        "import random\n",
        "\n",
        "# Serialize (9180 in tot :( wow )\n",
        "#state_year_month = list( map( list, product(\n",
        "#                                api.allStatesIdList(),\n",
        "#                                api.allYearList(),\n",
        "#                                api.allMonthList3TLA()) ) )\n",
        "\n",
        "state_year_month = list( product(\n",
        "                                api.allStatesIdList(),\n",
        "                                api.allYearList(),\n",
        "                                api.allMonthList3TLA()) )\n",
        "\n",
        "# Shuffle\n",
        "random.shuffle(state_year_month)\n",
        "\n",
        "#logging.disable(logging.CRITICAL)\n",
        "logging.disable(logging.NOTSET)\n",
        "\n",
        "track = FileCompMix()\n",
        "\n",
        "count = {'total': len(state_year_month), 'initiallyInFile':track.numberOfelement(), 'processed': 0, 'skipped': 0}\n",
        "print ('Begin>',count)\n",
        "\n",
        "for elt in state_year_month:\n",
        "  if not track.is_record_state_of_state_year_month(elt):\n",
        "    dataA = MixComp(*elt) #(stateID, year, month)\n",
        "    dataA.build()\n",
        "\n",
        "    if count['processed']%500==0: print ('+', end='')\n",
        "    count['processed'] += 1\n",
        "    track.record_state_of_state_year_month(elt)\n",
        "  else:\n",
        "    count['skipped'] += 1\n",
        "    if count['skipped']%1000==0: print ('.', end='')\n",
        "\n",
        "print ('\\nEnd  <',count)\n",
        "print (f\"count['processed'] + count['skipped'] ?= count['total'] => [{count['processed'] + count['skipped'] } ?= {count['total']}]\")"
      ],
      "metadata": {
        "id": "OvztqiR8U0ad",
        "colab": {
          "base_uri": "https://localhost:8080/"
        },
        "outputId": "7b940c06-27b4-46bb-877f-2d3b878b7da8"
      },
      "id": "OvztqiR8U0ad",
      "execution_count": null,
      "outputs": [
        {
          "metadata": {
            "tags": null
          },
          "name": "stderr",
          "output_type": "stream",
          "text": [
            "INFO:activity_logger:Activity: allStatesIdList\n",
            "INFO:activity_logger:Activity: allMonthList3TLA\n",
            "INFO:activity_logger:> vvvvvvvvvvvvvvvvvvvvvvvvvvvvvvvvvvvvvvvvvvvvvvvvvvvvvvvvvvvv\n",
            "INFO:activity_logger:> Called main(self) method - Entrance\n",
            "INFO:activity_logger:> Input Variables = stateID:27,year:2022,month:jul, self.url: https://api.census.gov/data/2022/cps/basic/jul?tabulate=weight(PWSSWGT)&row+for&row+PEMNTVTY&row+PEMARITL&row+PESEX&row+PRCITSHP&row+GTCBSA&for=state:27&key=804d0a1a18d1de70764950c78e2a3a42d3d45e48\n",
            "INFO:activity_logger:> Called main(self) - get() method - Will take some time usually 3-5min\n"
          ]
        },
        {
          "metadata": {
            "tags": null
          },
          "name": "stdout",
          "output_type": "stream",
          "text": [
            "Begin> {'total': 9180, 'initiallyInFile': 81, 'processed': 0, 'skipped': 0}\n"
          ]
        },
        {
          "metadata": {
            "tags": null
          },
          "name": "stderr",
          "output_type": "stream",
          "text": [
            "INFO:activity_logger:> Return dict: [[[[ {'response time in secs': 0, 'status': True, 'code': 200, 'comment': 'url:https://api.census.gov/data/2022/cps/basic/jul?tabulate=weight(PWSSWGT)&row+for&row+PEMNTVTY&row+PEMARITL&row+PESEX&row+PRCITSHP&row+GTCBSA&for=state:27&key=804d0a1a18d1de70764950c78e2a3a42d3d45e48'} ]]]]\n",
            "INFO:activity_logger:Called main(self) - line: get() method - Result:{'response time in secs': 0, 'status': True, 'code': 200, 'comment': 'url:https://api.census.gov/data/2022/cps/basic/jul?tabulate=weight(PWSSWGT)&row+for&row+PEMNTVTY&row+PEMARITL&row+PESEX&row+PRCITSHP&row+GTCBSA&for=state:27&key=804d0a1a18d1de70764950c78e2a3a42d3d45e48'}\n"
          ]
        },
        {
          "metadata": {
            "tags": null
          },
          "name": "stdout",
          "output_type": "stream",
          "text": [
            "Function: 'get()'. Census API query took: 162.20810317993164 seconds\n"
          ]
        },
        {
          "metadata": {
            "tags": null
          },
          "name": "stderr",
          "output_type": "stream",
          "text": [
            "INFO:activity_logger:> Cleaning dataAPI but removing data with no tabulate information (tabulate=0)\n",
            "INFO:activity_logger:> len(self.data4Df): 136\n",
            "INFO:activity_logger:> Built Dataframe for stateiD:27, YYYYMM:2022-jul\n",
            "INFO:activity_logger:> Called main(self) - buildingDf() method\n",
            "INFO:activity_logger:> Called main(self) - save() method\n",
            "INFO:activity_logger:> Created CSV file: 2022-jul-27-MixComp.csv\n",
            "INFO:activity_logger:> Called main(self) method - End\n",
            "INFO:activity_logger:> ^^^^^^^^^^^^^^^^^^^^^^^^^^^^^^^^^^^^^^^^^^^^^^^^^^^^^^^^^^^^\n",
            "INFO:activity_logger:> vvvvvvvvvvvvvvvvvvvvvvvvvvvvvvvvvvvvvvvvvvvvvvvvvvvvvvvvvvvv\n",
            "INFO:activity_logger:> Called main(self) method - Entrance\n",
            "INFO:activity_logger:> Input Variables = stateID:10,year:2011,month:may, self.url: https://api.census.gov/data/2011/cps/basic/may?tabulate=weight(PWSSWGT)&row+for&row+PEMNTVTY&row+PEMARITL&row+PESEX&row+PRCITSHP&row+GTCBSA&for=state:10&key=804d0a1a18d1de70764950c78e2a3a42d3d45e48\n",
            "INFO:activity_logger:> Called main(self) - get() method - Will take some time usually 3-5min\n"
          ]
        },
        {
          "metadata": {
            "tags": null
          },
          "name": "stdout",
          "output_type": "stream",
          "text": [
            "+"
          ]
        },
        {
          "metadata": {
            "tags": null
          },
          "name": "stderr",
          "output_type": "stream",
          "text": [
            "INFO:activity_logger:> Return dict: [[[[ {'response time in secs': 0, 'status': True, 'code': 200, 'comment': 'url:https://api.census.gov/data/2011/cps/basic/may?tabulate=weight(PWSSWGT)&row+for&row+PEMNTVTY&row+PEMARITL&row+PESEX&row+PRCITSHP&row+GTCBSA&for=state:10&key=804d0a1a18d1de70764950c78e2a3a42d3d45e48'} ]]]]\n",
            "INFO:activity_logger:Called main(self) - line: get() method - Result:{'response time in secs': 0, 'status': True, 'code': 200, 'comment': 'url:https://api.census.gov/data/2011/cps/basic/may?tabulate=weight(PWSSWGT)&row+for&row+PEMNTVTY&row+PEMARITL&row+PESEX&row+PRCITSHP&row+GTCBSA&for=state:10&key=804d0a1a18d1de70764950c78e2a3a42d3d45e48'}\n"
          ]
        },
        {
          "metadata": {
            "tags": null
          },
          "name": "stdout",
          "output_type": "stream",
          "text": [
            "Function: 'get()'. Census API query took: 160.4659492969513 seconds\n"
          ]
        },
        {
          "metadata": {
            "tags": null
          },
          "name": "stderr",
          "output_type": "stream",
          "text": [
            "INFO:activity_logger:> Cleaning dataAPI but removing data with no tabulate information (tabulate=0)\n",
            "INFO:activity_logger:> len(self.data4Df): 249\n",
            "INFO:activity_logger:> Built Dataframe for stateiD:10, YYYYMM:2011-may\n",
            "INFO:activity_logger:> Called main(self) - buildingDf() method\n",
            "INFO:activity_logger:> Called main(self) - save() method\n",
            "INFO:activity_logger:> Created CSV file: 2011-may-10-MixComp.csv\n",
            "INFO:activity_logger:> Called main(self) method - End\n",
            "INFO:activity_logger:> ^^^^^^^^^^^^^^^^^^^^^^^^^^^^^^^^^^^^^^^^^^^^^^^^^^^^^^^^^^^^\n",
            "INFO:activity_logger:> vvvvvvvvvvvvvvvvvvvvvvvvvvvvvvvvvvvvvvvvvvvvvvvvvvvvvvvvvvvv\n",
            "INFO:activity_logger:> Called main(self) method - Entrance\n",
            "INFO:activity_logger:> Input Variables = stateID:46,year:2012,month:mar, self.url: https://api.census.gov/data/2012/cps/basic/mar?tabulate=weight(PWSSWGT)&row+for&row+PEMNTVTY&row+PEMARITL&row+PESEX&row+PRCITSHP&row+GTCBSA&for=state:46&key=804d0a1a18d1de70764950c78e2a3a42d3d45e48\n",
            "INFO:activity_logger:> Called main(self) - get() method - Will take some time usually 3-5min\n",
            "INFO:activity_logger:> Return dict: [[[[ {'response time in secs': 0, 'status': True, 'code': 200, 'comment': 'url:https://api.census.gov/data/2012/cps/basic/mar?tabulate=weight(PWSSWGT)&row+for&row+PEMNTVTY&row+PEMARITL&row+PESEX&row+PRCITSHP&row+GTCBSA&for=state:46&key=804d0a1a18d1de70764950c78e2a3a42d3d45e48'} ]]]]\n",
            "INFO:activity_logger:Called main(self) - line: get() method - Result:{'response time in secs': 0, 'status': True, 'code': 200, 'comment': 'url:https://api.census.gov/data/2012/cps/basic/mar?tabulate=weight(PWSSWGT)&row+for&row+PEMNTVTY&row+PEMARITL&row+PESEX&row+PRCITSHP&row+GTCBSA&for=state:46&key=804d0a1a18d1de70764950c78e2a3a42d3d45e48'}\n"
          ]
        },
        {
          "metadata": {
            "tags": null
          },
          "name": "stdout",
          "output_type": "stream",
          "text": [
            "Function: 'get()'. Census API query took: 150.5325334072113 seconds\n"
          ]
        },
        {
          "metadata": {
            "tags": null
          },
          "name": "stderr",
          "output_type": "stream",
          "text": [
            "INFO:activity_logger:> Cleaning dataAPI but removing data with no tabulate information (tabulate=0)\n",
            "INFO:activity_logger:> len(self.data4Df): 137\n",
            "INFO:activity_logger:> Built Dataframe for stateiD:46, YYYYMM:2012-mar\n",
            "INFO:activity_logger:> Called main(self) - buildingDf() method\n",
            "INFO:activity_logger:> Called main(self) - save() method\n",
            "INFO:activity_logger:> Created CSV file: 2012-mar-46-MixComp.csv\n",
            "INFO:activity_logger:> Called main(self) method - End\n",
            "INFO:activity_logger:> ^^^^^^^^^^^^^^^^^^^^^^^^^^^^^^^^^^^^^^^^^^^^^^^^^^^^^^^^^^^^\n",
            "INFO:activity_logger:> vvvvvvvvvvvvvvvvvvvvvvvvvvvvvvvvvvvvvvvvvvvvvvvvvvvvvvvvvvvv\n",
            "INFO:activity_logger:> Called main(self) method - Entrance\n",
            "INFO:activity_logger:> Input Variables = stateID:33,year:2018,month:aug, self.url: https://api.census.gov/data/2018/cps/basic/aug?tabulate=weight(PWSSWGT)&row+for&row+PEMNTVTY&row+PEMARITL&row+PESEX&row+PRCITSHP&row+GTCBSA&for=state:33&key=804d0a1a18d1de70764950c78e2a3a42d3d45e48\n",
            "INFO:activity_logger:> Called main(self) - get() method - Will take some time usually 3-5min\n",
            "INFO:activity_logger:> Return dict: [[[[ {'response time in secs': 0, 'status': True, 'code': 200, 'comment': 'url:https://api.census.gov/data/2018/cps/basic/aug?tabulate=weight(PWSSWGT)&row+for&row+PEMNTVTY&row+PEMARITL&row+PESEX&row+PRCITSHP&row+GTCBSA&for=state:33&key=804d0a1a18d1de70764950c78e2a3a42d3d45e48'} ]]]]\n",
            "INFO:activity_logger:Called main(self) - line: get() method - Result:{'response time in secs': 0, 'status': True, 'code': 200, 'comment': 'url:https://api.census.gov/data/2018/cps/basic/aug?tabulate=weight(PWSSWGT)&row+for&row+PEMNTVTY&row+PEMARITL&row+PESEX&row+PRCITSHP&row+GTCBSA&for=state:33&key=804d0a1a18d1de70764950c78e2a3a42d3d45e48'}\n"
          ]
        },
        {
          "metadata": {
            "tags": null
          },
          "name": "stdout",
          "output_type": "stream",
          "text": [
            "Function: 'get()'. Census API query took: 203.75558733940125 seconds\n"
          ]
        },
        {
          "metadata": {
            "tags": null
          },
          "name": "stderr",
          "output_type": "stream",
          "text": [
            "INFO:activity_logger:> Cleaning dataAPI but removing data with no tabulate information (tabulate=0)\n",
            "INFO:activity_logger:> len(self.data4Df): 161\n",
            "INFO:activity_logger:> Built Dataframe for stateiD:33, YYYYMM:2018-aug\n",
            "INFO:activity_logger:> Called main(self) - buildingDf() method\n",
            "INFO:activity_logger:> Called main(self) - save() method\n",
            "INFO:activity_logger:> Created CSV file: 2018-aug-33-MixComp.csv\n",
            "INFO:activity_logger:> Called main(self) method - End\n",
            "INFO:activity_logger:> ^^^^^^^^^^^^^^^^^^^^^^^^^^^^^^^^^^^^^^^^^^^^^^^^^^^^^^^^^^^^\n",
            "INFO:activity_logger:> vvvvvvvvvvvvvvvvvvvvvvvvvvvvvvvvvvvvvvvvvvvvvvvvvvvvvvvvvvvv\n",
            "INFO:activity_logger:> Called main(self) method - Entrance\n",
            "INFO:activity_logger:> Input Variables = stateID:29,year:2021,month:mar, self.url: https://api.census.gov/data/2021/cps/basic/mar?tabulate=weight(PWSSWGT)&row+for&row+PEMNTVTY&row+PEMARITL&row+PESEX&row+PRCITSHP&row+GTCBSA&for=state:29&key=804d0a1a18d1de70764950c78e2a3a42d3d45e48\n",
            "INFO:activity_logger:> Called main(self) - get() method - Will take some time usually 3-5min\n",
            "INFO:activity_logger:> Return dict: [[[[ {'response time in secs': 0, 'status': True, 'code': 200, 'comment': 'url:https://api.census.gov/data/2021/cps/basic/mar?tabulate=weight(PWSSWGT)&row+for&row+PEMNTVTY&row+PEMARITL&row+PESEX&row+PRCITSHP&row+GTCBSA&for=state:29&key=804d0a1a18d1de70764950c78e2a3a42d3d45e48'} ]]]]\n",
            "INFO:activity_logger:Called main(self) - line: get() method - Result:{'response time in secs': 0, 'status': True, 'code': 200, 'comment': 'url:https://api.census.gov/data/2021/cps/basic/mar?tabulate=weight(PWSSWGT)&row+for&row+PEMNTVTY&row+PEMARITL&row+PESEX&row+PRCITSHP&row+GTCBSA&for=state:29&key=804d0a1a18d1de70764950c78e2a3a42d3d45e48'}\n"
          ]
        },
        {
          "metadata": {
            "tags": null
          },
          "name": "stdout",
          "output_type": "stream",
          "text": [
            "Function: 'get()'. Census API query took: 197.33083486557007 seconds\n"
          ]
        },
        {
          "metadata": {
            "tags": null
          },
          "name": "stderr",
          "output_type": "stream",
          "text": [
            "INFO:activity_logger:> Cleaning dataAPI but removing data with no tabulate information (tabulate=0)\n",
            "INFO:activity_logger:> len(self.data4Df): 108\n",
            "INFO:activity_logger:> Built Dataframe for stateiD:29, YYYYMM:2021-mar\n",
            "INFO:activity_logger:> Called main(self) - buildingDf() method\n",
            "INFO:activity_logger:> Called main(self) - save() method\n",
            "INFO:activity_logger:> Created CSV file: 2021-mar-29-MixComp.csv\n",
            "INFO:activity_logger:> Called main(self) method - End\n",
            "INFO:activity_logger:> ^^^^^^^^^^^^^^^^^^^^^^^^^^^^^^^^^^^^^^^^^^^^^^^^^^^^^^^^^^^^\n",
            "INFO:activity_logger:> vvvvvvvvvvvvvvvvvvvvvvvvvvvvvvvvvvvvvvvvvvvvvvvvvvvvvvvvvvvv\n",
            "INFO:activity_logger:> Called main(self) method - Entrance\n",
            "INFO:activity_logger:> Input Variables = stateID:41,year:2024,month:aug, self.url: https://api.census.gov/data/2024/cps/basic/aug?tabulate=weight(PWSSWGT)&row+for&row+PEMNTVTY&row+PEMARITL&row+PESEX&row+PRCITSHP&row+GTCBSA&for=state:41&key=804d0a1a18d1de70764950c78e2a3a42d3d45e48\n",
            "INFO:activity_logger:> Called main(self) - get() method - Will take some time usually 3-5min\n",
            "INFO:activity_logger:> Return dict: [[[[ {'response time in secs': 0, 'status': False, 'code': 404, 'comment': 'url:https://api.census.gov/data/2024/cps/basic/aug?tabulate=weight(PWSSWGT)&row+for&row+PEMNTVTY&row+PEMARITL&row+PESEX&row+PRCITSHP&row+GTCBSA&for=state:41&key=804d0a1a18d1de70764950c78e2a3a42d3d45e48'} ]]]]\n",
            "INFO:activity_logger:Called main(self) - line: get() method - Result:{'response time in secs': 0, 'status': False, 'code': 404, 'comment': 'url:https://api.census.gov/data/2024/cps/basic/aug?tabulate=weight(PWSSWGT)&row+for&row+PEMNTVTY&row+PEMARITL&row+PESEX&row+PRCITSHP&row+GTCBSA&for=state:41&key=804d0a1a18d1de70764950c78e2a3a42d3d45e48'}\n",
            "INFO:activity_logger:> Error during URL call, Code return: 404, Skipped !!\n",
            "INFO:activity_logger:> Called main(self) method - End\n",
            "INFO:activity_logger:> ^^^^^^^^^^^^^^^^^^^^^^^^^^^^^^^^^^^^^^^^^^^^^^^^^^^^^^^^^^^^\n",
            "INFO:activity_logger:> vvvvvvvvvvvvvvvvvvvvvvvvvvvvvvvvvvvvvvvvvvvvvvvvvvvvvvvvvvvv\n",
            "INFO:activity_logger:> Called main(self) method - Entrance\n",
            "INFO:activity_logger:> Input Variables = stateID:39,year:2018,month:jul, self.url: https://api.census.gov/data/2018/cps/basic/jul?tabulate=weight(PWSSWGT)&row+for&row+PEMNTVTY&row+PEMARITL&row+PESEX&row+PRCITSHP&row+GTCBSA&for=state:39&key=804d0a1a18d1de70764950c78e2a3a42d3d45e48\n",
            "INFO:activity_logger:> Called main(self) - get() method - Will take some time usually 3-5min\n"
          ]
        },
        {
          "metadata": {
            "tags": null
          },
          "name": "stdout",
          "output_type": "stream",
          "text": [
            "Function: 'get()'. Census API query took: 0.2860143184661865 seconds\n"
          ]
        },
        {
          "metadata": {
            "tags": null
          },
          "name": "stderr",
          "output_type": "stream",
          "text": [
            "INFO:activity_logger:> Return dict: [[[[ {'response time in secs': 0, 'status': True, 'code': 200, 'comment': 'url:https://api.census.gov/data/2018/cps/basic/jul?tabulate=weight(PWSSWGT)&row+for&row+PEMNTVTY&row+PEMARITL&row+PESEX&row+PRCITSHP&row+GTCBSA&for=state:39&key=804d0a1a18d1de70764950c78e2a3a42d3d45e48'} ]]]]\n",
            "INFO:activity_logger:Called main(self) - line: get() method - Result:{'response time in secs': 0, 'status': True, 'code': 200, 'comment': 'url:https://api.census.gov/data/2018/cps/basic/jul?tabulate=weight(PWSSWGT)&row+for&row+PEMNTVTY&row+PEMARITL&row+PESEX&row+PRCITSHP&row+GTCBSA&for=state:39&key=804d0a1a18d1de70764950c78e2a3a42d3d45e48'}\n"
          ]
        },
        {
          "metadata": {
            "tags": null
          },
          "name": "stdout",
          "output_type": "stream",
          "text": [
            "Function: 'get()'. Census API query took: 199.46083188056946 seconds\n"
          ]
        },
        {
          "metadata": {
            "tags": null
          },
          "name": "stderr",
          "output_type": "stream",
          "text": [
            "INFO:activity_logger:> Cleaning dataAPI but removing data with no tabulate information (tabulate=0)\n",
            "INFO:activity_logger:> len(self.data4Df): 307\n",
            "INFO:activity_logger:> Built Dataframe for stateiD:39, YYYYMM:2018-jul\n",
            "INFO:activity_logger:> Called main(self) - buildingDf() method\n",
            "INFO:activity_logger:> Called main(self) - save() method\n",
            "INFO:activity_logger:> Created CSV file: 2018-jul-39-MixComp.csv\n",
            "INFO:activity_logger:> Called main(self) method - End\n",
            "INFO:activity_logger:> ^^^^^^^^^^^^^^^^^^^^^^^^^^^^^^^^^^^^^^^^^^^^^^^^^^^^^^^^^^^^\n",
            "INFO:activity_logger:> vvvvvvvvvvvvvvvvvvvvvvvvvvvvvvvvvvvvvvvvvvvvvvvvvvvvvvvvvvvv\n",
            "INFO:activity_logger:> Called main(self) method - Entrance\n",
            "INFO:activity_logger:> Input Variables = stateID:47,year:2024,month:jul, self.url: https://api.census.gov/data/2024/cps/basic/jul?tabulate=weight(PWSSWGT)&row+for&row+PEMNTVTY&row+PEMARITL&row+PESEX&row+PRCITSHP&row+GTCBSA&for=state:47&key=804d0a1a18d1de70764950c78e2a3a42d3d45e48\n",
            "INFO:activity_logger:> Called main(self) - get() method - Will take some time usually 3-5min\n",
            "INFO:activity_logger:> Return dict: [[[[ {'response time in secs': 0, 'status': False, 'code': 404, 'comment': 'url:https://api.census.gov/data/2024/cps/basic/jul?tabulate=weight(PWSSWGT)&row+for&row+PEMNTVTY&row+PEMARITL&row+PESEX&row+PRCITSHP&row+GTCBSA&for=state:47&key=804d0a1a18d1de70764950c78e2a3a42d3d45e48'} ]]]]\n",
            "INFO:activity_logger:Called main(self) - line: get() method - Result:{'response time in secs': 0, 'status': False, 'code': 404, 'comment': 'url:https://api.census.gov/data/2024/cps/basic/jul?tabulate=weight(PWSSWGT)&row+for&row+PEMNTVTY&row+PEMARITL&row+PESEX&row+PRCITSHP&row+GTCBSA&for=state:47&key=804d0a1a18d1de70764950c78e2a3a42d3d45e48'}\n",
            "INFO:activity_logger:> Error during URL call, Code return: 404, Skipped !!\n",
            "INFO:activity_logger:> Called main(self) method - End\n",
            "INFO:activity_logger:> ^^^^^^^^^^^^^^^^^^^^^^^^^^^^^^^^^^^^^^^^^^^^^^^^^^^^^^^^^^^^\n",
            "INFO:activity_logger:> vvvvvvvvvvvvvvvvvvvvvvvvvvvvvvvvvvvvvvvvvvvvvvvvvvvvvvvvvvvv\n",
            "INFO:activity_logger:> Called main(self) method - Entrance\n",
            "INFO:activity_logger:> Input Variables = stateID:12,year:2019,month:may, self.url: https://api.census.gov/data/2019/cps/basic/may?tabulate=weight(PWSSWGT)&row+for&row+PEMNTVTY&row+PEMARITL&row+PESEX&row+PRCITSHP&row+GTCBSA&for=state:12&key=804d0a1a18d1de70764950c78e2a3a42d3d45e48\n",
            "INFO:activity_logger:> Called main(self) - get() method - Will take some time usually 3-5min\n"
          ]
        },
        {
          "metadata": {
            "tags": null
          },
          "name": "stdout",
          "output_type": "stream",
          "text": [
            "Function: 'get()'. Census API query took: 0.34902405738830566 seconds\n"
          ]
        },
        {
          "metadata": {
            "tags": null
          },
          "name": "stderr",
          "output_type": "stream",
          "text": [
            "INFO:activity_logger:> Return dict: [[[[ {'response time in secs': 0, 'status': True, 'code': 200, 'comment': 'url:https://api.census.gov/data/2019/cps/basic/may?tabulate=weight(PWSSWGT)&row+for&row+PEMNTVTY&row+PEMARITL&row+PESEX&row+PRCITSHP&row+GTCBSA&for=state:12&key=804d0a1a18d1de70764950c78e2a3a42d3d45e48'} ]]]]\n",
            "INFO:activity_logger:Called main(self) - line: get() method - Result:{'response time in secs': 0, 'status': True, 'code': 200, 'comment': 'url:https://api.census.gov/data/2019/cps/basic/may?tabulate=weight(PWSSWGT)&row+for&row+PEMNTVTY&row+PEMARITL&row+PESEX&row+PRCITSHP&row+GTCBSA&for=state:12&key=804d0a1a18d1de70764950c78e2a3a42d3d45e48'}\n"
          ]
        },
        {
          "metadata": {
            "tags": null
          },
          "name": "stdout",
          "output_type": "stream",
          "text": [
            "Function: 'get()'. Census API query took: 191.7966606616974 seconds\n"
          ]
        },
        {
          "metadata": {
            "tags": null
          },
          "name": "stderr",
          "output_type": "stream",
          "text": [
            "INFO:activity_logger:> Cleaning dataAPI but removing data with no tabulate information (tabulate=0)\n",
            "INFO:activity_logger:> len(self.data4Df): 1222\n",
            "INFO:activity_logger:> Built Dataframe for stateiD:12, YYYYMM:2019-may\n",
            "INFO:activity_logger:> Called main(self) - buildingDf() method\n",
            "INFO:activity_logger:> Called main(self) - save() method\n",
            "INFO:activity_logger:> Created CSV file: 2019-may-12-MixComp.csv\n",
            "INFO:activity_logger:> Called main(self) method - End\n",
            "INFO:activity_logger:> ^^^^^^^^^^^^^^^^^^^^^^^^^^^^^^^^^^^^^^^^^^^^^^^^^^^^^^^^^^^^\n",
            "INFO:activity_logger:> vvvvvvvvvvvvvvvvvvvvvvvvvvvvvvvvvvvvvvvvvvvvvvvvvvvvvvvvvvvv\n",
            "INFO:activity_logger:> Called main(self) method - Entrance\n",
            "INFO:activity_logger:> Input Variables = stateID:50,year:2018,month:apr, self.url: https://api.census.gov/data/2018/cps/basic/apr?tabulate=weight(PWSSWGT)&row+for&row+PEMNTVTY&row+PEMARITL&row+PESEX&row+PRCITSHP&row+GTCBSA&for=state:50&key=804d0a1a18d1de70764950c78e2a3a42d3d45e48\n",
            "INFO:activity_logger:> Called main(self) - get() method - Will take some time usually 3-5min\n",
            "INFO:activity_logger:> Return dict: [[[[ {'response time in secs': 0, 'status': True, 'code': 200, 'comment': 'url:https://api.census.gov/data/2018/cps/basic/apr?tabulate=weight(PWSSWGT)&row+for&row+PEMNTVTY&row+PEMARITL&row+PESEX&row+PRCITSHP&row+GTCBSA&for=state:50&key=804d0a1a18d1de70764950c78e2a3a42d3d45e48'} ]]]]\n",
            "INFO:activity_logger:Called main(self) - line: get() method - Result:{'response time in secs': 0, 'status': True, 'code': 200, 'comment': 'url:https://api.census.gov/data/2018/cps/basic/apr?tabulate=weight(PWSSWGT)&row+for&row+PEMNTVTY&row+PEMARITL&row+PESEX&row+PRCITSHP&row+GTCBSA&for=state:50&key=804d0a1a18d1de70764950c78e2a3a42d3d45e48'}\n"
          ]
        },
        {
          "metadata": {
            "tags": null
          },
          "name": "stdout",
          "output_type": "stream",
          "text": [
            "Function: 'get()'. Census API query took: 204.946635723114 seconds\n"
          ]
        },
        {
          "metadata": {
            "tags": null
          },
          "name": "stderr",
          "output_type": "stream",
          "text": [
            "INFO:activity_logger:> Cleaning dataAPI but removing data with no tabulate information (tabulate=0)\n",
            "INFO:activity_logger:> len(self.data4Df): 80\n",
            "INFO:activity_logger:> Built Dataframe for stateiD:50, YYYYMM:2018-apr\n",
            "INFO:activity_logger:> Called main(self) - buildingDf() method\n",
            "INFO:activity_logger:> Called main(self) - save() method\n",
            "INFO:activity_logger:> Created CSV file: 2018-apr-50-MixComp.csv\n",
            "INFO:activity_logger:> Called main(self) method - End\n",
            "INFO:activity_logger:> ^^^^^^^^^^^^^^^^^^^^^^^^^^^^^^^^^^^^^^^^^^^^^^^^^^^^^^^^^^^^\n",
            "INFO:activity_logger:> vvvvvvvvvvvvvvvvvvvvvvvvvvvvvvvvvvvvvvvvvvvvvvvvvvvvvvvvvvvv\n",
            "INFO:activity_logger:> Called main(self) method - Entrance\n",
            "INFO:activity_logger:> Input Variables = stateID:17,year:2013,month:may, self.url: https://api.census.gov/data/2013/cps/basic/may?tabulate=weight(PWSSWGT)&row+for&row+PEMNTVTY&row+PEMARITL&row+PESEX&row+PRCITSHP&row+GTCBSA&for=state:17&key=804d0a1a18d1de70764950c78e2a3a42d3d45e48\n",
            "INFO:activity_logger:> Called main(self) - get() method - Will take some time usually 3-5min\n",
            "INFO:activity_logger:> Return dict: [[[[ {'response time in secs': 0, 'status': True, 'code': 200, 'comment': 'url:https://api.census.gov/data/2013/cps/basic/may?tabulate=weight(PWSSWGT)&row+for&row+PEMNTVTY&row+PEMARITL&row+PESEX&row+PRCITSHP&row+GTCBSA&for=state:17&key=804d0a1a18d1de70764950c78e2a3a42d3d45e48'} ]]]]\n",
            "INFO:activity_logger:Called main(self) - line: get() method - Result:{'response time in secs': 0, 'status': True, 'code': 200, 'comment': 'url:https://api.census.gov/data/2013/cps/basic/may?tabulate=weight(PWSSWGT)&row+for&row+PEMNTVTY&row+PEMARITL&row+PESEX&row+PRCITSHP&row+GTCBSA&for=state:17&key=804d0a1a18d1de70764950c78e2a3a42d3d45e48'}\n"
          ]
        },
        {
          "metadata": {
            "tags": null
          },
          "name": "stdout",
          "output_type": "stream",
          "text": [
            "Function: 'get()'. Census API query took: 172.5144248008728 seconds\n"
          ]
        },
        {
          "metadata": {
            "tags": null
          },
          "name": "stderr",
          "output_type": "stream",
          "text": [
            "INFO:activity_logger:> Cleaning dataAPI but removing data with no tabulate information (tabulate=0)\n",
            "INFO:activity_logger:> len(self.data4Df): 547\n",
            "INFO:activity_logger:> Built Dataframe for stateiD:17, YYYYMM:2013-may\n",
            "INFO:activity_logger:> Called main(self) - buildingDf() method\n",
            "INFO:activity_logger:> Called main(self) - save() method\n",
            "INFO:activity_logger:> Created CSV file: 2013-may-17-MixComp.csv\n",
            "INFO:activity_logger:> Called main(self) method - End\n",
            "INFO:activity_logger:> ^^^^^^^^^^^^^^^^^^^^^^^^^^^^^^^^^^^^^^^^^^^^^^^^^^^^^^^^^^^^\n",
            "INFO:activity_logger:> vvvvvvvvvvvvvvvvvvvvvvvvvvvvvvvvvvvvvvvvvvvvvvvvvvvvvvvvvvvv\n",
            "INFO:activity_logger:> Called main(self) method - Entrance\n",
            "INFO:activity_logger:> Input Variables = stateID:37,year:2010,month:dec, self.url: https://api.census.gov/data/2010/cps/basic/dec?tabulate=weight(PWSSWGT)&row+for&row+PEMNTVTY&row+PEMARITL&row+PESEX&row+PRCITSHP&row+GTCBSA&for=state:37&key=804d0a1a18d1de70764950c78e2a3a42d3d45e48\n",
            "INFO:activity_logger:> Called main(self) - get() method - Will take some time usually 3-5min\n",
            "INFO:activity_logger:> Return dict: [[[[ {'response time in secs': 0, 'status': True, 'code': 200, 'comment': 'url:https://api.census.gov/data/2010/cps/basic/dec?tabulate=weight(PWSSWGT)&row+for&row+PEMNTVTY&row+PEMARITL&row+PESEX&row+PRCITSHP&row+GTCBSA&for=state:37&key=804d0a1a18d1de70764950c78e2a3a42d3d45e48'} ]]]]\n",
            "INFO:activity_logger:Called main(self) - line: get() method - Result:{'response time in secs': 0, 'status': True, 'code': 200, 'comment': 'url:https://api.census.gov/data/2010/cps/basic/dec?tabulate=weight(PWSSWGT)&row+for&row+PEMNTVTY&row+PEMARITL&row+PESEX&row+PRCITSHP&row+GTCBSA&for=state:37&key=804d0a1a18d1de70764950c78e2a3a42d3d45e48'}\n"
          ]
        },
        {
          "metadata": {
            "tags": null
          },
          "name": "stdout",
          "output_type": "stream",
          "text": [
            "Function: 'get()'. Census API query took: 154.562433719635 seconds\n"
          ]
        },
        {
          "metadata": {
            "tags": null
          },
          "name": "stderr",
          "output_type": "stream",
          "text": [
            "INFO:activity_logger:> Cleaning dataAPI but removing data with no tabulate information (tabulate=0)\n",
            "INFO:activity_logger:> len(self.data4Df): 354\n",
            "INFO:activity_logger:> Built Dataframe for stateiD:37, YYYYMM:2010-dec\n",
            "INFO:activity_logger:> Called main(self) - buildingDf() method\n",
            "INFO:activity_logger:> Called main(self) - save() method\n",
            "INFO:activity_logger:> Created CSV file: 2010-dec-37-MixComp.csv\n",
            "INFO:activity_logger:> Called main(self) method - End\n",
            "INFO:activity_logger:> ^^^^^^^^^^^^^^^^^^^^^^^^^^^^^^^^^^^^^^^^^^^^^^^^^^^^^^^^^^^^\n",
            "INFO:activity_logger:> vvvvvvvvvvvvvvvvvvvvvvvvvvvvvvvvvvvvvvvvvvvvvvvvvvvvvvvvvvvv\n",
            "INFO:activity_logger:> Called main(self) method - Entrance\n",
            "INFO:activity_logger:> Input Variables = stateID:39,year:2021,month:oct, self.url: https://api.census.gov/data/2021/cps/basic/oct?tabulate=weight(PWSSWGT)&row+for&row+PEMNTVTY&row+PEMARITL&row+PESEX&row+PRCITSHP&row+GTCBSA&for=state:39&key=804d0a1a18d1de70764950c78e2a3a42d3d45e48\n",
            "INFO:activity_logger:> Called main(self) - get() method - Will take some time usually 3-5min\n",
            "INFO:activity_logger:> Return dict: [[[[ {'response time in secs': 0, 'status': True, 'code': 200, 'comment': 'url:https://api.census.gov/data/2021/cps/basic/oct?tabulate=weight(PWSSWGT)&row+for&row+PEMNTVTY&row+PEMARITL&row+PESEX&row+PRCITSHP&row+GTCBSA&for=state:39&key=804d0a1a18d1de70764950c78e2a3a42d3d45e48'} ]]]]\n",
            "INFO:activity_logger:Called main(self) - line: get() method - Result:{'response time in secs': 0, 'status': True, 'code': 200, 'comment': 'url:https://api.census.gov/data/2021/cps/basic/oct?tabulate=weight(PWSSWGT)&row+for&row+PEMNTVTY&row+PEMARITL&row+PESEX&row+PRCITSHP&row+GTCBSA&for=state:39&key=804d0a1a18d1de70764950c78e2a3a42d3d45e48'}\n"
          ]
        },
        {
          "metadata": {
            "tags": null
          },
          "name": "stdout",
          "output_type": "stream",
          "text": [
            "Function: 'get()'. Census API query took: 191.65088272094727 seconds\n"
          ]
        },
        {
          "metadata": {
            "tags": null
          },
          "name": "stderr",
          "output_type": "stream",
          "text": [
            "INFO:activity_logger:> Cleaning dataAPI but removing data with no tabulate information (tabulate=0)\n",
            "INFO:activity_logger:> len(self.data4Df): 302\n",
            "INFO:activity_logger:> Built Dataframe for stateiD:39, YYYYMM:2021-oct\n",
            "INFO:activity_logger:> Called main(self) - buildingDf() method\n",
            "INFO:activity_logger:> Called main(self) - save() method\n",
            "INFO:activity_logger:> Created CSV file: 2021-oct-39-MixComp.csv\n",
            "INFO:activity_logger:> Called main(self) method - End\n",
            "INFO:activity_logger:> ^^^^^^^^^^^^^^^^^^^^^^^^^^^^^^^^^^^^^^^^^^^^^^^^^^^^^^^^^^^^\n",
            "INFO:activity_logger:> vvvvvvvvvvvvvvvvvvvvvvvvvvvvvvvvvvvvvvvvvvvvvvvvvvvvvvvvvvvv\n",
            "INFO:activity_logger:> Called main(self) method - Entrance\n",
            "INFO:activity_logger:> Input Variables = stateID:15,year:2010,month:mar, self.url: https://api.census.gov/data/2010/cps/basic/mar?tabulate=weight(PWSSWGT)&row+for&row+PEMNTVTY&row+PEMARITL&row+PESEX&row+PRCITSHP&row+GTCBSA&for=state:15&key=804d0a1a18d1de70764950c78e2a3a42d3d45e48\n",
            "INFO:activity_logger:> Called main(self) - get() method - Will take some time usually 3-5min\n",
            "INFO:activity_logger:> Return dict: [[[[ {'response time in secs': 0, 'status': True, 'code': 200, 'comment': 'url:https://api.census.gov/data/2010/cps/basic/mar?tabulate=weight(PWSSWGT)&row+for&row+PEMNTVTY&row+PEMARITL&row+PESEX&row+PRCITSHP&row+GTCBSA&for=state:15&key=804d0a1a18d1de70764950c78e2a3a42d3d45e48'} ]]]]\n",
            "INFO:activity_logger:Called main(self) - line: get() method - Result:{'response time in secs': 0, 'status': True, 'code': 200, 'comment': 'url:https://api.census.gov/data/2010/cps/basic/mar?tabulate=weight(PWSSWGT)&row+for&row+PEMNTVTY&row+PEMARITL&row+PESEX&row+PRCITSHP&row+GTCBSA&for=state:15&key=804d0a1a18d1de70764950c78e2a3a42d3d45e48'}\n"
          ]
        },
        {
          "metadata": {
            "tags": null
          },
          "name": "stdout",
          "output_type": "stream",
          "text": [
            "Function: 'get()'. Census API query took: 151.6423089504242 seconds\n"
          ]
        },
        {
          "metadata": {
            "tags": null
          },
          "name": "stderr",
          "output_type": "stream",
          "text": [
            "INFO:activity_logger:> Cleaning dataAPI but removing data with no tabulate information (tabulate=0)\n",
            "INFO:activity_logger:> len(self.data4Df): 312\n",
            "INFO:activity_logger:> Built Dataframe for stateiD:15, YYYYMM:2010-mar\n",
            "INFO:activity_logger:> Called main(self) - buildingDf() method\n",
            "INFO:activity_logger:> Called main(self) - save() method\n",
            "INFO:activity_logger:> Created CSV file: 2010-mar-15-MixComp.csv\n",
            "INFO:activity_logger:> Called main(self) method - End\n",
            "INFO:activity_logger:> ^^^^^^^^^^^^^^^^^^^^^^^^^^^^^^^^^^^^^^^^^^^^^^^^^^^^^^^^^^^^\n",
            "INFO:activity_logger:> vvvvvvvvvvvvvvvvvvvvvvvvvvvvvvvvvvvvvvvvvvvvvvvvvvvvvvvvvvvv\n",
            "INFO:activity_logger:> Called main(self) method - Entrance\n",
            "INFO:activity_logger:> Input Variables = stateID:42,year:2013,month:apr, self.url: https://api.census.gov/data/2013/cps/basic/apr?tabulate=weight(PWSSWGT)&row+for&row+PEMNTVTY&row+PEMARITL&row+PESEX&row+PRCITSHP&row+GTCBSA&for=state:42&key=804d0a1a18d1de70764950c78e2a3a42d3d45e48\n",
            "INFO:activity_logger:> Called main(self) - get() method - Will take some time usually 3-5min\n",
            "INFO:activity_logger:> Return dict: [[[[ {'response time in secs': 0, 'status': True, 'code': 200, 'comment': 'url:https://api.census.gov/data/2013/cps/basic/apr?tabulate=weight(PWSSWGT)&row+for&row+PEMNTVTY&row+PEMARITL&row+PESEX&row+PRCITSHP&row+GTCBSA&for=state:42&key=804d0a1a18d1de70764950c78e2a3a42d3d45e48'} ]]]]\n",
            "INFO:activity_logger:Called main(self) - line: get() method - Result:{'response time in secs': 0, 'status': True, 'code': 200, 'comment': 'url:https://api.census.gov/data/2013/cps/basic/apr?tabulate=weight(PWSSWGT)&row+for&row+PEMNTVTY&row+PEMARITL&row+PESEX&row+PRCITSHP&row+GTCBSA&for=state:42&key=804d0a1a18d1de70764950c78e2a3a42d3d45e48'}\n"
          ]
        },
        {
          "metadata": {
            "tags": null
          },
          "name": "stdout",
          "output_type": "stream",
          "text": [
            "Function: 'get()'. Census API query took: 212.4917230606079 seconds\n"
          ]
        },
        {
          "metadata": {
            "tags": null
          },
          "name": "stderr",
          "output_type": "stream",
          "text": [
            "INFO:activity_logger:> Cleaning dataAPI but removing data with no tabulate information (tabulate=0)\n",
            "INFO:activity_logger:> len(self.data4Df): 545\n",
            "INFO:activity_logger:> Built Dataframe for stateiD:42, YYYYMM:2013-apr\n",
            "INFO:activity_logger:> Called main(self) - buildingDf() method\n",
            "INFO:activity_logger:> Called main(self) - save() method\n",
            "INFO:activity_logger:> Created CSV file: 2013-apr-42-MixComp.csv\n",
            "INFO:activity_logger:> Called main(self) method - End\n",
            "INFO:activity_logger:> ^^^^^^^^^^^^^^^^^^^^^^^^^^^^^^^^^^^^^^^^^^^^^^^^^^^^^^^^^^^^\n",
            "INFO:activity_logger:> vvvvvvvvvvvvvvvvvvvvvvvvvvvvvvvvvvvvvvvvvvvvvvvvvvvvvvvvvvvv\n",
            "INFO:activity_logger:> Called main(self) method - Entrance\n",
            "INFO:activity_logger:> Input Variables = stateID:18,year:2022,month:mar, self.url: https://api.census.gov/data/2022/cps/basic/mar?tabulate=weight(PWSSWGT)&row+for&row+PEMNTVTY&row+PEMARITL&row+PESEX&row+PRCITSHP&row+GTCBSA&for=state:18&key=804d0a1a18d1de70764950c78e2a3a42d3d45e48\n",
            "INFO:activity_logger:> Called main(self) - get() method - Will take some time usually 3-5min\n",
            "INFO:activity_logger:> Return dict: [[[[ {'response time in secs': 0, 'status': True, 'code': 200, 'comment': 'url:https://api.census.gov/data/2022/cps/basic/mar?tabulate=weight(PWSSWGT)&row+for&row+PEMNTVTY&row+PEMARITL&row+PESEX&row+PRCITSHP&row+GTCBSA&for=state:18&key=804d0a1a18d1de70764950c78e2a3a42d3d45e48'} ]]]]\n",
            "INFO:activity_logger:Called main(self) - line: get() method - Result:{'response time in secs': 0, 'status': True, 'code': 200, 'comment': 'url:https://api.census.gov/data/2022/cps/basic/mar?tabulate=weight(PWSSWGT)&row+for&row+PEMNTVTY&row+PEMARITL&row+PESEX&row+PRCITSHP&row+GTCBSA&for=state:18&key=804d0a1a18d1de70764950c78e2a3a42d3d45e48'}\n"
          ]
        },
        {
          "metadata": {
            "tags": null
          },
          "name": "stdout",
          "output_type": "stream",
          "text": [
            "Function: 'get()'. Census API query took: 191.64903140068054 seconds\n"
          ]
        },
        {
          "metadata": {
            "tags": null
          },
          "name": "stderr",
          "output_type": "stream",
          "text": [
            "INFO:activity_logger:> Cleaning dataAPI but removing data with no tabulate information (tabulate=0)\n",
            "INFO:activity_logger:> len(self.data4Df): 219\n",
            "INFO:activity_logger:> Built Dataframe for stateiD:18, YYYYMM:2022-mar\n",
            "INFO:activity_logger:> Called main(self) - buildingDf() method\n",
            "INFO:activity_logger:> Called main(self) - save() method\n",
            "INFO:activity_logger:> Created CSV file: 2022-mar-18-MixComp.csv\n",
            "INFO:activity_logger:> Called main(self) method - End\n",
            "INFO:activity_logger:> ^^^^^^^^^^^^^^^^^^^^^^^^^^^^^^^^^^^^^^^^^^^^^^^^^^^^^^^^^^^^\n",
            "INFO:activity_logger:> vvvvvvvvvvvvvvvvvvvvvvvvvvvvvvvvvvvvvvvvvvvvvvvvvvvvvvvvvvvv\n",
            "INFO:activity_logger:> Called main(self) method - Entrance\n",
            "INFO:activity_logger:> Input Variables = stateID:18,year:2018,month:sep, self.url: https://api.census.gov/data/2018/cps/basic/sep?tabulate=weight(PWSSWGT)&row+for&row+PEMNTVTY&row+PEMARITL&row+PESEX&row+PRCITSHP&row+GTCBSA&for=state:18&key=804d0a1a18d1de70764950c78e2a3a42d3d45e48\n",
            "INFO:activity_logger:> Called main(self) - get() method - Will take some time usually 3-5min\n",
            "INFO:activity_logger:> Return dict: [[[[ {'response time in secs': 0, 'status': True, 'code': 200, 'comment': 'url:https://api.census.gov/data/2018/cps/basic/sep?tabulate=weight(PWSSWGT)&row+for&row+PEMNTVTY&row+PEMARITL&row+PESEX&row+PRCITSHP&row+GTCBSA&for=state:18&key=804d0a1a18d1de70764950c78e2a3a42d3d45e48'} ]]]]\n",
            "INFO:activity_logger:Called main(self) - line: get() method - Result:{'response time in secs': 0, 'status': True, 'code': 200, 'comment': 'url:https://api.census.gov/data/2018/cps/basic/sep?tabulate=weight(PWSSWGT)&row+for&row+PEMNTVTY&row+PEMARITL&row+PESEX&row+PRCITSHP&row+GTCBSA&for=state:18&key=804d0a1a18d1de70764950c78e2a3a42d3d45e48'}\n"
          ]
        },
        {
          "metadata": {
            "tags": null
          },
          "name": "stdout",
          "output_type": "stream",
          "text": [
            "Function: 'get()'. Census API query took: 254.19123816490173 seconds\n"
          ]
        },
        {
          "metadata": {
            "tags": null
          },
          "name": "stderr",
          "output_type": "stream",
          "text": [
            "INFO:activity_logger:> Cleaning dataAPI but removing data with no tabulate information (tabulate=0)\n",
            "INFO:activity_logger:> len(self.data4Df): 277\n",
            "INFO:activity_logger:> Built Dataframe for stateiD:18, YYYYMM:2018-sep\n",
            "INFO:activity_logger:> Called main(self) - buildingDf() method\n",
            "INFO:activity_logger:> Called main(self) - save() method\n",
            "INFO:activity_logger:> Created CSV file: 2018-sep-18-MixComp.csv\n",
            "INFO:activity_logger:> Called main(self) method - End\n",
            "INFO:activity_logger:> ^^^^^^^^^^^^^^^^^^^^^^^^^^^^^^^^^^^^^^^^^^^^^^^^^^^^^^^^^^^^\n",
            "INFO:activity_logger:> vvvvvvvvvvvvvvvvvvvvvvvvvvvvvvvvvvvvvvvvvvvvvvvvvvvvvvvvvvvv\n",
            "INFO:activity_logger:> Called main(self) method - Entrance\n",
            "INFO:activity_logger:> Input Variables = stateID:35,year:2024,month:jun, self.url: https://api.census.gov/data/2024/cps/basic/jun?tabulate=weight(PWSSWGT)&row+for&row+PEMNTVTY&row+PEMARITL&row+PESEX&row+PRCITSHP&row+GTCBSA&for=state:35&key=804d0a1a18d1de70764950c78e2a3a42d3d45e48\n",
            "INFO:activity_logger:> Called main(self) - get() method - Will take some time usually 3-5min\n",
            "INFO:activity_logger:> Return dict: [[[[ {'response time in secs': 0, 'status': False, 'code': 404, 'comment': 'url:https://api.census.gov/data/2024/cps/basic/jun?tabulate=weight(PWSSWGT)&row+for&row+PEMNTVTY&row+PEMARITL&row+PESEX&row+PRCITSHP&row+GTCBSA&for=state:35&key=804d0a1a18d1de70764950c78e2a3a42d3d45e48'} ]]]]\n",
            "INFO:activity_logger:Called main(self) - line: get() method - Result:{'response time in secs': 0, 'status': False, 'code': 404, 'comment': 'url:https://api.census.gov/data/2024/cps/basic/jun?tabulate=weight(PWSSWGT)&row+for&row+PEMNTVTY&row+PEMARITL&row+PESEX&row+PRCITSHP&row+GTCBSA&for=state:35&key=804d0a1a18d1de70764950c78e2a3a42d3d45e48'}\n",
            "INFO:activity_logger:> Error during URL call, Code return: 404, Skipped !!\n",
            "INFO:activity_logger:> Called main(self) method - End\n",
            "INFO:activity_logger:> ^^^^^^^^^^^^^^^^^^^^^^^^^^^^^^^^^^^^^^^^^^^^^^^^^^^^^^^^^^^^\n",
            "INFO:activity_logger:> vvvvvvvvvvvvvvvvvvvvvvvvvvvvvvvvvvvvvvvvvvvvvvvvvvvvvvvvvvvv\n",
            "INFO:activity_logger:> Called main(self) method - Entrance\n",
            "INFO:activity_logger:> Input Variables = stateID:35,year:2011,month:sep, self.url: https://api.census.gov/data/2011/cps/basic/sep?tabulate=weight(PWSSWGT)&row+for&row+PEMNTVTY&row+PEMARITL&row+PESEX&row+PRCITSHP&row+GTCBSA&for=state:35&key=804d0a1a18d1de70764950c78e2a3a42d3d45e48\n",
            "INFO:activity_logger:> Called main(self) - get() method - Will take some time usually 3-5min\n"
          ]
        },
        {
          "metadata": {
            "tags": null
          },
          "name": "stdout",
          "output_type": "stream",
          "text": [
            "Function: 'get()'. Census API query took: 0.38146352767944336 seconds\n"
          ]
        },
        {
          "metadata": {
            "tags": null
          },
          "name": "stderr",
          "output_type": "stream",
          "text": [
            "INFO:activity_logger:> Return dict: [[[[ {'response time in secs': 0, 'status': True, 'code': 200, 'comment': 'url:https://api.census.gov/data/2011/cps/basic/sep?tabulate=weight(PWSSWGT)&row+for&row+PEMNTVTY&row+PEMARITL&row+PESEX&row+PRCITSHP&row+GTCBSA&for=state:35&key=804d0a1a18d1de70764950c78e2a3a42d3d45e48'} ]]]]\n",
            "INFO:activity_logger:Called main(self) - line: get() method - Result:{'response time in secs': 0, 'status': True, 'code': 200, 'comment': 'url:https://api.census.gov/data/2011/cps/basic/sep?tabulate=weight(PWSSWGT)&row+for&row+PEMNTVTY&row+PEMARITL&row+PESEX&row+PRCITSHP&row+GTCBSA&for=state:35&key=804d0a1a18d1de70764950c78e2a3a42d3d45e48'}\n"
          ]
        },
        {
          "metadata": {
            "tags": null
          },
          "name": "stdout",
          "output_type": "stream",
          "text": [
            "Function: 'get()'. Census API query took: 155.67792129516602 seconds\n"
          ]
        },
        {
          "metadata": {
            "tags": null
          },
          "name": "stderr",
          "output_type": "stream",
          "text": [
            "INFO:activity_logger:> Cleaning dataAPI but removing data with no tabulate information (tabulate=0)\n",
            "INFO:activity_logger:> len(self.data4Df): 189\n",
            "INFO:activity_logger:> Built Dataframe for stateiD:35, YYYYMM:2011-sep\n",
            "INFO:activity_logger:> Called main(self) - buildingDf() method\n",
            "INFO:activity_logger:> Called main(self) - save() method\n",
            "INFO:activity_logger:> Created CSV file: 2011-sep-35-MixComp.csv\n",
            "INFO:activity_logger:> Called main(self) method - End\n",
            "INFO:activity_logger:> ^^^^^^^^^^^^^^^^^^^^^^^^^^^^^^^^^^^^^^^^^^^^^^^^^^^^^^^^^^^^\n",
            "INFO:activity_logger:> vvvvvvvvvvvvvvvvvvvvvvvvvvvvvvvvvvvvvvvvvvvvvvvvvvvvvvvvvvvv\n",
            "INFO:activity_logger:> Called main(self) method - Entrance\n",
            "INFO:activity_logger:> Input Variables = stateID:35,year:2024,month:nov, self.url: https://api.census.gov/data/2024/cps/basic/nov?tabulate=weight(PWSSWGT)&row+for&row+PEMNTVTY&row+PEMARITL&row+PESEX&row+PRCITSHP&row+GTCBSA&for=state:35&key=804d0a1a18d1de70764950c78e2a3a42d3d45e48\n",
            "INFO:activity_logger:> Called main(self) - get() method - Will take some time usually 3-5min\n",
            "INFO:activity_logger:> Return dict: [[[[ {'response time in secs': 0, 'status': False, 'code': 404, 'comment': 'url:https://api.census.gov/data/2024/cps/basic/nov?tabulate=weight(PWSSWGT)&row+for&row+PEMNTVTY&row+PEMARITL&row+PESEX&row+PRCITSHP&row+GTCBSA&for=state:35&key=804d0a1a18d1de70764950c78e2a3a42d3d45e48'} ]]]]\n",
            "INFO:activity_logger:Called main(self) - line: get() method - Result:{'response time in secs': 0, 'status': False, 'code': 404, 'comment': 'url:https://api.census.gov/data/2024/cps/basic/nov?tabulate=weight(PWSSWGT)&row+for&row+PEMNTVTY&row+PEMARITL&row+PESEX&row+PRCITSHP&row+GTCBSA&for=state:35&key=804d0a1a18d1de70764950c78e2a3a42d3d45e48'}\n",
            "INFO:activity_logger:> Error during URL call, Code return: 404, Skipped !!\n",
            "INFO:activity_logger:> Called main(self) method - End\n",
            "INFO:activity_logger:> ^^^^^^^^^^^^^^^^^^^^^^^^^^^^^^^^^^^^^^^^^^^^^^^^^^^^^^^^^^^^\n",
            "INFO:activity_logger:> vvvvvvvvvvvvvvvvvvvvvvvvvvvvvvvvvvvvvvvvvvvvvvvvvvvvvvvvvvvv\n",
            "INFO:activity_logger:> Called main(self) method - Entrance\n",
            "INFO:activity_logger:> Input Variables = stateID:41,year:2023,month:mar, self.url: https://api.census.gov/data/2023/cps/basic/mar?tabulate=weight(PWSSWGT)&row+for&row+PEMNTVTY&row+PEMARITL&row+PESEX&row+PRCITSHP&row+GTCBSA&for=state:41&key=804d0a1a18d1de70764950c78e2a3a42d3d45e48\n",
            "INFO:activity_logger:> Called main(self) - get() method - Will take some time usually 3-5min\n"
          ]
        },
        {
          "metadata": {
            "tags": null
          },
          "name": "stdout",
          "output_type": "stream",
          "text": [
            "Function: 'get()'. Census API query took: 0.36336708068847656 seconds\n"
          ]
        },
        {
          "metadata": {
            "tags": null
          },
          "name": "stderr",
          "output_type": "stream",
          "text": [
            "INFO:activity_logger:> Return dict: [[[[ {'response time in secs': 0, 'status': True, 'code': 200, 'comment': 'url:https://api.census.gov/data/2023/cps/basic/mar?tabulate=weight(PWSSWGT)&row+for&row+PEMNTVTY&row+PEMARITL&row+PESEX&row+PRCITSHP&row+GTCBSA&for=state:41&key=804d0a1a18d1de70764950c78e2a3a42d3d45e48'} ]]]]\n",
            "INFO:activity_logger:Called main(self) - line: get() method - Result:{'response time in secs': 0, 'status': True, 'code': 200, 'comment': 'url:https://api.census.gov/data/2023/cps/basic/mar?tabulate=weight(PWSSWGT)&row+for&row+PEMNTVTY&row+PEMARITL&row+PESEX&row+PRCITSHP&row+GTCBSA&for=state:41&key=804d0a1a18d1de70764950c78e2a3a42d3d45e48'}\n"
          ]
        },
        {
          "metadata": {
            "tags": null
          },
          "name": "stdout",
          "output_type": "stream",
          "text": [
            "Function: 'get()'. Census API query took: 160.92709493637085 seconds\n"
          ]
        },
        {
          "metadata": {
            "tags": null
          },
          "name": "stderr",
          "output_type": "stream",
          "text": [
            "INFO:activity_logger:> Cleaning dataAPI but removing data with no tabulate information (tabulate=0)\n",
            "INFO:activity_logger:> len(self.data4Df): 223\n",
            "INFO:activity_logger:> Built Dataframe for stateiD:41, YYYYMM:2023-mar\n",
            "INFO:activity_logger:> Called main(self) - buildingDf() method\n",
            "INFO:activity_logger:> Called main(self) - save() method\n",
            "INFO:activity_logger:> Created CSV file: 2023-mar-41-MixComp.csv\n",
            "INFO:activity_logger:> Called main(self) method - End\n",
            "INFO:activity_logger:> ^^^^^^^^^^^^^^^^^^^^^^^^^^^^^^^^^^^^^^^^^^^^^^^^^^^^^^^^^^^^\n",
            "INFO:activity_logger:> vvvvvvvvvvvvvvvvvvvvvvvvvvvvvvvvvvvvvvvvvvvvvvvvvvvvvvvvvvvv\n",
            "INFO:activity_logger:> Called main(self) method - Entrance\n",
            "INFO:activity_logger:> Input Variables = stateID:46,year:2021,month:mar, self.url: https://api.census.gov/data/2021/cps/basic/mar?tabulate=weight(PWSSWGT)&row+for&row+PEMNTVTY&row+PEMARITL&row+PESEX&row+PRCITSHP&row+GTCBSA&for=state:46&key=804d0a1a18d1de70764950c78e2a3a42d3d45e48\n",
            "INFO:activity_logger:> Called main(self) - get() method - Will take some time usually 3-5min\n",
            "INFO:activity_logger:> Return dict: [[[[ {'response time in secs': 0, 'status': True, 'code': 200, 'comment': 'url:https://api.census.gov/data/2021/cps/basic/mar?tabulate=weight(PWSSWGT)&row+for&row+PEMNTVTY&row+PEMARITL&row+PESEX&row+PRCITSHP&row+GTCBSA&for=state:46&key=804d0a1a18d1de70764950c78e2a3a42d3d45e48'} ]]]]\n",
            "INFO:activity_logger:Called main(self) - line: get() method - Result:{'response time in secs': 0, 'status': True, 'code': 200, 'comment': 'url:https://api.census.gov/data/2021/cps/basic/mar?tabulate=weight(PWSSWGT)&row+for&row+PEMNTVTY&row+PEMARITL&row+PESEX&row+PRCITSHP&row+GTCBSA&for=state:46&key=804d0a1a18d1de70764950c78e2a3a42d3d45e48'}\n"
          ]
        },
        {
          "metadata": {
            "tags": null
          },
          "name": "stdout",
          "output_type": "stream",
          "text": [
            "Function: 'get()'. Census API query took: 197.1134374141693 seconds\n"
          ]
        },
        {
          "metadata": {
            "tags": null
          },
          "name": "stderr",
          "output_type": "stream",
          "text": [
            "INFO:activity_logger:> Cleaning dataAPI but removing data with no tabulate information (tabulate=0)\n",
            "INFO:activity_logger:> len(self.data4Df): 39\n",
            "INFO:activity_logger:> Built Dataframe for stateiD:46, YYYYMM:2021-mar\n",
            "INFO:activity_logger:> Called main(self) - buildingDf() method\n",
            "INFO:activity_logger:> Called main(self) - save() method\n",
            "INFO:activity_logger:> Created CSV file: 2021-mar-46-MixComp.csv\n",
            "INFO:activity_logger:> Called main(self) method - End\n",
            "INFO:activity_logger:> ^^^^^^^^^^^^^^^^^^^^^^^^^^^^^^^^^^^^^^^^^^^^^^^^^^^^^^^^^^^^\n",
            "INFO:activity_logger:> vvvvvvvvvvvvvvvvvvvvvvvvvvvvvvvvvvvvvvvvvvvvvvvvvvvvvvvvvvvv\n",
            "INFO:activity_logger:> Called main(self) method - Entrance\n",
            "INFO:activity_logger:> Input Variables = stateID:47,year:2021,month:sep, self.url: https://api.census.gov/data/2021/cps/basic/sep?tabulate=weight(PWSSWGT)&row+for&row+PEMNTVTY&row+PEMARITL&row+PESEX&row+PRCITSHP&row+GTCBSA&for=state:47&key=804d0a1a18d1de70764950c78e2a3a42d3d45e48\n",
            "INFO:activity_logger:> Called main(self) - get() method - Will take some time usually 3-5min\n",
            "INFO:activity_logger:> Return dict: [[[[ {'response time in secs': 0, 'status': True, 'code': 200, 'comment': 'url:https://api.census.gov/data/2021/cps/basic/sep?tabulate=weight(PWSSWGT)&row+for&row+PEMNTVTY&row+PEMARITL&row+PESEX&row+PRCITSHP&row+GTCBSA&for=state:47&key=804d0a1a18d1de70764950c78e2a3a42d3d45e48'} ]]]]\n",
            "INFO:activity_logger:Called main(self) - line: get() method - Result:{'response time in secs': 0, 'status': True, 'code': 200, 'comment': 'url:https://api.census.gov/data/2021/cps/basic/sep?tabulate=weight(PWSSWGT)&row+for&row+PEMNTVTY&row+PEMARITL&row+PESEX&row+PRCITSHP&row+GTCBSA&for=state:47&key=804d0a1a18d1de70764950c78e2a3a42d3d45e48'}\n"
          ]
        },
        {
          "metadata": {
            "tags": null
          },
          "name": "stdout",
          "output_type": "stream",
          "text": [
            "Function: 'get()'. Census API query took: 197.12692666053772 seconds\n"
          ]
        },
        {
          "metadata": {
            "tags": null
          },
          "name": "stderr",
          "output_type": "stream",
          "text": [
            "INFO:activity_logger:> Cleaning dataAPI but removing data with no tabulate information (tabulate=0)\n",
            "INFO:activity_logger:> len(self.data4Df): 233\n",
            "INFO:activity_logger:> Built Dataframe for stateiD:47, YYYYMM:2021-sep\n",
            "INFO:activity_logger:> Called main(self) - buildingDf() method\n",
            "INFO:activity_logger:> Called main(self) - save() method\n",
            "INFO:activity_logger:> Created CSV file: 2021-sep-47-MixComp.csv\n",
            "INFO:activity_logger:> Called main(self) method - End\n",
            "INFO:activity_logger:> ^^^^^^^^^^^^^^^^^^^^^^^^^^^^^^^^^^^^^^^^^^^^^^^^^^^^^^^^^^^^\n",
            "INFO:activity_logger:> vvvvvvvvvvvvvvvvvvvvvvvvvvvvvvvvvvvvvvvvvvvvvvvvvvvvvvvvvvvv\n",
            "INFO:activity_logger:> Called main(self) method - Entrance\n",
            "INFO:activity_logger:> Input Variables = stateID:21,year:2019,month:apr, self.url: https://api.census.gov/data/2019/cps/basic/apr?tabulate=weight(PWSSWGT)&row+for&row+PEMNTVTY&row+PEMARITL&row+PESEX&row+PRCITSHP&row+GTCBSA&for=state:21&key=804d0a1a18d1de70764950c78e2a3a42d3d45e48\n",
            "INFO:activity_logger:> Called main(self) - get() method - Will take some time usually 3-5min\n",
            "INFO:activity_logger:> Return dict: [[[[ {'response time in secs': 0, 'status': True, 'code': 200, 'comment': 'url:https://api.census.gov/data/2019/cps/basic/apr?tabulate=weight(PWSSWGT)&row+for&row+PEMNTVTY&row+PEMARITL&row+PESEX&row+PRCITSHP&row+GTCBSA&for=state:21&key=804d0a1a18d1de70764950c78e2a3a42d3d45e48'} ]]]]\n",
            "INFO:activity_logger:Called main(self) - line: get() method - Result:{'response time in secs': 0, 'status': True, 'code': 200, 'comment': 'url:https://api.census.gov/data/2019/cps/basic/apr?tabulate=weight(PWSSWGT)&row+for&row+PEMNTVTY&row+PEMARITL&row+PESEX&row+PRCITSHP&row+GTCBSA&for=state:21&key=804d0a1a18d1de70764950c78e2a3a42d3d45e48'}\n"
          ]
        },
        {
          "metadata": {
            "tags": null
          },
          "name": "stdout",
          "output_type": "stream",
          "text": [
            "Function: 'get()'. Census API query took: 205.0355818271637 seconds\n"
          ]
        },
        {
          "metadata": {
            "tags": null
          },
          "name": "stderr",
          "output_type": "stream",
          "text": [
            "INFO:activity_logger:> Cleaning dataAPI but removing data with no tabulate information (tabulate=0)\n",
            "INFO:activity_logger:> len(self.data4Df): 101\n",
            "INFO:activity_logger:> Built Dataframe for stateiD:21, YYYYMM:2019-apr\n",
            "INFO:activity_logger:> Called main(self) - buildingDf() method\n",
            "INFO:activity_logger:> Called main(self) - save() method\n",
            "INFO:activity_logger:> Created CSV file: 2019-apr-21-MixComp.csv\n",
            "INFO:activity_logger:> Called main(self) method - End\n",
            "INFO:activity_logger:> ^^^^^^^^^^^^^^^^^^^^^^^^^^^^^^^^^^^^^^^^^^^^^^^^^^^^^^^^^^^^\n",
            "INFO:activity_logger:> vvvvvvvvvvvvvvvvvvvvvvvvvvvvvvvvvvvvvvvvvvvvvvvvvvvvvvvvvvvv\n",
            "INFO:activity_logger:> Called main(self) method - Entrance\n",
            "INFO:activity_logger:> Input Variables = stateID:22,year:2019,month:aug, self.url: https://api.census.gov/data/2019/cps/basic/aug?tabulate=weight(PWSSWGT)&row+for&row+PEMNTVTY&row+PEMARITL&row+PESEX&row+PRCITSHP&row+GTCBSA&for=state:22&key=804d0a1a18d1de70764950c78e2a3a42d3d45e48\n",
            "INFO:activity_logger:> Called main(self) - get() method - Will take some time usually 3-5min\n",
            "INFO:activity_logger:> Return dict: [[[[ {'response time in secs': 0, 'status': True, 'code': 200, 'comment': 'url:https://api.census.gov/data/2019/cps/basic/aug?tabulate=weight(PWSSWGT)&row+for&row+PEMNTVTY&row+PEMARITL&row+PESEX&row+PRCITSHP&row+GTCBSA&for=state:22&key=804d0a1a18d1de70764950c78e2a3a42d3d45e48'} ]]]]\n",
            "INFO:activity_logger:Called main(self) - line: get() method - Result:{'response time in secs': 0, 'status': True, 'code': 200, 'comment': 'url:https://api.census.gov/data/2019/cps/basic/aug?tabulate=weight(PWSSWGT)&row+for&row+PEMNTVTY&row+PEMARITL&row+PESEX&row+PRCITSHP&row+GTCBSA&for=state:22&key=804d0a1a18d1de70764950c78e2a3a42d3d45e48'}\n"
          ]
        },
        {
          "metadata": {
            "tags": null
          },
          "name": "stdout",
          "output_type": "stream",
          "text": [
            "Function: 'get()'. Census API query took: 238.17629265785217 seconds\n"
          ]
        },
        {
          "metadata": {
            "tags": null
          },
          "name": "stderr",
          "output_type": "stream",
          "text": [
            "INFO:activity_logger:> Cleaning dataAPI but removing data with no tabulate information (tabulate=0)\n",
            "INFO:activity_logger:> len(self.data4Df): 220\n",
            "INFO:activity_logger:> Built Dataframe for stateiD:22, YYYYMM:2019-aug\n",
            "INFO:activity_logger:> Called main(self) - buildingDf() method\n",
            "INFO:activity_logger:> Called main(self) - save() method\n",
            "INFO:activity_logger:> Created CSV file: 2019-aug-22-MixComp.csv\n",
            "INFO:activity_logger:> Called main(self) method - End\n",
            "INFO:activity_logger:> ^^^^^^^^^^^^^^^^^^^^^^^^^^^^^^^^^^^^^^^^^^^^^^^^^^^^^^^^^^^^\n",
            "INFO:activity_logger:> vvvvvvvvvvvvvvvvvvvvvvvvvvvvvvvvvvvvvvvvvvvvvvvvvvvvvvvvvvvv\n",
            "INFO:activity_logger:> Called main(self) method - Entrance\n",
            "INFO:activity_logger:> Input Variables = stateID:5,year:2019,month:dec, self.url: https://api.census.gov/data/2019/cps/basic/dec?tabulate=weight(PWSSWGT)&row+for&row+PEMNTVTY&row+PEMARITL&row+PESEX&row+PRCITSHP&row+GTCBSA&for=state:5&key=804d0a1a18d1de70764950c78e2a3a42d3d45e48\n",
            "INFO:activity_logger:> Called main(self) - get() method - Will take some time usually 3-5min\n",
            "INFO:activity_logger:> Return dict: [[[[ {'response time in secs': 0, 'status': True, 'code': 200, 'comment': 'url:https://api.census.gov/data/2019/cps/basic/dec?tabulate=weight(PWSSWGT)&row+for&row+PEMNTVTY&row+PEMARITL&row+PESEX&row+PRCITSHP&row+GTCBSA&for=state:5&key=804d0a1a18d1de70764950c78e2a3a42d3d45e48'} ]]]]\n",
            "INFO:activity_logger:Called main(self) - line: get() method - Result:{'response time in secs': 0, 'status': True, 'code': 200, 'comment': 'url:https://api.census.gov/data/2019/cps/basic/dec?tabulate=weight(PWSSWGT)&row+for&row+PEMNTVTY&row+PEMARITL&row+PESEX&row+PRCITSHP&row+GTCBSA&for=state:5&key=804d0a1a18d1de70764950c78e2a3a42d3d45e48'}\n"
          ]
        },
        {
          "metadata": {
            "tags": null
          },
          "name": "stdout",
          "output_type": "stream",
          "text": [
            "Function: 'get()'. Census API query took: 201.94918656349182 seconds\n"
          ]
        },
        {
          "metadata": {
            "tags": null
          },
          "name": "stderr",
          "output_type": "stream",
          "text": [
            "INFO:activity_logger:> Cleaning dataAPI but removing data with no tabulate information (tabulate=0)\n",
            "INFO:activity_logger:> len(self.data4Df): 164\n",
            "INFO:activity_logger:> Built Dataframe for stateiD:5, YYYYMM:2019-dec\n",
            "INFO:activity_logger:> Called main(self) - buildingDf() method\n",
            "INFO:activity_logger:> Called main(self) - save() method\n",
            "INFO:activity_logger:> Created CSV file: 2019-dec-05-MixComp.csv\n",
            "INFO:activity_logger:> Called main(self) method - End\n",
            "INFO:activity_logger:> ^^^^^^^^^^^^^^^^^^^^^^^^^^^^^^^^^^^^^^^^^^^^^^^^^^^^^^^^^^^^\n",
            "INFO:activity_logger:> vvvvvvvvvvvvvvvvvvvvvvvvvvvvvvvvvvvvvvvvvvvvvvvvvvvvvvvvvvvv\n",
            "INFO:activity_logger:> Called main(self) method - Entrance\n",
            "INFO:activity_logger:> Input Variables = stateID:39,year:2021,month:may, self.url: https://api.census.gov/data/2021/cps/basic/may?tabulate=weight(PWSSWGT)&row+for&row+PEMNTVTY&row+PEMARITL&row+PESEX&row+PRCITSHP&row+GTCBSA&for=state:39&key=804d0a1a18d1de70764950c78e2a3a42d3d45e48\n",
            "INFO:activity_logger:> Called main(self) - get() method - Will take some time usually 3-5min\n",
            "INFO:activity_logger:> Return dict: [[[[ {'response time in secs': 0, 'status': True, 'code': 200, 'comment': 'url:https://api.census.gov/data/2021/cps/basic/may?tabulate=weight(PWSSWGT)&row+for&row+PEMNTVTY&row+PEMARITL&row+PESEX&row+PRCITSHP&row+GTCBSA&for=state:39&key=804d0a1a18d1de70764950c78e2a3a42d3d45e48'} ]]]]\n",
            "INFO:activity_logger:Called main(self) - line: get() method - Result:{'response time in secs': 0, 'status': True, 'code': 200, 'comment': 'url:https://api.census.gov/data/2021/cps/basic/may?tabulate=weight(PWSSWGT)&row+for&row+PEMNTVTY&row+PEMARITL&row+PESEX&row+PRCITSHP&row+GTCBSA&for=state:39&key=804d0a1a18d1de70764950c78e2a3a42d3d45e48'}\n"
          ]
        },
        {
          "metadata": {
            "tags": null
          },
          "name": "stdout",
          "output_type": "stream",
          "text": [
            "Function: 'get()'. Census API query took: 202.93990349769592 seconds\n"
          ]
        },
        {
          "metadata": {
            "tags": null
          },
          "name": "stderr",
          "output_type": "stream",
          "text": [
            "INFO:activity_logger:> Cleaning dataAPI but removing data with no tabulate information (tabulate=0)\n",
            "INFO:activity_logger:> len(self.data4Df): 296\n",
            "INFO:activity_logger:> Built Dataframe for stateiD:39, YYYYMM:2021-may\n",
            "INFO:activity_logger:> Called main(self) - buildingDf() method\n",
            "INFO:activity_logger:> Called main(self) - save() method\n",
            "INFO:activity_logger:> Created CSV file: 2021-may-39-MixComp.csv\n",
            "INFO:activity_logger:> Called main(self) method - End\n",
            "INFO:activity_logger:> ^^^^^^^^^^^^^^^^^^^^^^^^^^^^^^^^^^^^^^^^^^^^^^^^^^^^^^^^^^^^\n",
            "INFO:activity_logger:> vvvvvvvvvvvvvvvvvvvvvvvvvvvvvvvvvvvvvvvvvvvvvvvvvvvvvvvvvvvv\n",
            "INFO:activity_logger:> Called main(self) method - Entrance\n",
            "INFO:activity_logger:> Input Variables = stateID:48,year:2010,month:may, self.url: https://api.census.gov/data/2010/cps/basic/may?tabulate=weight(PWSSWGT)&row+for&row+PEMNTVTY&row+PEMARITL&row+PESEX&row+PRCITSHP&row+GTCBSA&for=state:48&key=804d0a1a18d1de70764950c78e2a3a42d3d45e48\n",
            "INFO:activity_logger:> Called main(self) - get() method - Will take some time usually 3-5min\n",
            "INFO:activity_logger:> Return dict: [[[[ {'response time in secs': 0, 'status': True, 'code': 200, 'comment': 'url:https://api.census.gov/data/2010/cps/basic/may?tabulate=weight(PWSSWGT)&row+for&row+PEMNTVTY&row+PEMARITL&row+PESEX&row+PRCITSHP&row+GTCBSA&for=state:48&key=804d0a1a18d1de70764950c78e2a3a42d3d45e48'} ]]]]\n",
            "INFO:activity_logger:Called main(self) - line: get() method - Result:{'response time in secs': 0, 'status': True, 'code': 200, 'comment': 'url:https://api.census.gov/data/2010/cps/basic/may?tabulate=weight(PWSSWGT)&row+for&row+PEMNTVTY&row+PEMARITL&row+PESEX&row+PRCITSHP&row+GTCBSA&for=state:48&key=804d0a1a18d1de70764950c78e2a3a42d3d45e48'}\n"
          ]
        },
        {
          "metadata": {
            "tags": null
          },
          "name": "stdout",
          "output_type": "stream",
          "text": [
            "Function: 'get()'. Census API query took: 213.82468271255493 seconds\n"
          ]
        },
        {
          "metadata": {
            "tags": null
          },
          "name": "stderr",
          "output_type": "stream",
          "text": [
            "INFO:activity_logger:> Cleaning dataAPI but removing data with no tabulate information (tabulate=0)\n",
            "INFO:activity_logger:> len(self.data4Df): 1044\n",
            "INFO:activity_logger:> Built Dataframe for stateiD:48, YYYYMM:2010-may\n",
            "INFO:activity_logger:> Called main(self) - buildingDf() method\n",
            "INFO:activity_logger:> Called main(self) - save() method\n",
            "INFO:activity_logger:> Created CSV file: 2010-may-48-MixComp.csv\n",
            "INFO:activity_logger:> Called main(self) method - End\n",
            "INFO:activity_logger:> ^^^^^^^^^^^^^^^^^^^^^^^^^^^^^^^^^^^^^^^^^^^^^^^^^^^^^^^^^^^^\n",
            "INFO:activity_logger:> vvvvvvvvvvvvvvvvvvvvvvvvvvvvvvvvvvvvvvvvvvvvvvvvvvvvvvvvvvvv\n",
            "INFO:activity_logger:> Called main(self) method - Entrance\n",
            "INFO:activity_logger:> Input Variables = stateID:35,year:2021,month:jan, self.url: https://api.census.gov/data/2021/cps/basic/jan?tabulate=weight(PWSSWGT)&row+for&row+PEMNTVTY&row+PEMARITL&row+PESEX&row+PRCITSHP&row+GTCBSA&for=state:35&key=804d0a1a18d1de70764950c78e2a3a42d3d45e48\n",
            "INFO:activity_logger:> Called main(self) - get() method - Will take some time usually 3-5min\n",
            "INFO:activity_logger:> Return dict: [[[[ {'response time in secs': 0, 'status': True, 'code': 200, 'comment': 'url:https://api.census.gov/data/2021/cps/basic/jan?tabulate=weight(PWSSWGT)&row+for&row+PEMNTVTY&row+PEMARITL&row+PESEX&row+PRCITSHP&row+GTCBSA&for=state:35&key=804d0a1a18d1de70764950c78e2a3a42d3d45e48'} ]]]]\n",
            "INFO:activity_logger:Called main(self) - line: get() method - Result:{'response time in secs': 0, 'status': True, 'code': 200, 'comment': 'url:https://api.census.gov/data/2021/cps/basic/jan?tabulate=weight(PWSSWGT)&row+for&row+PEMNTVTY&row+PEMARITL&row+PESEX&row+PRCITSHP&row+GTCBSA&for=state:35&key=804d0a1a18d1de70764950c78e2a3a42d3d45e48'}\n"
          ]
        },
        {
          "metadata": {
            "tags": null
          },
          "name": "stdout",
          "output_type": "stream",
          "text": [
            "Function: 'get()'. Census API query took: 196.43319988250732 seconds\n"
          ]
        },
        {
          "metadata": {
            "tags": null
          },
          "name": "stderr",
          "output_type": "stream",
          "text": [
            "INFO:activity_logger:> Cleaning dataAPI but removing data with no tabulate information (tabulate=0)\n",
            "INFO:activity_logger:> len(self.data4Df): 177\n",
            "INFO:activity_logger:> Built Dataframe for stateiD:35, YYYYMM:2021-jan\n",
            "INFO:activity_logger:> Called main(self) - buildingDf() method\n",
            "INFO:activity_logger:> Called main(self) - save() method\n",
            "INFO:activity_logger:> Created CSV file: 2021-jan-35-MixComp.csv\n",
            "INFO:activity_logger:> Called main(self) method - End\n",
            "INFO:activity_logger:> ^^^^^^^^^^^^^^^^^^^^^^^^^^^^^^^^^^^^^^^^^^^^^^^^^^^^^^^^^^^^\n",
            "INFO:activity_logger:> vvvvvvvvvvvvvvvvvvvvvvvvvvvvvvvvvvvvvvvvvvvvvvvvvvvvvvvvvvvv\n",
            "INFO:activity_logger:> Called main(self) method - Entrance\n",
            "INFO:activity_logger:> Input Variables = stateID:31,year:2012,month:oct, self.url: https://api.census.gov/data/2012/cps/basic/oct?tabulate=weight(PWSSWGT)&row+for&row+PEMNTVTY&row+PEMARITL&row+PESEX&row+PRCITSHP&row+GTCBSA&for=state:31&key=804d0a1a18d1de70764950c78e2a3a42d3d45e48\n",
            "INFO:activity_logger:> Called main(self) - get() method - Will take some time usually 3-5min\n",
            "INFO:activity_logger:> Return dict: [[[[ {'response time in secs': 0, 'status': True, 'code': 200, 'comment': 'url:https://api.census.gov/data/2012/cps/basic/oct?tabulate=weight(PWSSWGT)&row+for&row+PEMNTVTY&row+PEMARITL&row+PESEX&row+PRCITSHP&row+GTCBSA&for=state:31&key=804d0a1a18d1de70764950c78e2a3a42d3d45e48'} ]]]]\n",
            "INFO:activity_logger:Called main(self) - line: get() method - Result:{'response time in secs': 0, 'status': True, 'code': 200, 'comment': 'url:https://api.census.gov/data/2012/cps/basic/oct?tabulate=weight(PWSSWGT)&row+for&row+PEMNTVTY&row+PEMARITL&row+PESEX&row+PRCITSHP&row+GTCBSA&for=state:31&key=804d0a1a18d1de70764950c78e2a3a42d3d45e48'}\n"
          ]
        },
        {
          "metadata": {
            "tags": null
          },
          "name": "stdout",
          "output_type": "stream",
          "text": [
            "Function: 'get()'. Census API query took: 171.57402348518372 seconds\n"
          ]
        },
        {
          "metadata": {
            "tags": null
          },
          "name": "stderr",
          "output_type": "stream",
          "text": [
            "INFO:activity_logger:> Cleaning dataAPI but removing data with no tabulate information (tabulate=0)\n",
            "INFO:activity_logger:> len(self.data4Df): 207\n",
            "INFO:activity_logger:> Built Dataframe for stateiD:31, YYYYMM:2012-oct\n",
            "INFO:activity_logger:> Called main(self) - buildingDf() method\n",
            "INFO:activity_logger:> Called main(self) - save() method\n",
            "INFO:activity_logger:> Created CSV file: 2012-oct-31-MixComp.csv\n",
            "INFO:activity_logger:> Called main(self) method - End\n",
            "INFO:activity_logger:> ^^^^^^^^^^^^^^^^^^^^^^^^^^^^^^^^^^^^^^^^^^^^^^^^^^^^^^^^^^^^\n",
            "INFO:activity_logger:> vvvvvvvvvvvvvvvvvvvvvvvvvvvvvvvvvvvvvvvvvvvvvvvvvvvvvvvvvvvv\n",
            "INFO:activity_logger:> Called main(self) method - Entrance\n",
            "INFO:activity_logger:> Input Variables = stateID:25,year:2010,month:jan, self.url: https://api.census.gov/data/2010/cps/basic/jan?tabulate=weight(PWSSWGT)&row+for&row+PEMNTVTY&row+PEMARITL&row+PESEX&row+PRCITSHP&row+GTCBSA&for=state:25&key=804d0a1a18d1de70764950c78e2a3a42d3d45e48\n",
            "INFO:activity_logger:> Called main(self) - get() method - Will take some time usually 3-5min\n",
            "INFO:activity_logger:> Return dict: [[[[ {'response time in secs': 0, 'status': True, 'code': 200, 'comment': 'url:https://api.census.gov/data/2010/cps/basic/jan?tabulate=weight(PWSSWGT)&row+for&row+PEMNTVTY&row+PEMARITL&row+PESEX&row+PRCITSHP&row+GTCBSA&for=state:25&key=804d0a1a18d1de70764950c78e2a3a42d3d45e48'} ]]]]\n",
            "INFO:activity_logger:Called main(self) - line: get() method - Result:{'response time in secs': 0, 'status': True, 'code': 200, 'comment': 'url:https://api.census.gov/data/2010/cps/basic/jan?tabulate=weight(PWSSWGT)&row+for&row+PEMNTVTY&row+PEMARITL&row+PESEX&row+PRCITSHP&row+GTCBSA&for=state:25&key=804d0a1a18d1de70764950c78e2a3a42d3d45e48'}\n"
          ]
        },
        {
          "metadata": {
            "tags": null
          },
          "name": "stdout",
          "output_type": "stream",
          "text": [
            "Function: 'get()'. Census API query took: 163.5425820350647 seconds\n"
          ]
        },
        {
          "metadata": {
            "tags": null
          },
          "name": "stderr",
          "output_type": "stream",
          "text": [
            "INFO:activity_logger:> Cleaning dataAPI but removing data with no tabulate information (tabulate=0)\n",
            "INFO:activity_logger:> len(self.data4Df): 458\n",
            "INFO:activity_logger:> Built Dataframe for stateiD:25, YYYYMM:2010-jan\n",
            "INFO:activity_logger:> Called main(self) - buildingDf() method\n",
            "INFO:activity_logger:> Called main(self) - save() method\n",
            "INFO:activity_logger:> Created CSV file: 2010-jan-25-MixComp.csv\n",
            "INFO:activity_logger:> Called main(self) method - End\n",
            "INFO:activity_logger:> ^^^^^^^^^^^^^^^^^^^^^^^^^^^^^^^^^^^^^^^^^^^^^^^^^^^^^^^^^^^^\n",
            "INFO:activity_logger:> vvvvvvvvvvvvvvvvvvvvvvvvvvvvvvvvvvvvvvvvvvvvvvvvvvvvvvvvvvvv\n",
            "INFO:activity_logger:> Called main(self) method - Entrance\n",
            "INFO:activity_logger:> Input Variables = stateID:19,year:2014,month:jun, self.url: https://api.census.gov/data/2014/cps/basic/jun?tabulate=weight(PWSSWGT)&row+for&row+PEMNTVTY&row+PEMARITL&row+PESEX&row+PRCITSHP&row+GTCBSA&for=state:19&key=804d0a1a18d1de70764950c78e2a3a42d3d45e48\n",
            "INFO:activity_logger:> Called main(self) - get() method - Will take some time usually 3-5min\n",
            "INFO:activity_logger:> Return dict: [[[[ {'response time in secs': 0, 'status': True, 'code': 200, 'comment': 'url:https://api.census.gov/data/2014/cps/basic/jun?tabulate=weight(PWSSWGT)&row+for&row+PEMNTVTY&row+PEMARITL&row+PESEX&row+PRCITSHP&row+GTCBSA&for=state:19&key=804d0a1a18d1de70764950c78e2a3a42d3d45e48'} ]]]]\n",
            "INFO:activity_logger:Called main(self) - line: get() method - Result:{'response time in secs': 0, 'status': True, 'code': 200, 'comment': 'url:https://api.census.gov/data/2014/cps/basic/jun?tabulate=weight(PWSSWGT)&row+for&row+PEMNTVTY&row+PEMARITL&row+PESEX&row+PRCITSHP&row+GTCBSA&for=state:19&key=804d0a1a18d1de70764950c78e2a3a42d3d45e48'}\n"
          ]
        },
        {
          "metadata": {
            "tags": null
          },
          "name": "stdout",
          "output_type": "stream",
          "text": [
            "Function: 'get()'. Census API query took: 193.3074071407318 seconds\n"
          ]
        },
        {
          "metadata": {
            "tags": null
          },
          "name": "stderr",
          "output_type": "stream",
          "text": [
            "INFO:activity_logger:> Cleaning dataAPI but removing data with no tabulate information (tabulate=0)\n",
            "INFO:activity_logger:> len(self.data4Df): 169\n",
            "INFO:activity_logger:> Built Dataframe for stateiD:19, YYYYMM:2014-jun\n",
            "INFO:activity_logger:> Called main(self) - buildingDf() method\n",
            "INFO:activity_logger:> Called main(self) - save() method\n",
            "INFO:activity_logger:> Created CSV file: 2014-jun-19-MixComp.csv\n",
            "INFO:activity_logger:> Called main(self) method - End\n",
            "INFO:activity_logger:> ^^^^^^^^^^^^^^^^^^^^^^^^^^^^^^^^^^^^^^^^^^^^^^^^^^^^^^^^^^^^\n",
            "INFO:activity_logger:> vvvvvvvvvvvvvvvvvvvvvvvvvvvvvvvvvvvvvvvvvvvvvvvvvvvvvvvvvvvv\n",
            "INFO:activity_logger:> Called main(self) method - Entrance\n",
            "INFO:activity_logger:> Input Variables = stateID:4,year:2022,month:sep, self.url: https://api.census.gov/data/2022/cps/basic/sep?tabulate=weight(PWSSWGT)&row+for&row+PEMNTVTY&row+PEMARITL&row+PESEX&row+PRCITSHP&row+GTCBSA&for=state:4&key=804d0a1a18d1de70764950c78e2a3a42d3d45e48\n",
            "INFO:activity_logger:> Called main(self) - get() method - Will take some time usually 3-5min\n",
            "INFO:activity_logger:> Return dict: [[[[ {'response time in secs': 0, 'status': True, 'code': 200, 'comment': 'url:https://api.census.gov/data/2022/cps/basic/sep?tabulate=weight(PWSSWGT)&row+for&row+PEMNTVTY&row+PEMARITL&row+PESEX&row+PRCITSHP&row+GTCBSA&for=state:4&key=804d0a1a18d1de70764950c78e2a3a42d3d45e48'} ]]]]\n",
            "INFO:activity_logger:Called main(self) - line: get() method - Result:{'response time in secs': 0, 'status': True, 'code': 200, 'comment': 'url:https://api.census.gov/data/2022/cps/basic/sep?tabulate=weight(PWSSWGT)&row+for&row+PEMNTVTY&row+PEMARITL&row+PESEX&row+PRCITSHP&row+GTCBSA&for=state:4&key=804d0a1a18d1de70764950c78e2a3a42d3d45e48'}\n"
          ]
        },
        {
          "metadata": {
            "tags": null
          },
          "name": "stdout",
          "output_type": "stream",
          "text": [
            "Function: 'get()'. Census API query took: 199.62364411354065 seconds\n"
          ]
        },
        {
          "metadata": {
            "tags": null
          },
          "name": "stderr",
          "output_type": "stream",
          "text": [
            "INFO:activity_logger:> Cleaning dataAPI but removing data with no tabulate information (tabulate=0)\n",
            "INFO:activity_logger:> len(self.data4Df): 255\n",
            "INFO:activity_logger:> Built Dataframe for stateiD:4, YYYYMM:2022-sep\n",
            "INFO:activity_logger:> Called main(self) - buildingDf() method\n",
            "INFO:activity_logger:> Called main(self) - save() method\n",
            "INFO:activity_logger:> Created CSV file: 2022-sep-04-MixComp.csv\n",
            "INFO:activity_logger:> Called main(self) method - End\n",
            "INFO:activity_logger:> ^^^^^^^^^^^^^^^^^^^^^^^^^^^^^^^^^^^^^^^^^^^^^^^^^^^^^^^^^^^^\n",
            "INFO:activity_logger:> vvvvvvvvvvvvvvvvvvvvvvvvvvvvvvvvvvvvvvvvvvvvvvvvvvvvvvvvvvvv\n",
            "INFO:activity_logger:> Called main(self) method - Entrance\n",
            "INFO:activity_logger:> Input Variables = stateID:28,year:2021,month:jan, self.url: https://api.census.gov/data/2021/cps/basic/jan?tabulate=weight(PWSSWGT)&row+for&row+PEMNTVTY&row+PEMARITL&row+PESEX&row+PRCITSHP&row+GTCBSA&for=state:28&key=804d0a1a18d1de70764950c78e2a3a42d3d45e48\n",
            "INFO:activity_logger:> Called main(self) - get() method - Will take some time usually 3-5min\n",
            "INFO:activity_logger:> Return dict: [[[[ {'response time in secs': 0, 'status': True, 'code': 200, 'comment': 'url:https://api.census.gov/data/2021/cps/basic/jan?tabulate=weight(PWSSWGT)&row+for&row+PEMNTVTY&row+PEMARITL&row+PESEX&row+PRCITSHP&row+GTCBSA&for=state:28&key=804d0a1a18d1de70764950c78e2a3a42d3d45e48'} ]]]]\n",
            "INFO:activity_logger:Called main(self) - line: get() method - Result:{'response time in secs': 0, 'status': True, 'code': 200, 'comment': 'url:https://api.census.gov/data/2021/cps/basic/jan?tabulate=weight(PWSSWGT)&row+for&row+PEMNTVTY&row+PEMARITL&row+PESEX&row+PRCITSHP&row+GTCBSA&for=state:28&key=804d0a1a18d1de70764950c78e2a3a42d3d45e48'}\n"
          ]
        },
        {
          "metadata": {
            "tags": null
          },
          "name": "stdout",
          "output_type": "stream",
          "text": [
            "Function: 'get()'. Census API query took: 190.76716232299805 seconds\n"
          ]
        },
        {
          "metadata": {
            "tags": null
          },
          "name": "stderr",
          "output_type": "stream",
          "text": [
            "INFO:activity_logger:> Cleaning dataAPI but removing data with no tabulate information (tabulate=0)\n",
            "INFO:activity_logger:> len(self.data4Df): 75\n",
            "INFO:activity_logger:> Built Dataframe for stateiD:28, YYYYMM:2021-jan\n",
            "INFO:activity_logger:> Called main(self) - buildingDf() method\n",
            "INFO:activity_logger:> Called main(self) - save() method\n",
            "INFO:activity_logger:> Created CSV file: 2021-jan-28-MixComp.csv\n",
            "INFO:activity_logger:> Called main(self) method - End\n",
            "INFO:activity_logger:> ^^^^^^^^^^^^^^^^^^^^^^^^^^^^^^^^^^^^^^^^^^^^^^^^^^^^^^^^^^^^\n",
            "INFO:activity_logger:> vvvvvvvvvvvvvvvvvvvvvvvvvvvvvvvvvvvvvvvvvvvvvvvvvvvvvvvvvvvv\n",
            "INFO:activity_logger:> Called main(self) method - Entrance\n",
            "INFO:activity_logger:> Input Variables = stateID:16,year:2021,month:jul, self.url: https://api.census.gov/data/2021/cps/basic/jul?tabulate=weight(PWSSWGT)&row+for&row+PEMNTVTY&row+PEMARITL&row+PESEX&row+PRCITSHP&row+GTCBSA&for=state:16&key=804d0a1a18d1de70764950c78e2a3a42d3d45e48\n",
            "INFO:activity_logger:> Called main(self) - get() method - Will take some time usually 3-5min\n",
            "INFO:activity_logger:> Return dict: [[[[ {'response time in secs': 0, 'status': True, 'code': 200, 'comment': 'url:https://api.census.gov/data/2021/cps/basic/jul?tabulate=weight(PWSSWGT)&row+for&row+PEMNTVTY&row+PEMARITL&row+PESEX&row+PRCITSHP&row+GTCBSA&for=state:16&key=804d0a1a18d1de70764950c78e2a3a42d3d45e48'} ]]]]\n",
            "INFO:activity_logger:Called main(self) - line: get() method - Result:{'response time in secs': 0, 'status': True, 'code': 200, 'comment': 'url:https://api.census.gov/data/2021/cps/basic/jul?tabulate=weight(PWSSWGT)&row+for&row+PEMNTVTY&row+PEMARITL&row+PESEX&row+PRCITSHP&row+GTCBSA&for=state:16&key=804d0a1a18d1de70764950c78e2a3a42d3d45e48'}\n"
          ]
        },
        {
          "metadata": {
            "tags": null
          },
          "name": "stdout",
          "output_type": "stream",
          "text": [
            "Function: 'get()'. Census API query took: 185.69334745407104 seconds\n"
          ]
        },
        {
          "metadata": {
            "tags": null
          },
          "name": "stderr",
          "output_type": "stream",
          "text": [
            "INFO:activity_logger:> Cleaning dataAPI but removing data with no tabulate information (tabulate=0)\n",
            "INFO:activity_logger:> len(self.data4Df): 133\n",
            "INFO:activity_logger:> Built Dataframe for stateiD:16, YYYYMM:2021-jul\n",
            "INFO:activity_logger:> Called main(self) - buildingDf() method\n",
            "INFO:activity_logger:> Called main(self) - save() method\n",
            "INFO:activity_logger:> Created CSV file: 2021-jul-16-MixComp.csv\n",
            "INFO:activity_logger:> Called main(self) method - End\n",
            "INFO:activity_logger:> ^^^^^^^^^^^^^^^^^^^^^^^^^^^^^^^^^^^^^^^^^^^^^^^^^^^^^^^^^^^^\n",
            "INFO:activity_logger:> vvvvvvvvvvvvvvvvvvvvvvvvvvvvvvvvvvvvvvvvvvvvvvvvvvvvvvvvvvvv\n",
            "INFO:activity_logger:> Called main(self) method - Entrance\n",
            "INFO:activity_logger:> Input Variables = stateID:53,year:2012,month:oct, self.url: https://api.census.gov/data/2012/cps/basic/oct?tabulate=weight(PWSSWGT)&row+for&row+PEMNTVTY&row+PEMARITL&row+PESEX&row+PRCITSHP&row+GTCBSA&for=state:53&key=804d0a1a18d1de70764950c78e2a3a42d3d45e48\n",
            "INFO:activity_logger:> Called main(self) - get() method - Will take some time usually 3-5min\n",
            "INFO:activity_logger:> Return dict: [[[[ {'response time in secs': 0, 'status': True, 'code': 200, 'comment': 'url:https://api.census.gov/data/2012/cps/basic/oct?tabulate=weight(PWSSWGT)&row+for&row+PEMNTVTY&row+PEMARITL&row+PESEX&row+PRCITSHP&row+GTCBSA&for=state:53&key=804d0a1a18d1de70764950c78e2a3a42d3d45e48'} ]]]]\n",
            "INFO:activity_logger:Called main(self) - line: get() method - Result:{'response time in secs': 0, 'status': True, 'code': 200, 'comment': 'url:https://api.census.gov/data/2012/cps/basic/oct?tabulate=weight(PWSSWGT)&row+for&row+PEMNTVTY&row+PEMARITL&row+PESEX&row+PRCITSHP&row+GTCBSA&for=state:53&key=804d0a1a18d1de70764950c78e2a3a42d3d45e48'}\n"
          ]
        },
        {
          "metadata": {
            "tags": null
          },
          "name": "stdout",
          "output_type": "stream",
          "text": [
            "Function: 'get()'. Census API query took: 175.62230896949768 seconds\n"
          ]
        },
        {
          "metadata": {
            "tags": null
          },
          "name": "stderr",
          "output_type": "stream",
          "text": [
            "INFO:activity_logger:> Cleaning dataAPI but removing data with no tabulate information (tabulate=0)\n",
            "INFO:activity_logger:> len(self.data4Df): 499\n",
            "INFO:activity_logger:> Built Dataframe for stateiD:53, YYYYMM:2012-oct\n",
            "INFO:activity_logger:> Called main(self) - buildingDf() method\n",
            "INFO:activity_logger:> Called main(self) - save() method\n",
            "INFO:activity_logger:> Created CSV file: 2012-oct-53-MixComp.csv\n",
            "INFO:activity_logger:> Called main(self) method - End\n",
            "INFO:activity_logger:> ^^^^^^^^^^^^^^^^^^^^^^^^^^^^^^^^^^^^^^^^^^^^^^^^^^^^^^^^^^^^\n",
            "INFO:activity_logger:> vvvvvvvvvvvvvvvvvvvvvvvvvvvvvvvvvvvvvvvvvvvvvvvvvvvvvvvvvvvv\n",
            "INFO:activity_logger:> Called main(self) method - Entrance\n",
            "INFO:activity_logger:> Input Variables = stateID:47,year:2010,month:jul, self.url: https://api.census.gov/data/2010/cps/basic/jul?tabulate=weight(PWSSWGT)&row+for&row+PEMNTVTY&row+PEMARITL&row+PESEX&row+PRCITSHP&row+GTCBSA&for=state:47&key=804d0a1a18d1de70764950c78e2a3a42d3d45e48\n",
            "INFO:activity_logger:> Called main(self) - get() method - Will take some time usually 3-5min\n",
            "INFO:activity_logger:> Return dict: [[[[ {'response time in secs': 0, 'status': True, 'code': 200, 'comment': 'url:https://api.census.gov/data/2010/cps/basic/jul?tabulate=weight(PWSSWGT)&row+for&row+PEMNTVTY&row+PEMARITL&row+PESEX&row+PRCITSHP&row+GTCBSA&for=state:47&key=804d0a1a18d1de70764950c78e2a3a42d3d45e48'} ]]]]\n",
            "INFO:activity_logger:Called main(self) - line: get() method - Result:{'response time in secs': 0, 'status': True, 'code': 200, 'comment': 'url:https://api.census.gov/data/2010/cps/basic/jul?tabulate=weight(PWSSWGT)&row+for&row+PEMNTVTY&row+PEMARITL&row+PESEX&row+PRCITSHP&row+GTCBSA&for=state:47&key=804d0a1a18d1de70764950c78e2a3a42d3d45e48'}\n"
          ]
        },
        {
          "metadata": {
            "tags": null
          },
          "name": "stdout",
          "output_type": "stream",
          "text": [
            "Function: 'get()'. Census API query took: 154.430513381958 seconds\n"
          ]
        },
        {
          "metadata": {
            "tags": null
          },
          "name": "stderr",
          "output_type": "stream",
          "text": [
            "INFO:activity_logger:> Cleaning dataAPI but removing data with no tabulate information (tabulate=0)\n",
            "INFO:activity_logger:> len(self.data4Df): 199\n",
            "INFO:activity_logger:> Built Dataframe for stateiD:47, YYYYMM:2010-jul\n",
            "INFO:activity_logger:> Called main(self) - buildingDf() method\n",
            "INFO:activity_logger:> Called main(self) - save() method\n",
            "INFO:activity_logger:> Created CSV file: 2010-jul-47-MixComp.csv\n",
            "INFO:activity_logger:> Called main(self) method - End\n",
            "INFO:activity_logger:> ^^^^^^^^^^^^^^^^^^^^^^^^^^^^^^^^^^^^^^^^^^^^^^^^^^^^^^^^^^^^\n",
            "INFO:activity_logger:> vvvvvvvvvvvvvvvvvvvvvvvvvvvvvvvvvvvvvvvvvvvvvvvvvvvvvvvvvvvv\n",
            "INFO:activity_logger:> Called main(self) method - Entrance\n",
            "INFO:activity_logger:> Input Variables = stateID:49,year:2018,month:mar, self.url: https://api.census.gov/data/2018/cps/basic/mar?tabulate=weight(PWSSWGT)&row+for&row+PEMNTVTY&row+PEMARITL&row+PESEX&row+PRCITSHP&row+GTCBSA&for=state:49&key=804d0a1a18d1de70764950c78e2a3a42d3d45e48\n",
            "INFO:activity_logger:> Called main(self) - get() method - Will take some time usually 3-5min\n",
            "INFO:activity_logger:> Return dict: [[[[ {'response time in secs': 0, 'status': True, 'code': 200, 'comment': 'url:https://api.census.gov/data/2018/cps/basic/mar?tabulate=weight(PWSSWGT)&row+for&row+PEMNTVTY&row+PEMARITL&row+PESEX&row+PRCITSHP&row+GTCBSA&for=state:49&key=804d0a1a18d1de70764950c78e2a3a42d3d45e48'} ]]]]\n",
            "INFO:activity_logger:Called main(self) - line: get() method - Result:{'response time in secs': 0, 'status': True, 'code': 200, 'comment': 'url:https://api.census.gov/data/2018/cps/basic/mar?tabulate=weight(PWSSWGT)&row+for&row+PEMNTVTY&row+PEMARITL&row+PESEX&row+PRCITSHP&row+GTCBSA&for=state:49&key=804d0a1a18d1de70764950c78e2a3a42d3d45e48'}\n"
          ]
        },
        {
          "metadata": {
            "tags": null
          },
          "name": "stdout",
          "output_type": "stream",
          "text": [
            "Function: 'get()'. Census API query took: 238.00876355171204 seconds\n"
          ]
        },
        {
          "metadata": {
            "tags": null
          },
          "name": "stderr",
          "output_type": "stream",
          "text": [
            "INFO:activity_logger:> Cleaning dataAPI but removing data with no tabulate information (tabulate=0)\n",
            "INFO:activity_logger:> len(self.data4Df): 235\n",
            "INFO:activity_logger:> Built Dataframe for stateiD:49, YYYYMM:2018-mar\n",
            "INFO:activity_logger:> Called main(self) - buildingDf() method\n",
            "INFO:activity_logger:> Called main(self) - save() method\n",
            "INFO:activity_logger:> Created CSV file: 2018-mar-49-MixComp.csv\n",
            "INFO:activity_logger:> Called main(self) method - End\n",
            "INFO:activity_logger:> ^^^^^^^^^^^^^^^^^^^^^^^^^^^^^^^^^^^^^^^^^^^^^^^^^^^^^^^^^^^^\n",
            "INFO:activity_logger:> vvvvvvvvvvvvvvvvvvvvvvvvvvvvvvvvvvvvvvvvvvvvvvvvvvvvvvvvvvvv\n",
            "INFO:activity_logger:> Called main(self) method - Entrance\n",
            "INFO:activity_logger:> Input Variables = stateID:11,year:2017,month:mar, self.url: https://api.census.gov/data/2017/cps/basic/mar?tabulate=weight(PWSSWGT)&row+for&row+PEMNTVTY&row+PEMARITL&row+PESEX&row+PRCITSHP&row+GTCBSA&for=state:11&key=804d0a1a18d1de70764950c78e2a3a42d3d45e48\n",
            "INFO:activity_logger:> Called main(self) - get() method - Will take some time usually 3-5min\n",
            "INFO:activity_logger:> Return dict: [[[[ {'response time in secs': 0, 'status': True, 'code': 200, 'comment': 'url:https://api.census.gov/data/2017/cps/basic/mar?tabulate=weight(PWSSWGT)&row+for&row+PEMNTVTY&row+PEMARITL&row+PESEX&row+PRCITSHP&row+GTCBSA&for=state:11&key=804d0a1a18d1de70764950c78e2a3a42d3d45e48'} ]]]]\n",
            "INFO:activity_logger:Called main(self) - line: get() method - Result:{'response time in secs': 0, 'status': True, 'code': 200, 'comment': 'url:https://api.census.gov/data/2017/cps/basic/mar?tabulate=weight(PWSSWGT)&row+for&row+PEMNTVTY&row+PEMARITL&row+PESEX&row+PRCITSHP&row+GTCBSA&for=state:11&key=804d0a1a18d1de70764950c78e2a3a42d3d45e48'}\n"
          ]
        },
        {
          "metadata": {
            "tags": null
          },
          "name": "stdout",
          "output_type": "stream",
          "text": [
            "Function: 'get()'. Census API query took: 194.2372133731842 seconds\n"
          ]
        },
        {
          "metadata": {
            "tags": null
          },
          "name": "stderr",
          "output_type": "stream",
          "text": [
            "INFO:activity_logger:> Cleaning dataAPI but removing data with no tabulate information (tabulate=0)\n",
            "INFO:activity_logger:> len(self.data4Df): 378\n",
            "INFO:activity_logger:> Built Dataframe for stateiD:11, YYYYMM:2017-mar\n",
            "INFO:activity_logger:> Called main(self) - buildingDf() method\n",
            "INFO:activity_logger:> Called main(self) - save() method\n",
            "INFO:activity_logger:> Created CSV file: 2017-mar-11-MixComp.csv\n",
            "INFO:activity_logger:> Called main(self) method - End\n",
            "INFO:activity_logger:> ^^^^^^^^^^^^^^^^^^^^^^^^^^^^^^^^^^^^^^^^^^^^^^^^^^^^^^^^^^^^\n",
            "INFO:activity_logger:> vvvvvvvvvvvvvvvvvvvvvvvvvvvvvvvvvvvvvvvvvvvvvvvvvvvvvvvvvvvv\n",
            "INFO:activity_logger:> Called main(self) method - Entrance\n",
            "INFO:activity_logger:> Input Variables = stateID:40,year:2016,month:oct, self.url: https://api.census.gov/data/2016/cps/basic/oct?tabulate=weight(PWSSWGT)&row+for&row+PEMNTVTY&row+PEMARITL&row+PESEX&row+PRCITSHP&row+GTCBSA&for=state:40&key=804d0a1a18d1de70764950c78e2a3a42d3d45e48\n",
            "INFO:activity_logger:> Called main(self) - get() method - Will take some time usually 3-5min\n",
            "INFO:activity_logger:> Return dict: [[[[ {'response time in secs': 0, 'status': True, 'code': 200, 'comment': 'url:https://api.census.gov/data/2016/cps/basic/oct?tabulate=weight(PWSSWGT)&row+for&row+PEMNTVTY&row+PEMARITL&row+PESEX&row+PRCITSHP&row+GTCBSA&for=state:40&key=804d0a1a18d1de70764950c78e2a3a42d3d45e48'} ]]]]\n",
            "INFO:activity_logger:Called main(self) - line: get() method - Result:{'response time in secs': 0, 'status': True, 'code': 200, 'comment': 'url:https://api.census.gov/data/2016/cps/basic/oct?tabulate=weight(PWSSWGT)&row+for&row+PEMNTVTY&row+PEMARITL&row+PESEX&row+PRCITSHP&row+GTCBSA&for=state:40&key=804d0a1a18d1de70764950c78e2a3a42d3d45e48'}\n"
          ]
        },
        {
          "metadata": {
            "tags": null
          },
          "name": "stdout",
          "output_type": "stream",
          "text": [
            "Function: 'get()'. Census API query took: 194.09661674499512 seconds\n"
          ]
        },
        {
          "metadata": {
            "tags": null
          },
          "name": "stderr",
          "output_type": "stream",
          "text": [
            "INFO:activity_logger:> Cleaning dataAPI but removing data with no tabulate information (tabulate=0)\n",
            "INFO:activity_logger:> len(self.data4Df): 116\n",
            "INFO:activity_logger:> Built Dataframe for stateiD:40, YYYYMM:2016-oct\n",
            "INFO:activity_logger:> Called main(self) - buildingDf() method\n",
            "INFO:activity_logger:> Called main(self) - save() method\n",
            "INFO:activity_logger:> Created CSV file: 2016-oct-40-MixComp.csv\n",
            "INFO:activity_logger:> Called main(self) method - End\n",
            "INFO:activity_logger:> ^^^^^^^^^^^^^^^^^^^^^^^^^^^^^^^^^^^^^^^^^^^^^^^^^^^^^^^^^^^^\n",
            "INFO:activity_logger:> vvvvvvvvvvvvvvvvvvvvvvvvvvvvvvvvvvvvvvvvvvvvvvvvvvvvvvvvvvvv\n",
            "INFO:activity_logger:> Called main(self) method - Entrance\n",
            "INFO:activity_logger:> Input Variables = stateID:32,year:2013,month:mar, self.url: https://api.census.gov/data/2013/cps/basic/mar?tabulate=weight(PWSSWGT)&row+for&row+PEMNTVTY&row+PEMARITL&row+PESEX&row+PRCITSHP&row+GTCBSA&for=state:32&key=804d0a1a18d1de70764950c78e2a3a42d3d45e48\n",
            "INFO:activity_logger:> Called main(self) - get() method - Will take some time usually 3-5min\n",
            "INFO:activity_logger:> Return dict: [[[[ {'response time in secs': 0, 'status': True, 'code': 200, 'comment': 'url:https://api.census.gov/data/2013/cps/basic/mar?tabulate=weight(PWSSWGT)&row+for&row+PEMNTVTY&row+PEMARITL&row+PESEX&row+PRCITSHP&row+GTCBSA&for=state:32&key=804d0a1a18d1de70764950c78e2a3a42d3d45e48'} ]]]]\n",
            "INFO:activity_logger:Called main(self) - line: get() method - Result:{'response time in secs': 0, 'status': True, 'code': 200, 'comment': 'url:https://api.census.gov/data/2013/cps/basic/mar?tabulate=weight(PWSSWGT)&row+for&row+PEMNTVTY&row+PEMARITL&row+PESEX&row+PRCITSHP&row+GTCBSA&for=state:32&key=804d0a1a18d1de70764950c78e2a3a42d3d45e48'}\n"
          ]
        },
        {
          "metadata": {
            "tags": null
          },
          "name": "stdout",
          "output_type": "stream",
          "text": [
            "Function: 'get()'. Census API query took: 174.54032182693481 seconds\n"
          ]
        },
        {
          "metadata": {
            "tags": null
          },
          "name": "stderr",
          "output_type": "stream",
          "text": [
            "INFO:activity_logger:> Cleaning dataAPI but removing data with no tabulate information (tabulate=0)\n",
            "INFO:activity_logger:> len(self.data4Df): 389\n",
            "INFO:activity_logger:> Built Dataframe for stateiD:32, YYYYMM:2013-mar\n",
            "INFO:activity_logger:> Called main(self) - buildingDf() method\n",
            "INFO:activity_logger:> Called main(self) - save() method\n",
            "INFO:activity_logger:> Created CSV file: 2013-mar-32-MixComp.csv\n",
            "INFO:activity_logger:> Called main(self) method - End\n",
            "INFO:activity_logger:> ^^^^^^^^^^^^^^^^^^^^^^^^^^^^^^^^^^^^^^^^^^^^^^^^^^^^^^^^^^^^\n",
            "INFO:activity_logger:> vvvvvvvvvvvvvvvvvvvvvvvvvvvvvvvvvvvvvvvvvvvvvvvvvvvvvvvvvvvv\n",
            "INFO:activity_logger:> Called main(self) method - Entrance\n",
            "INFO:activity_logger:> Input Variables = stateID:8,year:2019,month:dec, self.url: https://api.census.gov/data/2019/cps/basic/dec?tabulate=weight(PWSSWGT)&row+for&row+PEMNTVTY&row+PEMARITL&row+PESEX&row+PRCITSHP&row+GTCBSA&for=state:8&key=804d0a1a18d1de70764950c78e2a3a42d3d45e48\n",
            "INFO:activity_logger:> Called main(self) - get() method - Will take some time usually 3-5min\n",
            "INFO:activity_logger:> Return dict: [[[[ {'response time in secs': 0, 'status': True, 'code': 200, 'comment': 'url:https://api.census.gov/data/2019/cps/basic/dec?tabulate=weight(PWSSWGT)&row+for&row+PEMNTVTY&row+PEMARITL&row+PESEX&row+PRCITSHP&row+GTCBSA&for=state:8&key=804d0a1a18d1de70764950c78e2a3a42d3d45e48'} ]]]]\n",
            "INFO:activity_logger:Called main(self) - line: get() method - Result:{'response time in secs': 0, 'status': True, 'code': 200, 'comment': 'url:https://api.census.gov/data/2019/cps/basic/dec?tabulate=weight(PWSSWGT)&row+for&row+PEMNTVTY&row+PEMARITL&row+PESEX&row+PRCITSHP&row+GTCBSA&for=state:8&key=804d0a1a18d1de70764950c78e2a3a42d3d45e48'}\n"
          ]
        },
        {
          "metadata": {
            "tags": null
          },
          "name": "stdout",
          "output_type": "stream",
          "text": [
            "Function: 'get()'. Census API query took: 198.72487902641296 seconds\n"
          ]
        },
        {
          "metadata": {
            "tags": null
          },
          "name": "stderr",
          "output_type": "stream",
          "text": [
            "INFO:activity_logger:> Cleaning dataAPI but removing data with no tabulate information (tabulate=0)\n",
            "INFO:activity_logger:> len(self.data4Df): 213\n",
            "INFO:activity_logger:> Built Dataframe for stateiD:8, YYYYMM:2019-dec\n",
            "INFO:activity_logger:> Called main(self) - buildingDf() method\n",
            "INFO:activity_logger:> Called main(self) - save() method\n",
            "INFO:activity_logger:> Created CSV file: 2019-dec-08-MixComp.csv\n",
            "INFO:activity_logger:> Called main(self) method - End\n",
            "INFO:activity_logger:> ^^^^^^^^^^^^^^^^^^^^^^^^^^^^^^^^^^^^^^^^^^^^^^^^^^^^^^^^^^^^\n",
            "INFO:activity_logger:> vvvvvvvvvvvvvvvvvvvvvvvvvvvvvvvvvvvvvvvvvvvvvvvvvvvvvvvvvvvv\n",
            "INFO:activity_logger:> Called main(self) method - Entrance\n",
            "INFO:activity_logger:> Input Variables = stateID:50,year:2010,month:nov, self.url: https://api.census.gov/data/2010/cps/basic/nov?tabulate=weight(PWSSWGT)&row+for&row+PEMNTVTY&row+PEMARITL&row+PESEX&row+PRCITSHP&row+GTCBSA&for=state:50&key=804d0a1a18d1de70764950c78e2a3a42d3d45e48\n",
            "INFO:activity_logger:> Called main(self) - get() method - Will take some time usually 3-5min\n",
            "INFO:activity_logger:> Return dict: [[[[ {'response time in secs': 0, 'status': True, 'code': 200, 'comment': 'url:https://api.census.gov/data/2010/cps/basic/nov?tabulate=weight(PWSSWGT)&row+for&row+PEMNTVTY&row+PEMARITL&row+PESEX&row+PRCITSHP&row+GTCBSA&for=state:50&key=804d0a1a18d1de70764950c78e2a3a42d3d45e48'} ]]]]\n",
            "INFO:activity_logger:Called main(self) - line: get() method - Result:{'response time in secs': 0, 'status': True, 'code': 200, 'comment': 'url:https://api.census.gov/data/2010/cps/basic/nov?tabulate=weight(PWSSWGT)&row+for&row+PEMNTVTY&row+PEMARITL&row+PESEX&row+PRCITSHP&row+GTCBSA&for=state:50&key=804d0a1a18d1de70764950c78e2a3a42d3d45e48'}\n"
          ]
        },
        {
          "metadata": {
            "tags": null
          },
          "name": "stdout",
          "output_type": "stream",
          "text": [
            "Function: 'get()'. Census API query took: 162.6821699142456 seconds\n"
          ]
        },
        {
          "metadata": {
            "tags": null
          },
          "name": "stderr",
          "output_type": "stream",
          "text": [
            "INFO:activity_logger:> Cleaning dataAPI but removing data with no tabulate information (tabulate=0)\n",
            "INFO:activity_logger:> len(self.data4Df): 152\n",
            "INFO:activity_logger:> Built Dataframe for stateiD:50, YYYYMM:2010-nov\n",
            "INFO:activity_logger:> Called main(self) - buildingDf() method\n",
            "INFO:activity_logger:> Called main(self) - save() method\n",
            "INFO:activity_logger:> Created CSV file: 2010-nov-50-MixComp.csv\n",
            "INFO:activity_logger:> Called main(self) method - End\n",
            "INFO:activity_logger:> ^^^^^^^^^^^^^^^^^^^^^^^^^^^^^^^^^^^^^^^^^^^^^^^^^^^^^^^^^^^^\n",
            "INFO:activity_logger:> vvvvvvvvvvvvvvvvvvvvvvvvvvvvvvvvvvvvvvvvvvvvvvvvvvvvvvvvvvvv\n",
            "INFO:activity_logger:> Called main(self) method - Entrance\n",
            "INFO:activity_logger:> Input Variables = stateID:34,year:2012,month:jan, self.url: https://api.census.gov/data/2012/cps/basic/jan?tabulate=weight(PWSSWGT)&row+for&row+PEMNTVTY&row+PEMARITL&row+PESEX&row+PRCITSHP&row+GTCBSA&for=state:34&key=804d0a1a18d1de70764950c78e2a3a42d3d45e48\n",
            "INFO:activity_logger:> Called main(self) - get() method - Will take some time usually 3-5min\n",
            "INFO:activity_logger:> Return dict: [[[[ {'response time in secs': 0, 'status': True, 'code': 200, 'comment': 'url:https://api.census.gov/data/2012/cps/basic/jan?tabulate=weight(PWSSWGT)&row+for&row+PEMNTVTY&row+PEMARITL&row+PESEX&row+PRCITSHP&row+GTCBSA&for=state:34&key=804d0a1a18d1de70764950c78e2a3a42d3d45e48'} ]]]]\n",
            "INFO:activity_logger:Called main(self) - line: get() method - Result:{'response time in secs': 0, 'status': True, 'code': 200, 'comment': 'url:https://api.census.gov/data/2012/cps/basic/jan?tabulate=weight(PWSSWGT)&row+for&row+PEMNTVTY&row+PEMARITL&row+PESEX&row+PRCITSHP&row+GTCBSA&for=state:34&key=804d0a1a18d1de70764950c78e2a3a42d3d45e48'}\n"
          ]
        },
        {
          "metadata": {
            "tags": null
          },
          "name": "stdout",
          "output_type": "stream",
          "text": [
            "Function: 'get()'. Census API query took: 154.28622579574585 seconds\n"
          ]
        },
        {
          "metadata": {
            "tags": null
          },
          "name": "stderr",
          "output_type": "stream",
          "text": [
            "INFO:activity_logger:> Cleaning dataAPI but removing data with no tabulate information (tabulate=0)\n",
            "INFO:activity_logger:> len(self.data4Df): 628\n",
            "INFO:activity_logger:> Built Dataframe for stateiD:34, YYYYMM:2012-jan\n",
            "INFO:activity_logger:> Called main(self) - buildingDf() method\n",
            "INFO:activity_logger:> Called main(self) - save() method\n",
            "INFO:activity_logger:> Created CSV file: 2012-jan-34-MixComp.csv\n",
            "INFO:activity_logger:> Called main(self) method - End\n",
            "INFO:activity_logger:> ^^^^^^^^^^^^^^^^^^^^^^^^^^^^^^^^^^^^^^^^^^^^^^^^^^^^^^^^^^^^\n",
            "INFO:activity_logger:> vvvvvvvvvvvvvvvvvvvvvvvvvvvvvvvvvvvvvvvvvvvvvvvvvvvvvvvvvvvv\n",
            "INFO:activity_logger:> Called main(self) method - Entrance\n",
            "INFO:activity_logger:> Input Variables = stateID:10,year:2022,month:oct, self.url: https://api.census.gov/data/2022/cps/basic/oct?tabulate=weight(PWSSWGT)&row+for&row+PEMNTVTY&row+PEMARITL&row+PESEX&row+PRCITSHP&row+GTCBSA&for=state:10&key=804d0a1a18d1de70764950c78e2a3a42d3d45e48\n",
            "INFO:activity_logger:> Called main(self) - get() method - Will take some time usually 3-5min\n",
            "INFO:activity_logger:> Return dict: [[[[ {'response time in secs': 0, 'status': True, 'code': 200, 'comment': 'url:https://api.census.gov/data/2022/cps/basic/oct?tabulate=weight(PWSSWGT)&row+for&row+PEMNTVTY&row+PEMARITL&row+PESEX&row+PRCITSHP&row+GTCBSA&for=state:10&key=804d0a1a18d1de70764950c78e2a3a42d3d45e48'} ]]]]\n",
            "INFO:activity_logger:Called main(self) - line: get() method - Result:{'response time in secs': 0, 'status': True, 'code': 200, 'comment': 'url:https://api.census.gov/data/2022/cps/basic/oct?tabulate=weight(PWSSWGT)&row+for&row+PEMNTVTY&row+PEMARITL&row+PESEX&row+PRCITSHP&row+GTCBSA&for=state:10&key=804d0a1a18d1de70764950c78e2a3a42d3d45e48'}\n"
          ]
        },
        {
          "metadata": {
            "tags": null
          },
          "name": "stdout",
          "output_type": "stream",
          "text": [
            "Function: 'get()'. Census API query took: 158.8643341064453 seconds\n"
          ]
        },
        {
          "metadata": {
            "tags": null
          },
          "name": "stderr",
          "output_type": "stream",
          "text": [
            "INFO:activity_logger:> Cleaning dataAPI but removing data with no tabulate information (tabulate=0)\n",
            "INFO:activity_logger:> len(self.data4Df): 194\n",
            "INFO:activity_logger:> Built Dataframe for stateiD:10, YYYYMM:2022-oct\n",
            "INFO:activity_logger:> Called main(self) - buildingDf() method\n",
            "INFO:activity_logger:> Called main(self) - save() method\n",
            "INFO:activity_logger:> Created CSV file: 2022-oct-10-MixComp.csv\n",
            "INFO:activity_logger:> Called main(self) method - End\n",
            "INFO:activity_logger:> ^^^^^^^^^^^^^^^^^^^^^^^^^^^^^^^^^^^^^^^^^^^^^^^^^^^^^^^^^^^^\n",
            "INFO:activity_logger:> vvvvvvvvvvvvvvvvvvvvvvvvvvvvvvvvvvvvvvvvvvvvvvvvvvvvvvvvvvvv\n",
            "INFO:activity_logger:> Called main(self) method - Entrance\n",
            "INFO:activity_logger:> Input Variables = stateID:27,year:2018,month:may, self.url: https://api.census.gov/data/2018/cps/basic/may?tabulate=weight(PWSSWGT)&row+for&row+PEMNTVTY&row+PEMARITL&row+PESEX&row+PRCITSHP&row+GTCBSA&for=state:27&key=804d0a1a18d1de70764950c78e2a3a42d3d45e48\n",
            "INFO:activity_logger:> Called main(self) - get() method - Will take some time usually 3-5min\n",
            "INFO:activity_logger:> Return dict: [[[[ {'response time in secs': 0, 'status': True, 'code': 200, 'comment': 'url:https://api.census.gov/data/2018/cps/basic/may?tabulate=weight(PWSSWGT)&row+for&row+PEMNTVTY&row+PEMARITL&row+PESEX&row+PRCITSHP&row+GTCBSA&for=state:27&key=804d0a1a18d1de70764950c78e2a3a42d3d45e48'} ]]]]\n",
            "INFO:activity_logger:Called main(self) - line: get() method - Result:{'response time in secs': 0, 'status': True, 'code': 200, 'comment': 'url:https://api.census.gov/data/2018/cps/basic/may?tabulate=weight(PWSSWGT)&row+for&row+PEMNTVTY&row+PEMARITL&row+PESEX&row+PRCITSHP&row+GTCBSA&for=state:27&key=804d0a1a18d1de70764950c78e2a3a42d3d45e48'}\n"
          ]
        },
        {
          "metadata": {
            "tags": null
          },
          "name": "stdout",
          "output_type": "stream",
          "text": [
            "Function: 'get()'. Census API query took: 194.44279503822327 seconds\n"
          ]
        },
        {
          "output_type": "stream",
          "name": "stderr",
          "text": [
            "INFO:activity_logger:> Cleaning dataAPI but removing data with no tabulate information (tabulate=0)\n",
            "INFO:activity_logger:> len(self.data4Df): 129\n",
            "INFO:activity_logger:> Built Dataframe for stateiD:27, YYYYMM:2018-may\n",
            "INFO:activity_logger:> Called main(self) - buildingDf() method\n",
            "INFO:activity_logger:> Called main(self) - save() method\n",
            "INFO:activity_logger:> Created CSV file: 2018-may-27-MixComp.csv\n",
            "INFO:activity_logger:> Called main(self) method - End\n",
            "INFO:activity_logger:> ^^^^^^^^^^^^^^^^^^^^^^^^^^^^^^^^^^^^^^^^^^^^^^^^^^^^^^^^^^^^\n",
            "INFO:activity_logger:> vvvvvvvvvvvvvvvvvvvvvvvvvvvvvvvvvvvvvvvvvvvvvvvvvvvvvvvvvvvv\n",
            "INFO:activity_logger:> Called main(self) method - Entrance\n",
            "INFO:activity_logger:> Input Variables = stateID:51,year:2019,month:mar, self.url: https://api.census.gov/data/2019/cps/basic/mar?tabulate=weight(PWSSWGT)&row+for&row+PEMNTVTY&row+PEMARITL&row+PESEX&row+PRCITSHP&row+GTCBSA&for=state:51&key=804d0a1a18d1de70764950c78e2a3a42d3d45e48\n",
            "INFO:activity_logger:> Called main(self) - get() method - Will take some time usually 3-5min\n",
            "INFO:activity_logger:> Return dict: [[[[ {'response time in secs': 0, 'status': True, 'code': 200, 'comment': 'url:https://api.census.gov/data/2019/cps/basic/mar?tabulate=weight(PWSSWGT)&row+for&row+PEMNTVTY&row+PEMARITL&row+PESEX&row+PRCITSHP&row+GTCBSA&for=state:51&key=804d0a1a18d1de70764950c78e2a3a42d3d45e48'} ]]]]\n",
            "INFO:activity_logger:Called main(self) - line: get() method - Result:{'response time in secs': 0, 'status': True, 'code': 200, 'comment': 'url:https://api.census.gov/data/2019/cps/basic/mar?tabulate=weight(PWSSWGT)&row+for&row+PEMNTVTY&row+PEMARITL&row+PESEX&row+PRCITSHP&row+GTCBSA&for=state:51&key=804d0a1a18d1de70764950c78e2a3a42d3d45e48'}\n"
          ]
        },
        {
          "output_type": "stream",
          "name": "stdout",
          "text": [
            "Function: 'get()'. Census API query took: 198.40798807144165 seconds\n"
          ]
        },
        {
          "output_type": "stream",
          "name": "stderr",
          "text": [
            "INFO:activity_logger:> Cleaning dataAPI but removing data with no tabulate information (tabulate=0)\n",
            "INFO:activity_logger:> len(self.data4Df): 435\n",
            "INFO:activity_logger:> Built Dataframe for stateiD:51, YYYYMM:2019-mar\n",
            "INFO:activity_logger:> Called main(self) - buildingDf() method\n",
            "INFO:activity_logger:> Called main(self) - save() method\n",
            "INFO:activity_logger:> Created CSV file: 2019-mar-51-MixComp.csv\n",
            "INFO:activity_logger:> Called main(self) method - End\n",
            "INFO:activity_logger:> ^^^^^^^^^^^^^^^^^^^^^^^^^^^^^^^^^^^^^^^^^^^^^^^^^^^^^^^^^^^^\n",
            "INFO:activity_logger:> vvvvvvvvvvvvvvvvvvvvvvvvvvvvvvvvvvvvvvvvvvvvvvvvvvvvvvvvvvvv\n",
            "INFO:activity_logger:> Called main(self) method - Entrance\n",
            "INFO:activity_logger:> Input Variables = stateID:45,year:2022,month:nov, self.url: https://api.census.gov/data/2022/cps/basic/nov?tabulate=weight(PWSSWGT)&row+for&row+PEMNTVTY&row+PEMARITL&row+PESEX&row+PRCITSHP&row+GTCBSA&for=state:45&key=804d0a1a18d1de70764950c78e2a3a42d3d45e48\n",
            "INFO:activity_logger:> Called main(self) - get() method - Will take some time usually 3-5min\n"
          ]
        }
      ]
    },
    {
      "cell_type": "markdown",
      "source": [
        " _"
      ],
      "metadata": {
        "id": "FesYh1xAdQN7"
      },
      "id": "FesYh1xAdQN7"
    },
    {
      "cell_type": "markdown",
      "source": [
        "###TEST section"
      ],
      "metadata": {
        "id": "Qz5Z_Zzxyml7"
      },
      "id": "Qz5Z_Zzxyml7"
    },
    {
      "cell_type": "code",
      "source": [
        "# (60) Going through All Months at once\n",
        "#for year in api.allYearList():\n",
        "#  for stateID in api.allStatesIdList(): #['31', '47']:\n",
        "#    for month in api.allMonthList3TLA(): #['jan', 'feb']:\n",
        "#      dataA = MixComp(stateID=stateID, year=year, month=month)\n",
        "#      dataA.build()"
      ],
      "metadata": {
        "id": "r0MvrQ9yjoZR"
      },
      "id": "r0MvrQ9yjoZR",
      "execution_count": null,
      "outputs": []
    },
    {
      "cell_type": "markdown",
      "source": [
        "why skipped?\n",
        "\n",
        "2019-apr-45-MixComp (it is there, just in the as header :) in Colab)\n",
        "\n",
        "Those two site failed - but fixed now with Exception\n",
        "\n",
        "https://api.census.gov/data/2024/cps/basic/oct?tabulate=weight(PWSSWGT)&row+for&row+PEMNTVTY&row+PEMARITL&row+PESEX&row+PRCITSHP&row+GTCBSA&for=state:17&key=804d0a1a18d1de70764950c78e2a3a42d3d45e48\n",
        "\n",
        "\n",
        "Need to 'Run all' to take changes\n",
        "https://api.census.gov/data/2024/cps/basic/dec?tabulate=weight(PWSSWGT)&row+for&row+PEMNTVTY&row+PEMARITL&row+PESEX&row+PRCITSHP&row+GTCBSA&for=state:33&key=804d0a1a18d1de70764950c78e2a3a42d3d45e48\n",
        "\n",
        "\n",
        "\n",
        "INFO:activity_logger:> vvvvvvvvvvvvvvvvvvvvvvvvvvvvvvvvvvvvvvvvvvvvvvvvvvvvvvvvvvvv\n",
        "INFO:activity_logger:> Called main(self) method - Entrance\n",
        "INFO:activity_logger:> Input Variables = stateID:32,year:2014,month:jul, self.url: https://api.census.gov/data/2014/cps/basic/jul?tabulate=weight(PWSSWGT)&row+for&row+PEMNTVTY&row+PEMARITL&row+PESEX&row+PRCITSHP&row+GTCBSA&for=state:32&key=804d0a1a18d1de70764950c78e2a3a42d3d45e48\n",
        "INFO:activity_logger:> Called main(self) - get() method - Will take some time usually 3-5min\n",
        "INFO:activity_logger:> STOP ERROR: Tools for Data Science - Semester Project: An error occurred:\n",
        " [[[[ (\"Connection broken: InvalidChunkLength(got length b'', 0 bytes read)\", InvalidChunkLength(got length b'', 0 bytes read)) ]]]]\n",
        "INFO:activity_logger:> Skipped !!\n",
        "INFO:activity_logger:Called main(self) - line: get() method - Result:None\n",
        "Function: 'get()'. Census API query took: 200.60595393180847 seconds\n",
        "- - -\n",
        "<ipython-input-15-4270161bdba5> in build(self)\n",
        "    182       self.logger.info(f'Called main(self) - line: get() method - Result:{url_call}')\n",
        "    183\n",
        "--> 184       if url_call['status']:\n",
        "    185         self.cleaning()\n",
        "    186         self.preping()\n",
        "\n",
        "TypeError: 'NoneType' object is not subscriptable"
      ],
      "metadata": {
        "id": "__2Og8DG7hD2"
      },
      "id": "__2Og8DG7hD2"
    }
  ],
  "metadata": {
    "kernelspec": {
      "display_name": "Python 3",
      "name": "python3"
    },
    "language_info": {
      "codemirror_mode": {
        "name": "ipython",
        "version": 3
      },
      "file_extension": ".py",
      "mimetype": "text/x-python",
      "name": "python",
      "nbconvert_exporter": "python",
      "pygments_lexer": "ipython3",
      "version": "3.9.13"
    },
    "colab": {
      "provenance": [],
      "collapsed_sections": [
        "Nu7m15GcZfnS",
        "UfTbNpBzVvFH",
        "ecfQhoBJw4Me"
      ],
      "include_colab_link": true
    }
  },
  "nbformat": 4,
  "nbformat_minor": 5
}