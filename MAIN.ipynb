{
  "cells": [
    {
      "cell_type": "markdown",
      "source": [
        "##Call the API with my variables for my research"
      ],
      "metadata": {
        "id": "Nu7m15GcZfnS"
      },
      "id": "Nu7m15GcZfnS"
    },
    {
      "cell_type": "markdown",
      "source": [
        "> List of some states \"46 SD\", \"47 TN\",\"10 DE\", \"2 AK\",\"5 AR\",\"24 MD\",\"31 NE\"\n",
        "\n",
        "CBSA:\n",
        "\n",
        "\"46 SD\",\n",
        "* \"43620 Sioux Falls, SD\",\n",
        "\n",
        "\"47 TN\"\n",
        "* \"16860 Chattanooga, TN-GA\",\n",
        "* \"28940 Knoxville, TN\",\n",
        "* \"34980\": \"Nashville-Davidson--Murfreesboro--Franklin, TN\",\n",
        "* \"28700\": \"Kingsport-Bristol-Bristol, TN-VA\",\n",
        "* \"32820\": \"Memphis, TN-MS-AR\",\n",
        "* \"17300\": \"Clarksville, TN-KY\",\n",
        "* \"27740\": \"Johnson City, TN\",\n",
        "* \"17420\": \"Cleveland, TN\",\n",
        "\n",
        "\"10 DE\"\n",
        "* \"20100 Dover, DE\",\n",
        "* \"428\": \"Philadelphia-Reading-Camden, PA-NJ-DE-MD\",\n",
        "* \"41540\": \"Salisbury, MD-DE\",\n",
        "*\n",
        "* 0 city for \"2 AK\"\n",
        "\n",
        "\"5 AR\",\n",
        "* \"22900 Fort Smith, AR-OK\",\n",
        "* \"30780 Little Rock-North Little Rock-Conway, AR\",\n",
        "* \"22220 Fayetteville-Springdale-Rogers, AR-MO\",\n",
        "* \"38220 Pine Bluff, AR\",\n",
        "* \"32820 Memphis, TN-MS-AR\",\n",
        "*\n",
        "\"24 MD\",\n",
        "* \"25180\": \"Hagerstown-Martinsburg, MD-WV\",\n",
        "* \"428\": \"Philadelphia-Reading-Camden, PA-NJ-DE-MD\",\n",
        "* \"12580\": \"Baltimore-Columbia-Towson, MD\",\n",
        "* \"37980\": \"Philadelphia-Camden-Wilmington, PA-NJ-DE-MD\",\n",
        "* \"15680\": \"California-Lexington Park, MD\",\n",
        "* \"41540\": \"Salisbury, MD-DE\","
      ],
      "metadata": {
        "id": "MiS6CIJ8WuA8"
      },
      "id": "MiS6CIJ8WuA8"
    },
    {
      "cell_type": "markdown",
      "source": [
        "##CONSTANTES"
      ],
      "metadata": {
        "id": "Wf-TQOlWDpR-"
      },
      "id": "Wf-TQOlWDpR-"
    },
    {
      "cell_type": "code",
      "source": [
        "# (10) IMPORT LIBRARY\n",
        "import requests\n",
        "import pandas as pd\n",
        "import regex as re\n",
        "import time\n",
        "from datetime import datetime as dt\n",
        "import json\n",
        "import logging"
      ],
      "metadata": {
        "id": "IWRGDOLjvDDP"
      },
      "id": "IWRGDOLjvDDP",
      "execution_count": 10,
      "outputs": []
    },
    {
      "cell_type": "code",
      "source": [
        "# (20) CONSTANTES\n",
        "month_dict = {    1: \"jan\",    2: \"feb\",    3: \"mar\",    4: \"apr\",    5: \"may\",    6: \"jun\",\n",
        "    7: \"jul\",    8: \"aug\",    9: \"sep\",    10: \"oct\",    11: \"nov\",    12: \"dec\"}\n",
        "# Find the key for 'A MONTH'\n",
        "def monthTLA(m):\n",
        "  \"\"\"\n",
        "  Will return the key for the 3 letters acronym\n",
        "  \"\"\"\n",
        "  global month_dict\n",
        "  return next(key for key, value in month_dict.items() if value == m)\n",
        "\n",
        "#Dict of all states\n",
        "all_states = requests.get('https://api.census.gov/data/2024/cps/basic/jan/variables.json')\n",
        "states = json.loads(all_states.text)\n",
        "states_dict = states['variables']['STATE']['values']['item']\n",
        "states = [state for state in states_dict.keys()]\n",
        "\n",
        "#All year of the study\n",
        "\n",
        "##Variables\n",
        "stateID = states[1] #47 #range(1-56), without 3, 7, 14, 43\n",
        "year = 2015 # range(2010-2023)\n",
        "month = month_dict[10] #range(1-12)"
      ],
      "metadata": {
        "id": "uB5R3hshb3YQ"
      },
      "id": "uB5R3hshb3YQ",
      "execution_count": 11,
      "outputs": []
    },
    {
      "cell_type": "markdown",
      "source": [
        "##Calling the API (1st step)"
      ],
      "metadata": {
        "id": "UfTbNpBzVvFH"
      },
      "id": "UfTbNpBzVvFH"
    },
    {
      "cell_type": "code",
      "source": [
        "# (30) CLASS API\n",
        "class API:\n",
        "  \"\"\"This generic class API will handle at once all request to the CPS api\n",
        "  varsUrl (variable): given a year, it will return the url for all variables\n",
        "  allVars_dict (variable): a dict of all variables for each 'year' (key)\n",
        "  examples:\n",
        "   - API(year=2010).varsUrl * url for all variables in 2010\n",
        "   - API().allVars_dict[2023] * to se all the variables (dict) in 2023\n",
        "   - 'GTCBSA' in API().allVars_dict[2024].keys() * is <GTCBSA> in 2024?\n",
        "   - API().allState_dict[2021] * all stateID:description in year 2021\"\"\"\n",
        "\n",
        "  def __init__(self) -> None:\n",
        "    pass\n",
        "\n",
        "  def get(self, year_search=2010):\n",
        "    self.varsUrl = 'https://api.census.gov/data/'+ str(year_search) +'/cps/basic/jan/variables.json'\n",
        "\n",
        "    #all_years = range(2022, 2024)\n",
        "    all_years = range(2010, 1+dt.now().year)\n",
        "    self.allVars_dict = {year_: year_vars for year_, year_vars in \\\n",
        "                      zip(all_years, [json.loads(requests.get('https://api.census.gov/data/'+ str(year_) +'/cps/basic/jan/variables.json').text)['variables'] for year_ in all_years])}\n",
        "\n",
        "#    self.allStates_dict = {_year: state_vars for _year, state_vars in \\\n",
        "#                  zip(all_years, [ self.allVars_dict[_year]['GTCBSA']['values']['item'] for _year in all_years])}\n",
        "\n",
        "  def store(self):\n",
        "    pass\n",
        "\n",
        "  def getVarsNameFromUrl(self, url):\n",
        "    return re.findall(r'([A-Z]+)', url)\n",
        "\n",
        "\n",
        "def log_activity(func):\n",
        "    def wrapper(*args, **kwargs):\n",
        "        # Create a logger\n",
        "        logger = logging.getLogger('activity_logger')\n",
        "        logger.setLevel(logging.INFO)\n",
        "\n",
        "        # Create a file handler and set the logging format\n",
        "        file_handler = logging.FileHandler('activity.log')\n",
        "        formatter = logging.Formatter('%(asctime)s - %(levelname)s - %(message)s')\n",
        "        file_handler.setFormatter(formatter)\n",
        "\n",
        "        # Add the file handler to the logger\n",
        "        logger.addHandler(file_handler)\n",
        "\n",
        "        # Log the activity before calling the wrapped function\n",
        "        logger.info(f'Activity: {func.__name__}')\n",
        "\n",
        "        # Call the wrapped function\n",
        "        return func(*args, **kwargs)\n",
        "\n",
        "    return wrapper\n",
        "\n",
        "#api=API()\n",
        "#api.get()\n",
        "#api.allVars_dict.keys()"
      ],
      "metadata": {
        "id": "3AkeD9fuuu7V"
      },
      "id": "3AkeD9fuuu7V",
      "execution_count": 14,
      "outputs": []
    },
    {
      "cell_type": "code",
      "source": [
        "# (40) CLASS MIXCOMP\n",
        "#Decorator to track API response time\n",
        "def track_response_time(func):\n",
        "    def wrapper(self, *args, **kwargs):\n",
        "        start_time = time.time()\n",
        "        result = func(self, *args, **kwargs)\n",
        "        end_time = time.time()\n",
        "        response_time = end_time - start_time\n",
        "        self.response_time = response_time  # Store in the class\n",
        "        print(f\"Function: '{func.__name__}()'. Census API query took: {response_time} seconds\")\n",
        "        return result\n",
        "    return wrapper\n",
        "\n",
        "\n",
        "#Class for unit-request (specific State, specific Year, specific Month)\n",
        "class MixComp:\n",
        "  \"\"\"\n",
        "This class will pull the Mix composition about the US population from one state.\n",
        "Code\t    Label\n",
        "tabulate  Counts of instances\n",
        "PEMNTVTY\tDemographics-native country of mother\n",
        "PEMARITL\tDemographics-marital status\n",
        "PESEX\t    Demographics-sex\n",
        "PRCITSHP\tDemographics-United States citizenship group\n",
        "GTCBSA\t  Demographics-city level\n",
        "STATE\t    FIPS STATE Code\n",
        "GTCBSA\t  Demographics-city level\n",
        "\n",
        "  \"\"\"\n",
        "  def __init__(self, stateID, year, month):\n",
        "      key = '&key='+'804d0a1a18d1de70764950c78e2a3a42d3d45e48'\n",
        "      self.url = 'https://api.census.gov/data/'+ str(year) +'/cps/basic/'+ month + '?tabulate=weight(PWSSWGT)&row+for&row+PEMNTVTY&row+PEMARITL&row+PESEX&row+PRCITSHP&row+GTCBSA&for=state:' + str(stateID) + key\n",
        "      self.stateID = stateID\n",
        "      self.year = year\n",
        "      self.month = month\n",
        "      self.response_time = 0 # how long the API took to run on Census CPS\n",
        "      self.dataAPI = None\n",
        "      self.dataText = None\n",
        "      self.data4Df = []\n",
        "      self.df = pd.DataFrame(None) #Will contain the final df(dataframe)\n",
        "      self.initLogger()\n",
        "\n",
        "  def initLogger(self):\n",
        "      # Create a logger\n",
        "      self.logger = logging.getLogger('activity_logger')\n",
        "      self.logger.setLevel(logging.INFO)\n",
        "      # Create a file handler and set the logging format\n",
        "      file_handler = logging.FileHandler('activity.log')\n",
        "      formatter = logging.Formatter('%(asctime)s - %(levelname)s - %(message)s')\n",
        "      file_handler.setFormatter(formatter)\n",
        "      # Add the file handler to the logger\n",
        "      self.logger.addHandler(file_handler)\n",
        "\n",
        "  def __str__(self):\n",
        "      return f\"\"\"\n",
        "      Mix Composition of the US population: stateID:={self.stateID}, month={self.month}, year={self.year}\n",
        "      Dataframe head:\n",
        "         {self.df.head(3)}\"\"\"\n",
        "\n",
        "  def __repr__(self):\n",
        "      return f\"MixComp({self.stateID}, {self.year}, {self.month})\"\n",
        "\n",
        "  def __len__(self):\n",
        "      return self.df.shape[0]\n",
        "\n",
        "  def __add__(self, other):\n",
        "      return pd.concat([self.df, other.df], axis=0)\n",
        "\n",
        "  # to convert in class\n",
        "  def checkVariable(self, year, url):\n",
        "      \"\"\"\n",
        "      this function will check if a set of variables are declared on the Census API. Using the an url as input. Vars are in ALL_CAPS\n",
        "      \"\"\"\n",
        "      api=API()\n",
        "      api.get()\n",
        "      matches = api.getVarsNameFromUrl(url)\n",
        "      cps_vars = api.allVars_dict[year].keys()\n",
        "      res = dict()\n",
        "      for var in matches:\n",
        "        res[var] = True if var in cps_vars else False\n",
        "      res['status'] = all([status for status in res.values()])\n",
        "      return res\n",
        "\n",
        "  @log_activity\n",
        "  @track_response_time\n",
        "  def get(self):\n",
        "\n",
        "      #This section will validate all variables and replace the city's with the right one if year>=2024\n",
        "#      check = self.checkVariable(self.year, self.url)\n",
        "#      print (f\"checkVariable() = {check}\")\n",
        "#      if not check['status']:\n",
        "#        print(f\"BEFORE - Variables = {check}\")\n",
        "#        if (self.year>=2024) and ('CBSA' not in check.keys()): #before 2024, City variable in 'GTCBSA', starting on 2024, City variable was 'CBSA'\n",
        "#          self.url = re.sub('GTCBSA', 'CBSA', self.url)\n",
        "#          print(f\"AFTER -  Variables = {self.checkVariable(self.year, self.url)}\\nNew URL: {self.url}\")\n",
        "#        else:\n",
        "#          raise(f\"Please check all your Census variables. Unable to find some in the API call. Variables = {check}\")\n",
        "\n",
        "      try:\n",
        "        # download the Demographics_Native_Country_Of_Mother for Mix-Compostion\n",
        "        self.dataAPI = requests.get(self.url)\n",
        "        return dict({'response time in secs': round(self.response_time,0), 'status': True if 200==self.dataAPI.status_code else False, 'code':self.dataAPI.status_code, 'comment': 'url:' + self.url})\n",
        "        None\n",
        "      except requests.exceptions.RequestException as e:\n",
        "          # Handle connection errors or HTTP errors\n",
        "          raise(\"STOP ERROR: Tools for Data Science - Semester Project: An error occurred:\\n [[[[\", e, \"]]]]\")\n",
        "\n",
        "      except AttributeError:\n",
        "          raise(\"STOP ERROR: Please check your variable name!\")\n",
        "\n",
        "  @log_activity\n",
        "  def cleaning(self):\n",
        "      self.dataText = self.dataAPI.text\n",
        "      pattern_cleaning = r'\\[0,.*?\\],?\\n?' #remove the data with no tabulate information (tabulate=0)\n",
        "      self.dataText = re.sub(pattern_cleaning, '', self.dataText)\n",
        "      pattern_cleaning = r'\\n' #remove retunr line\n",
        "      self.dataText = re.sub(pattern_cleaning, '', self.dataText)\n",
        "      self.logger.info('Cleaning dataAPI but removing data with no tabulate information (tabulate=0)')\n",
        "\n",
        "  @log_activity\n",
        "  def preping(self):\n",
        "      ##Separe cols from data (numbers)\n",
        "      pattern = r'.*?(\\[\"tabulate\".*?\"GTCBSA\"\\]),([\\s\\S]*)'\n",
        "      matches = re.search(pattern, self.dataText)\n",
        "      data_cols = matches.group(1)\n",
        "      data_vals = matches.group(2)[:-1] #removing the last char \"]\" at the end.\n",
        "\n",
        "      self.data_cols = re.findall(r'\"(.*?)\"', data_cols) #Transform string_column in List_column\n",
        "\n",
        "      #Transform string_row in List of Lists then Matrix\n",
        "      rows = re.findall(r'\\[(.*?)\\]', data_vals)\n",
        "      for row in rows:\n",
        "        row_list = re.findall(r'-?\\d+(?:\\.\\d+)?', row)\n",
        "        self.data4Df.append([int(elt) for elt in row_list])\n",
        "\n",
        "      self.logger.info(f'len(self.data4Df): {len(self.data4Df)}')\n",
        "\n",
        "  @log_activity\n",
        "  def buildingDf(self):\n",
        "      \"\"\"\n",
        "      ##Definition of variables:\n",
        "      * tabulate: represents the information related to population counts.\n",
        "      * state: column provides information about the state\n",
        "      1. PEMNTVTY Demographics-native country of mother\n",
        "      2. PEMARITL Demographics-marital status\n",
        "      3. PESEX Demographics-sex\n",
        "      4. PRCITSHP Demographics-United States citizenship group\n",
        "      5. GTCBSA Demographics-city level\n",
        "      We will understand the population composition by state about how mixed it is based on the native country of mothers,\n",
        "      marital status distribution, gender demographics, citizenship status, at the city-level characteristics.\n",
        "      This data can be used to uncover trends, patterns, and insights into the social and cultural fabric of the US population.\n",
        "      \"\"\"\n",
        "      ##Convert the result to the Df **mix_composition**\n",
        "      self.df = pd.DataFrame(self.data4Df, columns=self.data_cols)\n",
        "\n",
        "      ##Building the YYYYMM column\n",
        "      self.df['YYYYMM'] = pd.Series([dt.strptime(str(self.year)+ '-' +str(self.month), \"%Y-%b\") for _ in range(self.df.shape[0])])\n",
        "\n",
        "      self.logger.info('Built Dataframe for stateiD:{self.stateID}, YYYYMM:{str(self.year)}-{str(self.month)}')\n",
        "\n",
        "  @log_activity\n",
        "  def save(self, path=''):\n",
        "      try:\n",
        "        if path == '':\n",
        "          path=str(self.year)+ '-' +str(self.month) +'-MixComp.csv'\n",
        "        r = self.df.to_csv( path, index=False)\n",
        "        self.logger.info('Created CSV file: {path}')\n",
        "        return r\n",
        "      except FileNotFoundError:\n",
        "        raise ('Check the path {path} of the file')\n",
        "\n",
        "  @log_activity\n",
        "  def build(self):\n",
        "#      self.logger.info('Called main(self) method - Entrance')\n",
        "\n",
        "#      self.logger.info('Called main(self) - get() method - Will take some time usually 3-5min')\n",
        "      res = self.get(); self.logger.info(f'Called main(self) - line: get() method - Result:{res}')\n",
        "      self.cleaning()\n",
        "      self.preping()\n",
        "      self.logger.info('Called main(self) - buildingDf() method')\n",
        "      self.buildingDf()\n",
        "      self.logger.info('Called main(self) - save() method - Beginning')\n",
        "      self.save()\n",
        "      self.logger.info('Called main(self) - save() method - End')\n",
        "\n",
        "      self.logger.info('Called main(self) method - End')\n"
      ],
      "metadata": {
        "id": "pkTeNx4nLZy8"
      },
      "id": "pkTeNx4nLZy8",
      "execution_count": 21,
      "outputs": []
    },
    {
      "cell_type": "code",
      "source": [
        "# (50) TEST\n",
        "stateID = states[1] #47 #range(1-56), without 3, 7, 14, 43\n",
        "year = 2023 # range(2010-2023)\n",
        "month = month_dict[10] #range(1-12)\n",
        "dataA = MixComp(stateID, year, month)\n",
        "dataA.build()\n",
        "\n",
        "stateID = states[2] #range(1-56), without 3, 7, 14, 43\n",
        "year = 2015 # range(2010-2023)\n",
        "month = month_dict[2] #range(1-12)\n",
        "#dataB = MixComp(stateID, year, month)\n",
        "#dataB.main()\n",
        "\n",
        "#dataR = dataA + dataB\n",
        "#dataR"
      ],
      "metadata": {
        "colab": {
          "base_uri": "https://localhost:8080/",
          "height": 519
        },
        "id": "_IWkgVLw8gwB",
        "outputId": "23a6f201-6840-4ae7-a19c-1c7f3d3df2ba"
      },
      "id": "_IWkgVLw8gwB",
      "execution_count": 22,
      "outputs": [
        {
          "output_type": "stream",
          "name": "stderr",
          "text": [
            "INFO:activity_logger:Activity: build\n",
            "INFO:activity_logger:Activity: wrapper\n",
            "INFO:activity_logger:Called main(self) - line: get() method - Result:{'response time in secs': 0, 'status': False, 'code': 500, 'comment': 'url:https://api.census.gov/data/2023/cps/basic/oct?tabulate=weight(PWSSWGT)&row+for&row+PEMNTVTY&row+PEMARITL&row+PESEX&row+PRCITSHP&row+GTCBSA&for=state:47&key=804d0a1a18d1de70764950c78e2a3a42d3d45e48'}\n",
            "INFO:activity_logger:Activity: cleaning\n",
            "INFO:activity_logger:Cleaning dataAPI but removing data with no tabulate information (tabulate=0)\n",
            "INFO:activity_logger:Activity: preping\n"
          ]
        },
        {
          "output_type": "stream",
          "name": "stdout",
          "text": [
            "Function: 'get()'. Census API query took: 0.3510453701019287 seconds\n"
          ]
        },
        {
          "output_type": "error",
          "ename": "AttributeError",
          "evalue": "'NoneType' object has no attribute 'group'",
          "traceback": [
            "\u001b[0;31m---------------------------------------------------------------------------\u001b[0m",
            "\u001b[0;31mAttributeError\u001b[0m                            Traceback (most recent call last)",
            "\u001b[0;32m<ipython-input-22-149535ae41ea>\u001b[0m in \u001b[0;36m<cell line: 6>\u001b[0;34m()\u001b[0m\n\u001b[1;32m      4\u001b[0m \u001b[0mmonth\u001b[0m \u001b[0;34m=\u001b[0m \u001b[0mmonth_dict\u001b[0m\u001b[0;34m[\u001b[0m\u001b[0;36m10\u001b[0m\u001b[0;34m]\u001b[0m \u001b[0;31m#range(1-12)\u001b[0m\u001b[0;34m\u001b[0m\u001b[0;34m\u001b[0m\u001b[0m\n\u001b[1;32m      5\u001b[0m \u001b[0mdataA\u001b[0m \u001b[0;34m=\u001b[0m \u001b[0mMixComp\u001b[0m\u001b[0;34m(\u001b[0m\u001b[0mstateID\u001b[0m\u001b[0;34m,\u001b[0m \u001b[0myear\u001b[0m\u001b[0;34m,\u001b[0m \u001b[0mmonth\u001b[0m\u001b[0;34m)\u001b[0m\u001b[0;34m\u001b[0m\u001b[0;34m\u001b[0m\u001b[0m\n\u001b[0;32m----> 6\u001b[0;31m \u001b[0mdataA\u001b[0m\u001b[0;34m.\u001b[0m\u001b[0mbuild\u001b[0m\u001b[0;34m(\u001b[0m\u001b[0;34m)\u001b[0m\u001b[0;34m\u001b[0m\u001b[0;34m\u001b[0m\u001b[0m\n\u001b[0m\u001b[1;32m      7\u001b[0m \u001b[0;34m\u001b[0m\u001b[0m\n\u001b[1;32m      8\u001b[0m \u001b[0mstateID\u001b[0m \u001b[0;34m=\u001b[0m \u001b[0mstates\u001b[0m\u001b[0;34m[\u001b[0m\u001b[0;36m2\u001b[0m\u001b[0;34m]\u001b[0m \u001b[0;31m#range(1-56), without 3, 7, 14, 43\u001b[0m\u001b[0;34m\u001b[0m\u001b[0;34m\u001b[0m\u001b[0m\n",
            "\u001b[0;32m<ipython-input-14-942a94461b6b>\u001b[0m in \u001b[0;36mwrapper\u001b[0;34m(*args, **kwargs)\u001b[0m\n\u001b[1;32m     49\u001b[0m \u001b[0;34m\u001b[0m\u001b[0m\n\u001b[1;32m     50\u001b[0m         \u001b[0;31m# Call the wrapped function\u001b[0m\u001b[0;34m\u001b[0m\u001b[0;34m\u001b[0m\u001b[0m\n\u001b[0;32m---> 51\u001b[0;31m         \u001b[0;32mreturn\u001b[0m \u001b[0mfunc\u001b[0m\u001b[0;34m(\u001b[0m\u001b[0;34m*\u001b[0m\u001b[0margs\u001b[0m\u001b[0;34m,\u001b[0m \u001b[0;34m**\u001b[0m\u001b[0mkwargs\u001b[0m\u001b[0;34m)\u001b[0m\u001b[0;34m\u001b[0m\u001b[0;34m\u001b[0m\u001b[0m\n\u001b[0m\u001b[1;32m     52\u001b[0m \u001b[0;34m\u001b[0m\u001b[0m\n\u001b[1;32m     53\u001b[0m     \u001b[0;32mreturn\u001b[0m \u001b[0mwrapper\u001b[0m\u001b[0;34m\u001b[0m\u001b[0;34m\u001b[0m\u001b[0m\n",
            "\u001b[0;32m<ipython-input-21-5db79dfc2f52>\u001b[0m in \u001b[0;36mbuild\u001b[0;34m(self)\u001b[0m\n\u001b[1;32m    177\u001b[0m       \u001b[0mres\u001b[0m \u001b[0;34m=\u001b[0m \u001b[0mself\u001b[0m\u001b[0;34m.\u001b[0m\u001b[0mget\u001b[0m\u001b[0;34m(\u001b[0m\u001b[0;34m)\u001b[0m\u001b[0;34m;\u001b[0m \u001b[0mself\u001b[0m\u001b[0;34m.\u001b[0m\u001b[0mlogger\u001b[0m\u001b[0;34m.\u001b[0m\u001b[0minfo\u001b[0m\u001b[0;34m(\u001b[0m\u001b[0;34mf'Called main(self) - line: get() method - Result:{res}'\u001b[0m\u001b[0;34m)\u001b[0m\u001b[0;34m\u001b[0m\u001b[0;34m\u001b[0m\u001b[0m\n\u001b[1;32m    178\u001b[0m       \u001b[0mself\u001b[0m\u001b[0;34m.\u001b[0m\u001b[0mcleaning\u001b[0m\u001b[0;34m(\u001b[0m\u001b[0;34m)\u001b[0m\u001b[0;34m\u001b[0m\u001b[0;34m\u001b[0m\u001b[0m\n\u001b[0;32m--> 179\u001b[0;31m       \u001b[0mself\u001b[0m\u001b[0;34m.\u001b[0m\u001b[0mpreping\u001b[0m\u001b[0;34m(\u001b[0m\u001b[0;34m)\u001b[0m\u001b[0;34m\u001b[0m\u001b[0;34m\u001b[0m\u001b[0m\n\u001b[0m\u001b[1;32m    180\u001b[0m       \u001b[0mself\u001b[0m\u001b[0;34m.\u001b[0m\u001b[0mlogger\u001b[0m\u001b[0;34m.\u001b[0m\u001b[0minfo\u001b[0m\u001b[0;34m(\u001b[0m\u001b[0;34m'Called main(self) - buildingDf() method'\u001b[0m\u001b[0;34m)\u001b[0m\u001b[0;34m\u001b[0m\u001b[0;34m\u001b[0m\u001b[0m\n\u001b[1;32m    181\u001b[0m       \u001b[0mself\u001b[0m\u001b[0;34m.\u001b[0m\u001b[0mbuildingDf\u001b[0m\u001b[0;34m(\u001b[0m\u001b[0;34m)\u001b[0m\u001b[0;34m\u001b[0m\u001b[0;34m\u001b[0m\u001b[0m\n",
            "\u001b[0;32m<ipython-input-14-942a94461b6b>\u001b[0m in \u001b[0;36mwrapper\u001b[0;34m(*args, **kwargs)\u001b[0m\n\u001b[1;32m     49\u001b[0m \u001b[0;34m\u001b[0m\u001b[0m\n\u001b[1;32m     50\u001b[0m         \u001b[0;31m# Call the wrapped function\u001b[0m\u001b[0;34m\u001b[0m\u001b[0;34m\u001b[0m\u001b[0m\n\u001b[0;32m---> 51\u001b[0;31m         \u001b[0;32mreturn\u001b[0m \u001b[0mfunc\u001b[0m\u001b[0;34m(\u001b[0m\u001b[0;34m*\u001b[0m\u001b[0margs\u001b[0m\u001b[0;34m,\u001b[0m \u001b[0;34m**\u001b[0m\u001b[0mkwargs\u001b[0m\u001b[0;34m)\u001b[0m\u001b[0;34m\u001b[0m\u001b[0;34m\u001b[0m\u001b[0m\n\u001b[0m\u001b[1;32m     52\u001b[0m \u001b[0;34m\u001b[0m\u001b[0m\n\u001b[1;32m     53\u001b[0m     \u001b[0;32mreturn\u001b[0m \u001b[0mwrapper\u001b[0m\u001b[0;34m\u001b[0m\u001b[0;34m\u001b[0m\u001b[0m\n",
            "\u001b[0;32m<ipython-input-21-5db79dfc2f52>\u001b[0m in \u001b[0;36mpreping\u001b[0;34m(self)\u001b[0m\n\u001b[1;32m    123\u001b[0m       \u001b[0mpattern\u001b[0m \u001b[0;34m=\u001b[0m \u001b[0;34mr'.*?(\\[\"tabulate\".*?\"GTCBSA\"\\]),([\\s\\S]*)'\u001b[0m\u001b[0;34m\u001b[0m\u001b[0;34m\u001b[0m\u001b[0m\n\u001b[1;32m    124\u001b[0m       \u001b[0mmatches\u001b[0m \u001b[0;34m=\u001b[0m \u001b[0mre\u001b[0m\u001b[0;34m.\u001b[0m\u001b[0msearch\u001b[0m\u001b[0;34m(\u001b[0m\u001b[0mpattern\u001b[0m\u001b[0;34m,\u001b[0m \u001b[0mself\u001b[0m\u001b[0;34m.\u001b[0m\u001b[0mdataText\u001b[0m\u001b[0;34m)\u001b[0m\u001b[0;34m\u001b[0m\u001b[0;34m\u001b[0m\u001b[0m\n\u001b[0;32m--> 125\u001b[0;31m       \u001b[0mdata_cols\u001b[0m \u001b[0;34m=\u001b[0m \u001b[0mmatches\u001b[0m\u001b[0;34m.\u001b[0m\u001b[0mgroup\u001b[0m\u001b[0;34m(\u001b[0m\u001b[0;36m1\u001b[0m\u001b[0;34m)\u001b[0m\u001b[0;34m\u001b[0m\u001b[0;34m\u001b[0m\u001b[0m\n\u001b[0m\u001b[1;32m    126\u001b[0m       \u001b[0mdata_vals\u001b[0m \u001b[0;34m=\u001b[0m \u001b[0mmatches\u001b[0m\u001b[0;34m.\u001b[0m\u001b[0mgroup\u001b[0m\u001b[0;34m(\u001b[0m\u001b[0;36m2\u001b[0m\u001b[0;34m)\u001b[0m\u001b[0;34m[\u001b[0m\u001b[0;34m:\u001b[0m\u001b[0;34m-\u001b[0m\u001b[0;36m1\u001b[0m\u001b[0;34m]\u001b[0m \u001b[0;31m#removing the last char \"]\" at the end.\u001b[0m\u001b[0;34m\u001b[0m\u001b[0;34m\u001b[0m\u001b[0m\n\u001b[1;32m    127\u001b[0m \u001b[0;34m\u001b[0m\u001b[0m\n",
            "\u001b[0;31mAttributeError\u001b[0m: 'NoneType' object has no attribute 'group'"
          ]
        }
      ]
    },
    {
      "cell_type": "markdown",
      "source": [
        "##Prep'ing the _columns_ and _data values_ for the _df_ called **mix_composition**"
      ],
      "metadata": {
        "id": "KVty0kmNaGcQ"
      },
      "id": "KVty0kmNaGcQ"
    },
    {
      "cell_type": "markdown",
      "source": [
        "##Convert fto df"
      ],
      "metadata": {
        "id": "QIeiQKSgY-d_"
      },
      "id": "QIeiQKSgY-d_"
    },
    {
      "cell_type": "markdown",
      "source": [
        "#class Creation\n",
        "Now we have all we need for our analysis, let's try to reorganize what we build so far into a class called _MixComp_"
      ],
      "metadata": {
        "id": "5INb-cvbMhEJ"
      },
      "id": "5INb-cvbMhEJ"
    },
    {
      "cell_type": "markdown",
      "source": [
        "##Let's test the Class MixComp"
      ],
      "metadata": {
        "id": "9QQSyxSd8yJw"
      },
      "id": "9QQSyxSd8yJw"
    }
  ],
  "metadata": {
    "kernelspec": {
      "display_name": "Python 3",
      "name": "python3"
    },
    "language_info": {
      "codemirror_mode": {
        "name": "ipython",
        "version": 3
      },
      "file_extension": ".py",
      "mimetype": "text/x-python",
      "name": "python",
      "nbconvert_exporter": "python",
      "pygments_lexer": "ipython3",
      "version": "3.9.13"
    },
    "colab": {
      "provenance": []
    }
  },
  "nbformat": 4,
  "nbformat_minor": 5
}