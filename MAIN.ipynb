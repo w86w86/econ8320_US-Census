{
  "cells": [
    {
      "cell_type": "markdown",
      "source": [
        "Set up the variable for my research"
      ],
      "metadata": {
        "id": "Nu7m15GcZfnS"
      },
      "id": "Nu7m15GcZfnS"
    },
    {
      "cell_type": "code",
      "source": [
        "import request\n",
        "import json\n",
        "\n",
        "# download the Demographics_Native_Country_Of_Mother\n",
        "COM_url = 'https://api.census.gov/data/2024/cps/basic/jan?tabulate=weight(PWSSWGT)&row+for&row+PEMNTVTY&row+PEMARITL&row+PECYC&row+PEDIPGED&row+PEEDUCA&row+PESEX&row+PRCITSHP&for=county:071&in=state:22'\n",
        "\n",
        "COM = request(COM)"
      ],
      "metadata": {
        "id": "jbgSMXUEZTLt",
        "outputId": "1d4580ea-e3c4-4e03-d321-48a614eb72d2",
        "colab": {
          "base_uri": "https://localhost:8080/"
        }
      },
      "id": "jbgSMXUEZTLt",
      "execution_count": 4,
      "outputs": [
        {
          "output_type": "stream",
          "name": "stdout",
          "text": [
            "Adie Diawara\n"
          ]
        }
      ]
    }
  ],
  "metadata": {
    "kernelspec": {
      "display_name": "Python 3 (ipykernel)",
      "language": "python",
      "name": "python3"
    },
    "language_info": {
      "codemirror_mode": {
        "name": "ipython",
        "version": 3
      },
      "file_extension": ".py",
      "mimetype": "text/x-python",
      "name": "python",
      "nbconvert_exporter": "python",
      "pygments_lexer": "ipython3",
      "version": "3.9.13"
    },
    "colab": {
      "provenance": []
    }
  },
  "nbformat": 4,
  "nbformat_minor": 5
}