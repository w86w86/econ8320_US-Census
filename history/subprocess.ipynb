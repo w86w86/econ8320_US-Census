{
  "nbformat": 4,
  "nbformat_minor": 0,
  "metadata": {
    "colab": {
      "provenance": [],
      "authorship_tag": "ABX9TyO4y+rhgozEKZnzplTupegg",
      "include_colab_link": true
    },
    "kernelspec": {
      "name": "python3",
      "display_name": "Python 3"
    },
    "language_info": {
      "name": "python"
    }
  },
  "cells": [
    {
      "cell_type": "markdown",
      "metadata": {
        "id": "view-in-github",
        "colab_type": "text"
      },
      "source": [
        "<a href=\"https://colab.research.google.com/github/w86w86/econ8320_US-Census/blob/main/subprocess.ipynb\" target=\"_parent\"><img src=\"https://colab.research.google.com/assets/colab-badge.svg\" alt=\"Open In Colab\"/></a>"
      ]
    },
    {
      "cell_type": "code",
      "source": [
        "from pydrive.auth import GoogleAuth\n",
        "from google.colab import auth\n",
        "\n",
        "auth.authenticate_user()\n",
        "\n",
        "!pip install --upgrade gupload\n",
        "!gupload --to '1wz8zHV8lrfAInpFvpXdyKXfngp9ulHW3' verse.jpg\n",
        "\n",
        "print('next')"
      ],
      "metadata": {
        "colab": {
          "base_uri": "https://localhost:8080/"
        },
        "id": "xcluE3OslXvP",
        "outputId": "7b9d221d-135a-4ac5-a114-6ded994e111f"
      },
      "execution_count": 3,
      "outputs": [
        {
          "output_type": "stream",
          "name": "stdout",
          "text": [
            "Requirement already satisfied: gupload in /usr/local/lib/python3.10/dist-packages (1.1.0)\n",
            "Requirement already satisfied: click==7.0 in /usr/local/lib/python3.10/dist-packages (from gupload) (7.0)\n",
            "Requirement already satisfied: google-api-python-client==1.7.10 in /usr/local/lib/python3.10/dist-packages (from gupload) (1.7.10)\n",
            "Requirement already satisfied: httplib2<1dev,>=0.9.2 in /usr/local/lib/python3.10/dist-packages (from google-api-python-client==1.7.10->gupload) (0.22.0)\n",
            "Requirement already satisfied: google-auth>=1.4.1 in /usr/local/lib/python3.10/dist-packages (from google-api-python-client==1.7.10->gupload) (2.27.0)\n",
            "Requirement already satisfied: google-auth-httplib2>=0.0.3 in /usr/local/lib/python3.10/dist-packages (from google-api-python-client==1.7.10->gupload) (0.1.1)\n",
            "Requirement already satisfied: six<2dev,>=1.6.1 in /usr/local/lib/python3.10/dist-packages (from google-api-python-client==1.7.10->gupload) (1.16.0)\n",
            "Requirement already satisfied: uritemplate<4dev,>=3.0.0 in /usr/local/lib/python3.10/dist-packages (from google-api-python-client==1.7.10->gupload) (3.0.1)\n",
            "Requirement already satisfied: cachetools<6.0,>=2.0.0 in /usr/local/lib/python3.10/dist-packages (from google-auth>=1.4.1->google-api-python-client==1.7.10->gupload) (5.3.3)\n",
            "Requirement already satisfied: pyasn1-modules>=0.2.1 in /usr/local/lib/python3.10/dist-packages (from google-auth>=1.4.1->google-api-python-client==1.7.10->gupload) (0.4.0)\n",
            "Requirement already satisfied: rsa<5,>=3.1.4 in /usr/local/lib/python3.10/dist-packages (from google-auth>=1.4.1->google-api-python-client==1.7.10->gupload) (4.9)\n",
            "Requirement already satisfied: pyparsing!=3.0.0,!=3.0.1,!=3.0.2,!=3.0.3,<4,>=2.4.2 in /usr/local/lib/python3.10/dist-packages (from httplib2<1dev,>=0.9.2->google-api-python-client==1.7.10->gupload) (3.1.2)\n",
            "Requirement already satisfied: pyasn1<0.7.0,>=0.4.6 in /usr/local/lib/python3.10/dist-packages (from pyasn1-modules>=0.2.1->google-auth>=1.4.1->google-api-python-client==1.7.10->gupload) (0.6.0)\n",
            "Uploading file: verse.jpg\n",
            "next\n"
          ]
        }
      ]
    },
    {
      "cell_type": "code",
      "source": [
        "!pip install gupload\n",
        "\n",
        "#gupload --id 1wz8zHV8lrfAInpFvpXdyKXfngp9ulHW3 example.txt\n"
      ],
      "metadata": {
        "colab": {
          "base_uri": "https://localhost:8080/"
        },
        "id": "GU-ZJY4apsuI",
        "outputId": "71d50fff-2939-4bb2-8e34-efeceabb1a8d"
      },
      "execution_count": 7,
      "outputs": [
        {
          "output_type": "stream",
          "name": "stdout",
          "text": [
            "Requirement already satisfied: gupload in /usr/local/lib/python3.10/dist-packages (1.1.0)\n",
            "Requirement already satisfied: click==7.0 in /usr/local/lib/python3.10/dist-packages (from gupload) (7.0)\n",
            "Requirement already satisfied: google-api-python-client==1.7.10 in /usr/local/lib/python3.10/dist-packages (from gupload) (1.7.10)\n",
            "Requirement already satisfied: httplib2<1dev,>=0.9.2 in /usr/local/lib/python3.10/dist-packages (from google-api-python-client==1.7.10->gupload) (0.22.0)\n",
            "Requirement already satisfied: google-auth>=1.4.1 in /usr/local/lib/python3.10/dist-packages (from google-api-python-client==1.7.10->gupload) (2.27.0)\n",
            "Requirement already satisfied: google-auth-httplib2>=0.0.3 in /usr/local/lib/python3.10/dist-packages (from google-api-python-client==1.7.10->gupload) (0.1.1)\n",
            "Requirement already satisfied: six<2dev,>=1.6.1 in /usr/local/lib/python3.10/dist-packages (from google-api-python-client==1.7.10->gupload) (1.16.0)\n",
            "Requirement already satisfied: uritemplate<4dev,>=3.0.0 in /usr/local/lib/python3.10/dist-packages (from google-api-python-client==1.7.10->gupload) (3.0.1)\n",
            "Requirement already satisfied: cachetools<6.0,>=2.0.0 in /usr/local/lib/python3.10/dist-packages (from google-auth>=1.4.1->google-api-python-client==1.7.10->gupload) (5.3.3)\n",
            "Requirement already satisfied: pyasn1-modules>=0.2.1 in /usr/local/lib/python3.10/dist-packages (from google-auth>=1.4.1->google-api-python-client==1.7.10->gupload) (0.4.0)\n",
            "Requirement already satisfied: rsa<5,>=3.1.4 in /usr/local/lib/python3.10/dist-packages (from google-auth>=1.4.1->google-api-python-client==1.7.10->gupload) (4.9)\n",
            "Requirement already satisfied: pyparsing!=3.0.0,!=3.0.1,!=3.0.2,!=3.0.3,<4,>=2.4.2 in /usr/local/lib/python3.10/dist-packages (from httplib2<1dev,>=0.9.2->google-api-python-client==1.7.10->gupload) (3.1.2)\n",
            "Requirement already satisfied: pyasn1<0.7.0,>=0.4.6 in /usr/local/lib/python3.10/dist-packages (from pyasn1-modules>=0.2.1->google-auth>=1.4.1->google-api-python-client==1.7.10->gupload) (0.6.0)\n"
          ]
        }
      ]
    },
    {
      "cell_type": "code",
      "source": [
        "import subprocess\n",
        "\n",
        "fileName = 'abc.jpg'\n",
        "\n",
        "my_gdrive_Census_id = \"1wz8zHV8lrfAInpFvpXdyKXfngp9ulHW3\"\n",
        "command = f\"gupload --to {my_gdrive_Census_id} {fileName}\"\n",
        "upload_result = subprocess.run(command, shell=True)\n",
        "if upload_result.returncode:\n",
        "  print (f\"File '{fileName}' Error during transfer\")\n",
        "else:\n",
        "  print(f\"File '{fileName}' transfer completed\")\n",
        "\n",
        "# Remove the file\n",
        "#import os\n",
        "#os.remove(fileName)\n"
      ],
      "metadata": {
        "colab": {
          "base_uri": "https://localhost:8080/"
        },
        "id": "k1LOStr_qMfD",
        "outputId": "db302f52-9366-4887-b093-5e16d1634220"
      },
      "execution_count": 26,
      "outputs": [
        {
          "output_type": "stream",
          "name": "stdout",
          "text": [
            "false\n"
          ]
        }
      ]
    },
    {
      "cell_type": "code",
      "source": [
        "!gupload --id 1wz8zHV8lrfAInpFvpXdyKXfngp9ulHW3 abc.jpg"
      ],
      "metadata": {
        "colab": {
          "base_uri": "https://localhost:8080/"
        },
        "id": "HjwPGBX9spGH",
        "outputId": "e7715ef0-f465-4767-dc50-66bfd42f65cd"
      },
      "execution_count": 13,
      "outputs": [
        {
          "output_type": "stream",
          "name": "stdout",
          "text": [
            "Usage: gupload [OPTIONS] [FILES]...\n",
            "Try \"gupload --help\" for help.\n",
            "\n",
            "Error: no such option: --id\n"
          ]
        }
      ]
    }
  ]
}
