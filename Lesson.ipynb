{
  "cells": [
    {
      "cell_type": "markdown",
      "metadata": {
        "id": "w3dUkDjGhGEw"
      },
      "source": [
        "# Multiprocessing\n",
        "\n",
        "Or writing programs to use multiple processor cores"
      ]
    },
    {
      "cell_type": "markdown",
      "metadata": {
        "id": "kWkkv1CchGEx"
      },
      "source": [
        "### This lesson is based on notes from [sebastianraschka.com](http://sebastianraschka.com/Articles/2014_multiprocessing.html)\n",
        "\n",
        "What actually happens when you run code, or execute a program on a computer? If we focus on Python, what happens when we run Python code? Does our computer \"speak Python\", understand what we type, and do what we ask?\n",
        "\n",
        "It turns out that no, our computer does NOT speak Python. When we execute Python code, our code is passed to an **interpreter**. This interpreter is what reads our code and translates what we have written into what is called **machine code**. Machine code is typically not human-readable. That's the reason we have languages like Python, R, C++, Java, etc. We need a way to express logic clearly and explicitly, so that it can be translated into the kind of code that our computer DOES understand.\n",
        "\n",
        "So far, human speech (or written human language) does not translate directly to machine code.\n",
        "\n",
        "But what actually happens once we write our code, and the computer starts to run that code? We can understand the basics of this process through the following six (simplified!) steps:\n",
        "\n",
        "1) The computer allocates memory to the program\n",
        "2) The program issues a series of instructions to the processor (the thinking part of the computer)\n",
        "3) Upon completion of one instruction by the processor, the next is started\n",
        "4) Information is returned from the processor to the program as needed\n",
        "5) New instructions are sent to the processor based on information received from the processor\n",
        "6) Return to step 2, repeat until program is finished\n",
        "\n",
        "\n",
        "When a program is running, it typically has a single space in memory in which it stores all information relevant to its task. This memory space allows the information to be used by whichever part of the program requires that information to use it. Basically, think of all of the things in memory as shared assets, and different parts of the program want to be able to access them at the same time. Kind of like if you share a storage space with a friend or family member. Sometimes you'll be pulling out the camping gear, and sometimes they will be instead.\n",
        "\n",
        "Information that is accessible across the entire program are called **globally defined values**. But not all variables are global. Some variables with reduced **scope** are not available to all segments of a program. You might have valuables that you don't share with the other people using your storage space. It's kind of like that. Variables with reduced scope are only available to parts of the program that share that scope.\n",
        "\n",
        "While for people, we restrict access primarily based on keeping valuables safe, programs tend to do it in order to ensure that information is not lost or modified while it is needed by a part of the program. You wouldn't want to have someone change your budgeting spreadsheet in the middle of the month, would you?\n",
        "\n",
        "Again, **scope** is a term used to define the areas in which a given value in memory is accessible. Variables that are **Global** in scope can typically be accessed by any function or command running as part of the program. Variables that are **Local** can only be accessed within the scope in which they are defined. A variable created inside a function is said to be **local** to that function, and only available until the function is concluded. Then it is either returned to the global space, or forgotten.\n"
      ]
    },
    {
      "cell_type": "markdown",
      "metadata": {
        "id": "Jgt7kNkrhGEz"
      },
      "source": [
        "\n",
        "![](https://github.com/dustywhite7/Econ8320/blob/master/SlidesCode/serialParallel.png?raw=true)\n",
        "\n",
        "One of the single biggest changes in computational technology in the recent past was the advent and spread of parallel computation. This concept is the crux of this lesson, but needs a lot of explaining, because it isn't something that we as computer USERS have to deal with. It happens behind the scenes, despite its tremendous importance.\n",
        "\n",
        "### Sequential programs\n",
        "\n",
        "When we perform tasks, some steps must be performed sequentially. This happens because one task depends on the results of the other task. For example, an American football team will only make a play on fourth down if they fail to score or convert on third down. We can't fully implement our plan for fourth down until we have seen whether or not fourth down will occur.\n",
        "\n",
        "We need to aim our penalty shot in FIFA before taking the kick. We even need to wait to complete the details for the elimination rounds of the tournament until group play has ended. Until then, we don't know enough about which teams will advance to complete the bracket.\n",
        "\n",
        "In programming speak, sequential programs are sequential because it is critical that the results of one calculation be within the **scope** of the other calculations. If one sequential calculation cannot view the results of the prior calculation, then the second function cannot be completed.\n",
        "\n",
        "### Parallel Programs\n",
        "\n",
        "On the other hand, some calculations can be performed independent of the results of other steps. These tend to be calculations that can essentially be considered separate tasks, but part of a larger overall task. Some examples include\n",
        "\n",
        "- Batch processing of files\n",
        "- Non-sequential simulations\n",
        "- Serving recommended products to many users\n",
        "- Repeated random draws\n",
        "- Rendering polygons\n",
        "\n",
        "The key difference between serial and parallel programs is the dependency (or lack of dependency) of calculations on the results of previous calculations.\n",
        "\n",
        "- Serial programs rely on previous results\n",
        "- Parallel programs do not depend on the results of other calculations\n",
        "\n",
        "Parallel programs can occur simultaneously, allowing us to accelerate execution. If we can run four calculations simultaneously, then in theory we might be able to run 100 computations in the time that a serial program might run 25 similar computations.\n",
        "\n",
        "Parallel computations have enabled advances like improved graphics in video games, and have made possible the revolution in machine learning. Let's learn how to make parallel code work for our projects, as well!\n"
      ]
    },
    {
      "cell_type": "markdown",
      "metadata": {
        "id": "zSkeP4YMhGE0"
      },
      "source": [
        "One place where parallel processing really shines is in estimating complex mathematical calculations. While some math can be solved algebraically, other math problems can only be solved computationally. The more computations we can perform in a given amount of time, the sooner we can find the solution to those problems. We can buy faster computers to speed up calculations, but we can also parallelize many calculations, giving us benefits without having to upgrade our computer!\n",
        "\n",
        "Some examples in which we will typically solve math problems with computation:\n",
        "- Estimating Producer/Consumer Surplus\n",
        "- Calculating probabilities from frequency tables\n",
        "- Integrating on complicated functional forms\n",
        "\n",
        "### Numeric Integration\n",
        "\n",
        "Often, when integrating complicated functions, there is no **algebraic** solution to the integral. This means that we need to estimate the value of the integral **numerically**. The process that we follow to estimate an integral numerically follows:\n",
        "\n",
        "1) Choose points at which to estimate the value of the function\n",
        "2) Choose bandwidth\n",
        "3) Multiply function values by bandwidth\n",
        "4) Add all estimates to calculate approximate integral\n",
        "\n",
        "![](https://github.com/dustywhite7/Econ8320/blob/master/SlidesCode/integralProcess.png?raw=true)\n",
        "\n",
        "Let's start by just defining a function to integrate. We can use\n",
        "\n",
        "$$ f(x) = \\frac{1}{1+x^2} $$\n",
        "\n",
        "as our example function. First, we need to write this function as a Python function:"
      ]
    },
    {
      "cell_type": "code",
      "execution_count": null,
      "metadata": {
        "id": "LuovgeclhGE0"
      },
      "outputs": [],
      "source": [
        "# define any function here!\n",
        "def f(x):\n",
        "    # return the value of the function given x\n",
        "    return 1/(1 + x**2)"
      ]
    },
    {
      "cell_type": "markdown",
      "metadata": {
        "id": "TSaY6wtVhGE1"
      },
      "source": [
        "Now, we need to write a function that can sample from our function, and calculate the area of the sampled rectangles, and then return an approximate area."
      ]
    },
    {
      "cell_type": "code",
      "execution_count": null,
      "metadata": {
        "id": "1MEjVny-hGE1"
      },
      "outputs": [],
      "source": [
        "import random\n",
        "\n",
        "def serial_integral(nSample, f, xmin, xmax):\n",
        "  # determine points of estimation\n",
        "  sample = sorted([random.uniform(xmin, xmax) for i in range(nSample)])\n",
        "  # Calculate height at each point\n",
        "  value = [f(i) for i in sample]\n",
        "  # Calculate areas of rectangles\n",
        "  # We have to specially calculate the first rectangle,\n",
        "  #   because xmin is not part of our list of samples\n",
        "  area = [(sample[0]-xmin)*value[0]] +\n",
        "    [(sample[i]-sample[i-1])*value[i] for i in range(1, len(sample))]\n",
        "  # Return sum as an approximate integral\n",
        "  return sum(area)"
      ]
    },
    {
      "cell_type": "markdown",
      "metadata": {
        "id": "_wPuQjtghGE2"
      },
      "source": [
        "This is our function for actually integrating a function `f` from `xmin` to `xmax` across `nSample` random intervals. Below is a picture of how this function gets (approximately) closer to estimating the true integral value as we increase the number of points at which we sample the function. Because integration is based on randomly drawn intervals, the convergence is not smooth. If we took many integrals at each bin number, however, we would expect this plot to become smooth.\n",
        "\n",
        "![](https://github.com/dustywhite7/Econ8320/blob/master/SlidesCode/integral.png?raw=true)\n",
        "\n",
        "### Parallel calculations\n",
        "\n",
        "The ``multiprocessing`` library is designed to create multiple sub-instances of the python interpreter called processes, with each process returning values that are independent of the other processes. In order to coordinate this effort, some computational power must be assigned to send off processes and to retrieve their results upon completion.\n",
        "\n",
        "This \"overhead\" means that parallel processing is not usually justified for very simple problems, and is reserved for computationally intensive problems, or where there are very many processes to be completed in one batch.\n",
        "\n",
        "Given the overhead of parallelization, it is not worthwhile to make a parallel version of our single integral function above. Instead, it IS worthwhile to create a function that can calculate the integral many times in parallel. Like we said above, convergence is noisy, but an average value for each given number of bins should be more stable.\n",
        "\n",
        "Let's see how much time we can save by making a function that will calculate an average value in parallel when compared to a serialized alternative."
      ]
    },
    {
      "cell_type": "code",
      "execution_count": null,
      "metadata": {
        "id": "TkuHwKAphGE2"
      },
      "outputs": [],
      "source": [
        "import multiprocessing as mp # This module is part of the\n",
        "\t\t\t     # python standard library\n",
        "\n",
        "def serial_average(n_bins, n_reps, f, xmin, xmax):\n",
        "  attempts = [serial_integral(n_bins, f, xmin, xmax) for i in range(n_reps)]\n",
        "  return sum(attempts)/n_reps\n",
        "\n",
        "def parallel_average(processes, n_bins, n_reps, f, xmin, xmax):\n",
        "  pool = mp.Pool(processes=processes)\n",
        "  results = [pool.apply_async(serial_integral, (n_bins, f, xmin, xmax)) for i in range(n_reps)]\n",
        "  results = [p.get() for p in results]\n",
        "  return sum(results)/n_reps"
      ]
    },
    {
      "cell_type": "markdown",
      "metadata": {
        "id": "kTzcbBZhhGE2"
      },
      "source": [
        "Now let's explore what that function does."
      ]
    },
    {
      "cell_type": "code",
      "execution_count": null,
      "metadata": {
        "id": "gF5D48M9hGE2"
      },
      "outputs": [],
      "source": [
        "def parallel_average(processes, n_bins, n_reps, f, xmin, xmax):\n",
        "  pool = mp.Pool(processes=processes)\n",
        "  ...\n",
        "  return ..."
      ]
    },
    {
      "cell_type": "markdown",
      "metadata": {
        "id": "d8lksG5ihGE3"
      },
      "source": [
        "The `mp.Pool` class provides the functionality to organize our processes, and to define the degree to which we want to spread our work across various **processes**. We can specify how many active processes there should be at any time with the number of processes.\n",
        "\n",
        "We need to take care to choose the right number of processes for our machine! In general, my experience has been that performance is best when you keep the number of processes at or below the number of cores available in your computer's processor."
      ]
    },
    {
      "cell_type": "code",
      "execution_count": null,
      "metadata": {
        "id": "IjBl0OUDhGE3"
      },
      "outputs": [],
      "source": [
        "def parallel_average(processes, n_bins, n_reps, f, xmin, xmax):\n",
        "  ...\n",
        "  results = [pool.apply_async(serial_integral, (n_bins, f, xmin, xmax)) for i in range(n_reps)]\n",
        "  ...\n",
        "  return ..."
      ]
    },
    {
      "cell_type": "markdown",
      "metadata": {
        "id": "HzCn9goChGE3"
      },
      "source": [
        "We next use the `apply_async` method to pass the values that we want our pooled instances to calculate. We need to provide the function to be executed, as well as the arguments for the function in each iteration with each each of the arguments an element in a tuple. In our case, we are not varying the arguments, so we provide a single tuple that never changes, but we could vary those arguments whenever necessary or desirable."
      ]
    },
    {
      "cell_type": "code",
      "execution_count": null,
      "metadata": {
        "id": "MJbe-lYHhGE3"
      },
      "outputs": [],
      "source": [
        "def parallel_average(processes, n_bins, n_reps, f, xmin, xmax):\n",
        "  ...\n",
        "  results = [p.get() for p in results]\n",
        "  ...\n",
        "  return ..."
      ]
    },
    {
      "cell_type": "markdown",
      "metadata": {
        "id": "Xl0AO_E0hGE3"
      },
      "source": [
        "The next step is to use the `get()` method on each element of our returned processes. This will fetch the return statement values from each of the processes that we executed in the last line.\n",
        "\n",
        "At this point the parallel computation is complete. The remainder of the function will look and work just like the results from our `serial_average` method.\n",
        "\n",
        "\n",
        "### Timing it\n",
        "\n",
        "Next, it is time to write code that will allow us to test our parallel and serial performance."
      ]
    },
    {
      "cell_type": "code",
      "execution_count": null,
      "metadata": {
        "id": "A4WCJs9ZhGE3"
      },
      "outputs": [],
      "source": [
        "import timeit # library for timing execution of code\n",
        "\n",
        "benchmarks = [] # list to store our execution times\n",
        "\n",
        "benchmarks.append(timeit.Timer('serial_average(10000, 100, f, 0, 1)',\n",
        "  'from __main__ import serial_average, serial_integral, f').timeit(number=1))\n",
        "    # Note that we need to include a second line\n",
        "    # that imports our functions from __main__.\n",
        "    # This tells the timer what needs to be IN SCOPE\n",
        "\n",
        "benchmarks.append(timeit.Timer(\n",
        "  'parallel_average(2, 10000, 100, f, 0, 1)',\n",
        "  'from __main__ import parallel_average, serial_integral, f').timeit(\n",
        "    number=1))\n",
        "    # Need to include number of processes\n",
        "    # when timing the parallel implementation"
      ]
    },
    {
      "cell_type": "markdown",
      "metadata": {
        "id": "4DVop2JBhGE4"
      },
      "source": [
        "Amazing! When timing the output on my virtual machine (not at all a powerful computer), the parallel version runs nearly twice as fast (0.36 seconds vs 0.69 seconds). Even in a fairly trivial example, we see significant performance gains.\n",
        "\n",
        "When I ran a similar trial on my computer with 16 cores, I saw the following performance pattern:\n",
        "\n",
        "![w:750](https://github.com/dustywhite7/Econ8320/blob/master/SlidesCode/performance.png?raw=true)\n",
        "\n",
        "On 16 cores, the parallel version of this problem executes over 5x faster than the serial version! Some observations:\n",
        "\n",
        "- This was done on a 16-core processor, which is an expensive way to get a performance gain\n",
        "- Creating too many processes (going past 16 to 32) actually started to slow the computations down\n",
        "- We need to be aware of the hardware that we are utilizing when designing parallel code\n",
        "\n",
        "If you are unsure of how many processes you should run on your machine, the following command will show you how many CPU cores are available to Python:\n",
        "\n",
        "```python\n",
        "mp.cpu_count() # Tells us the number of available CPUs\n",
        "```\n",
        "\n",
        "Now it's your turn to give it a go!\n"
      ]
    },
    {
      "cell_type": "markdown",
      "metadata": {
        "id": "-BsEy-2PhGE4"
      },
      "source": [
        "# Solve-it!\n",
        "\n",
        "Simulate 1,000 draws from a multivariate normal distribution and calculate the average value of the dependent variable, but do it 100 times! This is called \"bootstrapping\" and is a critical process in many statistical models and simulations. Draw from the following equation:\n",
        "\n",
        "$$ y = \\alpha + x_{1} + 2\\cdot x_{2} + \\frac{1}{2}x_{3} + \\epsilon $$\n",
        "\n",
        "where\n",
        "\n",
        "$\\alpha \\sim \\mathcal{N}(15,2)$, $x_1 \\sim \\mathcal{N}(3,5)$,\n",
        "\n",
        "$x_2 \\sim \\mathcal{N}(10,1)$, $x_3 \\sim \\mathcal{N}(8,8)$, and\n",
        "\n",
        "$\\epsilon \\sim \\mathcal{N}(0,1)$\n",
        "\n",
        "$\\mathcal{N}(\\mu, \\sigma)$ represents the Normal distribution with mean $\\mu$ and standard deviation $\\sigma$\n",
        "\n",
        "Write functions to generate all values and calculate . Test and time these draws using serial and parallel programming (2 cores), and report the difference in performance between the two versions.\n",
        "\n",
        "\n",
        "Call your serial function `sCalc`, and your parallel function `pCalc`, store your results from each function as a list, with the lists named `sResults` and `pResults`, respectively.\n",
        "\n",
        "Finally, store the timed values for each run as `sTime` and `pTime`, respectively. All code for this exercise should go in the cell labeled `#si-exercise` below.\n",
        "\n",
        "**NOTE: Because we are running code on a virtual machine, and because the problem is not very computationally intensive, we should not be surprised if the serial version of our code outperforms the parallel version for this assignment.**\n",
        "\n",
        "**OTHER NOTE: Because we need this to run in a reasonable amount of time, we are only running 100 rounds of sampling. Typical bootstrapping procedures default to 10,000 rounds as good practice.**"
      ]
    },
    {
      "cell_type": "code",
      "execution_count": 36,
      "metadata": {
        "colab": {
          "base_uri": "https://localhost:8080/",
          "height": 106
        },
        "id": "nA8WqU8khGE4",
        "outputId": "c7f1e4aa-9a74-429d-f409-e8ae4897858e"
      },
      "outputs": [
        {
          "output_type": "error",
          "ename": "SyntaxError",
          "evalue": "cannot use starred expression here (<ipython-input-36-7bca4a4cf321>, line 30)",
          "traceback": [
            "\u001b[0;36m  File \u001b[0;32m\"<ipython-input-36-7bca4a4cf321>\"\u001b[0;36m, line \u001b[0;32m30\u001b[0m\n\u001b[0;31m    sTime, pTime = (*benchmarks)\u001b[0m\n\u001b[0m                    ^\u001b[0m\n\u001b[0;31mSyntaxError\u001b[0m\u001b[0;31m:\u001b[0m cannot use starred expression here\n"
          ]
        }
      ],
      "source": [
        "#si-exercise\n",
        "import numpy as np\n",
        "import multiprocessing as mp\n",
        "import timeit\n",
        "\n",
        "def y(alpha, x1, x2, x3, error): #our function\n",
        "  return alpha + x1 + 2*x2 + (1/2)*x3 + error\n",
        "\n",
        "def nd(mean, sd, size=1000): #normal distribution\n",
        "  return np.random.normal(mean, sd, size)\n",
        "\n",
        "def sCalc(times=100):\n",
        "  sResults  = [ y(nd(15, 2), nd(3, 5), nd(10, 1), nd(8, 8), nd(0, 1) ) for i in range(times)]\n",
        "  return sum(sResults)/times\n",
        "\n",
        "def pCalc(times=100):\n",
        "  pool = mp.Pool(processes=2)\n",
        "  results = [pool.apply_async(y, ( (15, 2), nd(3, 5), nd(10, 1), nd(8, 8), nd(0, 1) )) for i in range(times)]\n",
        "  pResults = [p.get() for p in results]\n",
        "  return sum(pResults)/times\n",
        "\n",
        "# Let's Time it\n",
        "benchmarks = []\n",
        "benchmarks.append(timeit.Timer('sCalc()',\n",
        "  'from __main__ import sCalc, y, nd').timeit(number=1))\n",
        "\n",
        "benchmarks.append(timeit.Timer('sCalc()',\n",
        "  'from __main__ import sCalc, y, nd').timeit(number=1))\n",
        "\n",
        "sTime = benchmarks[0]\n",
        "pTime = benchmarks[1]"
      ]
    },
    {
      "cell_type": "code",
      "source": [
        "import requests\n",
        "import json\n",
        "\n",
        "var = 'https://api.census.gov/data/2024/cps/basic/jan/variables.json'\n",
        "var = json.loads(requests.get(var).text)\n",
        "var = var['variables']['PWSSWGT']\n",
        "\n",
        "demo = 'https://api.census.gov/data/2022/cps/basic/nov?get=PEMNTVTY,PEMARITL,PESEX,PRCITSHP,GTCBSA&for=state:10&key=a24a131b4da25b83199bdc7202fcab553b9e2983'\n",
        "demo = json.loads(requests.get(demo).text)\n",
        "\n",
        "print (var)"
      ],
      "metadata": {
        "colab": {
          "base_uri": "https://localhost:8080/"
        },
        "id": "8p1cPRDUpvmm",
        "outputId": "305e6cc4-3b5a-4ebd-c0d2-3ec767693d59"
      },
      "execution_count": 9,
      "outputs": [
        {
          "output_type": "stream",
          "name": "stdout",
          "text": [
            "{'label': 'Weight-second stage weight (rake 6 final step weight)', 'predicateType': 'int', 'group': 'N/A', 'limit': 0, 'is-weight': True}\n"
          ]
        }
      ]
    },
    {
      "cell_type": "code",
      "source": [
        "import pandas as pd\n",
        "\n",
        "data = pd.DataFrame(list(json.loads(requests.get(\"https://api.census.gov/data/2022/cps/basic/nov?get=PWSSWGT,PEMNTVTY,PEMARITL,PESEX,PRCITSHP,GTCBSA&for=state:31&key=a24a131b4da25b83199bdc7202fcab553b9e2983\").text))[1:], columns = ['weight', 'nativity', 'marital', 'sex', 'cit', 'city', 'state'])"
      ],
      "metadata": {
        "id": "e34MZNENrVUB"
      },
      "execution_count": 26,
      "outputs": []
    },
    {
      "cell_type": "code",
      "source": [
        "data['weight'] = data['weight'].astype(float)\n",
        "data['nativity'] = data['nativity'].astype(int)\n",
        "data['marital'] = data['marital'].astype(int)\n",
        "data['sex'] = data['sex'].astype(int)\n",
        "data['cit'] = data['cit'].astype(int)\n",
        "data['city'] = data['city'].astype(int)\n",
        "data['state'] = data['state'].astype(int)"
      ],
      "metadata": {
        "id": "M_p6OIHVrrFB"
      },
      "execution_count": 27,
      "outputs": []
    },
    {
      "cell_type": "code",
      "source": [
        "grouped = data.groupby(['state', 'marital'])['weight'].sum().reset_index()\n",
        "grouped['weight'] = grouped['weight'].astype(int)\n",
        "\n",
        "grouped"
      ],
      "metadata": {
        "colab": {
          "base_uri": "https://localhost:8080/",
          "height": 269
        },
        "id": "oAbxDZAzsLPF",
        "outputId": "463d2609-99f8-4305-977e-41a031739bce"
      },
      "execution_count": 33,
      "outputs": [
        {
          "output_type": "execute_result",
          "data": {
            "text/plain": [
              "   state  marital  weight\n",
              "0     31       -1  392683\n",
              "1     31        1  840572\n",
              "2     31        2    7461\n",
              "3     31        3   78520\n",
              "4     31        4  149842\n",
              "5     31        5   22823\n",
              "6     31        6  451762"
            ],
            "text/html": [
              "\n",
              "  <div id=\"df-7b964061-cdec-4539-9c7c-1ad1fee7580d\" class=\"colab-df-container\">\n",
              "    <div>\n",
              "<style scoped>\n",
              "    .dataframe tbody tr th:only-of-type {\n",
              "        vertical-align: middle;\n",
              "    }\n",
              "\n",
              "    .dataframe tbody tr th {\n",
              "        vertical-align: top;\n",
              "    }\n",
              "\n",
              "    .dataframe thead th {\n",
              "        text-align: right;\n",
              "    }\n",
              "</style>\n",
              "<table border=\"1\" class=\"dataframe\">\n",
              "  <thead>\n",
              "    <tr style=\"text-align: right;\">\n",
              "      <th></th>\n",
              "      <th>state</th>\n",
              "      <th>marital</th>\n",
              "      <th>weight</th>\n",
              "    </tr>\n",
              "  </thead>\n",
              "  <tbody>\n",
              "    <tr>\n",
              "      <th>0</th>\n",
              "      <td>31</td>\n",
              "      <td>-1</td>\n",
              "      <td>392683</td>\n",
              "    </tr>\n",
              "    <tr>\n",
              "      <th>1</th>\n",
              "      <td>31</td>\n",
              "      <td>1</td>\n",
              "      <td>840572</td>\n",
              "    </tr>\n",
              "    <tr>\n",
              "      <th>2</th>\n",
              "      <td>31</td>\n",
              "      <td>2</td>\n",
              "      <td>7461</td>\n",
              "    </tr>\n",
              "    <tr>\n",
              "      <th>3</th>\n",
              "      <td>31</td>\n",
              "      <td>3</td>\n",
              "      <td>78520</td>\n",
              "    </tr>\n",
              "    <tr>\n",
              "      <th>4</th>\n",
              "      <td>31</td>\n",
              "      <td>4</td>\n",
              "      <td>149842</td>\n",
              "    </tr>\n",
              "    <tr>\n",
              "      <th>5</th>\n",
              "      <td>31</td>\n",
              "      <td>5</td>\n",
              "      <td>22823</td>\n",
              "    </tr>\n",
              "    <tr>\n",
              "      <th>6</th>\n",
              "      <td>31</td>\n",
              "      <td>6</td>\n",
              "      <td>451762</td>\n",
              "    </tr>\n",
              "  </tbody>\n",
              "</table>\n",
              "</div>\n",
              "    <div class=\"colab-df-buttons\">\n",
              "\n",
              "  <div class=\"colab-df-container\">\n",
              "    <button class=\"colab-df-convert\" onclick=\"convertToInteractive('df-7b964061-cdec-4539-9c7c-1ad1fee7580d')\"\n",
              "            title=\"Convert this dataframe to an interactive table.\"\n",
              "            style=\"display:none;\">\n",
              "\n",
              "  <svg xmlns=\"http://www.w3.org/2000/svg\" height=\"24px\" viewBox=\"0 -960 960 960\">\n",
              "    <path d=\"M120-120v-720h720v720H120Zm60-500h600v-160H180v160Zm220 220h160v-160H400v160Zm0 220h160v-160H400v160ZM180-400h160v-160H180v160Zm440 0h160v-160H620v160ZM180-180h160v-160H180v160Zm440 0h160v-160H620v160Z\"/>\n",
              "  </svg>\n",
              "    </button>\n",
              "\n",
              "  <style>\n",
              "    .colab-df-container {\n",
              "      display:flex;\n",
              "      gap: 12px;\n",
              "    }\n",
              "\n",
              "    .colab-df-convert {\n",
              "      background-color: #E8F0FE;\n",
              "      border: none;\n",
              "      border-radius: 50%;\n",
              "      cursor: pointer;\n",
              "      display: none;\n",
              "      fill: #1967D2;\n",
              "      height: 32px;\n",
              "      padding: 0 0 0 0;\n",
              "      width: 32px;\n",
              "    }\n",
              "\n",
              "    .colab-df-convert:hover {\n",
              "      background-color: #E2EBFA;\n",
              "      box-shadow: 0px 1px 2px rgba(60, 64, 67, 0.3), 0px 1px 3px 1px rgba(60, 64, 67, 0.15);\n",
              "      fill: #174EA6;\n",
              "    }\n",
              "\n",
              "    .colab-df-buttons div {\n",
              "      margin-bottom: 4px;\n",
              "    }\n",
              "\n",
              "    [theme=dark] .colab-df-convert {\n",
              "      background-color: #3B4455;\n",
              "      fill: #D2E3FC;\n",
              "    }\n",
              "\n",
              "    [theme=dark] .colab-df-convert:hover {\n",
              "      background-color: #434B5C;\n",
              "      box-shadow: 0px 1px 3px 1px rgba(0, 0, 0, 0.15);\n",
              "      filter: drop-shadow(0px 1px 2px rgba(0, 0, 0, 0.3));\n",
              "      fill: #FFFFFF;\n",
              "    }\n",
              "  </style>\n",
              "\n",
              "    <script>\n",
              "      const buttonEl =\n",
              "        document.querySelector('#df-7b964061-cdec-4539-9c7c-1ad1fee7580d button.colab-df-convert');\n",
              "      buttonEl.style.display =\n",
              "        google.colab.kernel.accessAllowed ? 'block' : 'none';\n",
              "\n",
              "      async function convertToInteractive(key) {\n",
              "        const element = document.querySelector('#df-7b964061-cdec-4539-9c7c-1ad1fee7580d');\n",
              "        const dataTable =\n",
              "          await google.colab.kernel.invokeFunction('convertToInteractive',\n",
              "                                                    [key], {});\n",
              "        if (!dataTable) return;\n",
              "\n",
              "        const docLinkHtml = 'Like what you see? Visit the ' +\n",
              "          '<a target=\"_blank\" href=https://colab.research.google.com/notebooks/data_table.ipynb>data table notebook</a>'\n",
              "          + ' to learn more about interactive tables.';\n",
              "        element.innerHTML = '';\n",
              "        dataTable['output_type'] = 'display_data';\n",
              "        await google.colab.output.renderOutput(dataTable, element);\n",
              "        const docLink = document.createElement('div');\n",
              "        docLink.innerHTML = docLinkHtml;\n",
              "        element.appendChild(docLink);\n",
              "      }\n",
              "    </script>\n",
              "  </div>\n",
              "\n",
              "\n",
              "<div id=\"df-0c451698-4a14-4131-b19d-157866591ae3\">\n",
              "  <button class=\"colab-df-quickchart\" onclick=\"quickchart('df-0c451698-4a14-4131-b19d-157866591ae3')\"\n",
              "            title=\"Suggest charts\"\n",
              "            style=\"display:none;\">\n",
              "\n",
              "<svg xmlns=\"http://www.w3.org/2000/svg\" height=\"24px\"viewBox=\"0 0 24 24\"\n",
              "     width=\"24px\">\n",
              "    <g>\n",
              "        <path d=\"M19 3H5c-1.1 0-2 .9-2 2v14c0 1.1.9 2 2 2h14c1.1 0 2-.9 2-2V5c0-1.1-.9-2-2-2zM9 17H7v-7h2v7zm4 0h-2V7h2v10zm4 0h-2v-4h2v4z\"/>\n",
              "    </g>\n",
              "</svg>\n",
              "  </button>\n",
              "\n",
              "<style>\n",
              "  .colab-df-quickchart {\n",
              "      --bg-color: #E8F0FE;\n",
              "      --fill-color: #1967D2;\n",
              "      --hover-bg-color: #E2EBFA;\n",
              "      --hover-fill-color: #174EA6;\n",
              "      --disabled-fill-color: #AAA;\n",
              "      --disabled-bg-color: #DDD;\n",
              "  }\n",
              "\n",
              "  [theme=dark] .colab-df-quickchart {\n",
              "      --bg-color: #3B4455;\n",
              "      --fill-color: #D2E3FC;\n",
              "      --hover-bg-color: #434B5C;\n",
              "      --hover-fill-color: #FFFFFF;\n",
              "      --disabled-bg-color: #3B4455;\n",
              "      --disabled-fill-color: #666;\n",
              "  }\n",
              "\n",
              "  .colab-df-quickchart {\n",
              "    background-color: var(--bg-color);\n",
              "    border: none;\n",
              "    border-radius: 50%;\n",
              "    cursor: pointer;\n",
              "    display: none;\n",
              "    fill: var(--fill-color);\n",
              "    height: 32px;\n",
              "    padding: 0;\n",
              "    width: 32px;\n",
              "  }\n",
              "\n",
              "  .colab-df-quickchart:hover {\n",
              "    background-color: var(--hover-bg-color);\n",
              "    box-shadow: 0 1px 2px rgba(60, 64, 67, 0.3), 0 1px 3px 1px rgba(60, 64, 67, 0.15);\n",
              "    fill: var(--button-hover-fill-color);\n",
              "  }\n",
              "\n",
              "  .colab-df-quickchart-complete:disabled,\n",
              "  .colab-df-quickchart-complete:disabled:hover {\n",
              "    background-color: var(--disabled-bg-color);\n",
              "    fill: var(--disabled-fill-color);\n",
              "    box-shadow: none;\n",
              "  }\n",
              "\n",
              "  .colab-df-spinner {\n",
              "    border: 2px solid var(--fill-color);\n",
              "    border-color: transparent;\n",
              "    border-bottom-color: var(--fill-color);\n",
              "    animation:\n",
              "      spin 1s steps(1) infinite;\n",
              "  }\n",
              "\n",
              "  @keyframes spin {\n",
              "    0% {\n",
              "      border-color: transparent;\n",
              "      border-bottom-color: var(--fill-color);\n",
              "      border-left-color: var(--fill-color);\n",
              "    }\n",
              "    20% {\n",
              "      border-color: transparent;\n",
              "      border-left-color: var(--fill-color);\n",
              "      border-top-color: var(--fill-color);\n",
              "    }\n",
              "    30% {\n",
              "      border-color: transparent;\n",
              "      border-left-color: var(--fill-color);\n",
              "      border-top-color: var(--fill-color);\n",
              "      border-right-color: var(--fill-color);\n",
              "    }\n",
              "    40% {\n",
              "      border-color: transparent;\n",
              "      border-right-color: var(--fill-color);\n",
              "      border-top-color: var(--fill-color);\n",
              "    }\n",
              "    60% {\n",
              "      border-color: transparent;\n",
              "      border-right-color: var(--fill-color);\n",
              "    }\n",
              "    80% {\n",
              "      border-color: transparent;\n",
              "      border-right-color: var(--fill-color);\n",
              "      border-bottom-color: var(--fill-color);\n",
              "    }\n",
              "    90% {\n",
              "      border-color: transparent;\n",
              "      border-bottom-color: var(--fill-color);\n",
              "    }\n",
              "  }\n",
              "</style>\n",
              "\n",
              "  <script>\n",
              "    async function quickchart(key) {\n",
              "      const quickchartButtonEl =\n",
              "        document.querySelector('#' + key + ' button');\n",
              "      quickchartButtonEl.disabled = true;  // To prevent multiple clicks.\n",
              "      quickchartButtonEl.classList.add('colab-df-spinner');\n",
              "      try {\n",
              "        const charts = await google.colab.kernel.invokeFunction(\n",
              "            'suggestCharts', [key], {});\n",
              "      } catch (error) {\n",
              "        console.error('Error during call to suggestCharts:', error);\n",
              "      }\n",
              "      quickchartButtonEl.classList.remove('colab-df-spinner');\n",
              "      quickchartButtonEl.classList.add('colab-df-quickchart-complete');\n",
              "    }\n",
              "    (() => {\n",
              "      let quickchartButtonEl =\n",
              "        document.querySelector('#df-0c451698-4a14-4131-b19d-157866591ae3 button');\n",
              "      quickchartButtonEl.style.display =\n",
              "        google.colab.kernel.accessAllowed ? 'block' : 'none';\n",
              "    })();\n",
              "  </script>\n",
              "</div>\n",
              "\n",
              "  <div id=\"id_1fb016ba-7ae1-43f5-bfc0-2520ebc14c8a\">\n",
              "    <style>\n",
              "      .colab-df-generate {\n",
              "        background-color: #E8F0FE;\n",
              "        border: none;\n",
              "        border-radius: 50%;\n",
              "        cursor: pointer;\n",
              "        display: none;\n",
              "        fill: #1967D2;\n",
              "        height: 32px;\n",
              "        padding: 0 0 0 0;\n",
              "        width: 32px;\n",
              "      }\n",
              "\n",
              "      .colab-df-generate:hover {\n",
              "        background-color: #E2EBFA;\n",
              "        box-shadow: 0px 1px 2px rgba(60, 64, 67, 0.3), 0px 1px 3px 1px rgba(60, 64, 67, 0.15);\n",
              "        fill: #174EA6;\n",
              "      }\n",
              "\n",
              "      [theme=dark] .colab-df-generate {\n",
              "        background-color: #3B4455;\n",
              "        fill: #D2E3FC;\n",
              "      }\n",
              "\n",
              "      [theme=dark] .colab-df-generate:hover {\n",
              "        background-color: #434B5C;\n",
              "        box-shadow: 0px 1px 3px 1px rgba(0, 0, 0, 0.15);\n",
              "        filter: drop-shadow(0px 1px 2px rgba(0, 0, 0, 0.3));\n",
              "        fill: #FFFFFF;\n",
              "      }\n",
              "    </style>\n",
              "    <button class=\"colab-df-generate\" onclick=\"generateWithVariable('grouped')\"\n",
              "            title=\"Generate code using this dataframe.\"\n",
              "            style=\"display:none;\">\n",
              "\n",
              "  <svg xmlns=\"http://www.w3.org/2000/svg\" height=\"24px\"viewBox=\"0 0 24 24\"\n",
              "       width=\"24px\">\n",
              "    <path d=\"M7,19H8.4L18.45,9,17,7.55,7,17.6ZM5,21V16.75L18.45,3.32a2,2,0,0,1,2.83,0l1.4,1.43a1.91,1.91,0,0,1,.58,1.4,1.91,1.91,0,0,1-.58,1.4L9.25,21ZM18.45,9,17,7.55Zm-12,3A5.31,5.31,0,0,0,4.9,8.1,5.31,5.31,0,0,0,1,6.5,5.31,5.31,0,0,0,4.9,4.9,5.31,5.31,0,0,0,6.5,1,5.31,5.31,0,0,0,8.1,4.9,5.31,5.31,0,0,0,12,6.5,5.46,5.46,0,0,0,6.5,12Z\"/>\n",
              "  </svg>\n",
              "    </button>\n",
              "    <script>\n",
              "      (() => {\n",
              "      const buttonEl =\n",
              "        document.querySelector('#id_1fb016ba-7ae1-43f5-bfc0-2520ebc14c8a button.colab-df-generate');\n",
              "      buttonEl.style.display =\n",
              "        google.colab.kernel.accessAllowed ? 'block' : 'none';\n",
              "\n",
              "      buttonEl.onclick = () => {\n",
              "        google.colab.notebook.generateWithVariable('grouped');\n",
              "      }\n",
              "      })();\n",
              "    </script>\n",
              "  </div>\n",
              "\n",
              "    </div>\n",
              "  </div>\n"
            ],
            "application/vnd.google.colaboratory.intrinsic+json": {
              "type": "dataframe",
              "variable_name": "grouped",
              "summary": "{\n  \"name\": \"grouped\",\n  \"rows\": 7,\n  \"fields\": [\n    {\n      \"column\": \"state\",\n      \"properties\": {\n        \"dtype\": \"number\",\n        \"std\": 0,\n        \"min\": 31,\n        \"max\": 31,\n        \"num_unique_values\": 1,\n        \"samples\": [\n          31\n        ],\n        \"semantic_type\": \"\",\n        \"description\": \"\"\n      }\n    },\n    {\n      \"column\": \"marital\",\n      \"properties\": {\n        \"dtype\": \"number\",\n        \"std\": 2,\n        \"min\": -1,\n        \"max\": 6,\n        \"num_unique_values\": 7,\n        \"samples\": [\n          -1\n        ],\n        \"semantic_type\": \"\",\n        \"description\": \"\"\n      }\n    },\n    {\n      \"column\": \"weight\",\n      \"properties\": {\n        \"dtype\": \"number\",\n        \"std\": 303961,\n        \"min\": 7461,\n        \"max\": 840572,\n        \"num_unique_values\": 7,\n        \"samples\": [\n          392683\n        ],\n        \"semantic_type\": \"\",\n        \"description\": \"\"\n      }\n    }\n  ]\n}"
            }
          },
          "metadata": {},
          "execution_count": 33
        }
      ]
    },
    {
      "cell_type": "code",
      "source": [],
      "metadata": {
        "id": "ArUCU1cPsiMP"
      },
      "execution_count": null,
      "outputs": []
    }
  ],
  "metadata": {
    "celltoolbar": "Create Assignment",
    "kernelspec": {
      "display_name": "Python 3 (ipykernel)",
      "language": "python",
      "name": "python3"
    },
    "language_info": {
      "codemirror_mode": {
        "name": "ipython",
        "version": 3
      },
      "file_extension": ".py",
      "mimetype": "text/x-python",
      "name": "python",
      "nbconvert_exporter": "python",
      "pygments_lexer": "ipython3",
      "version": "3.9.13"
    },
    "colab": {
      "provenance": []
    }
  },
  "nbformat": 4,
  "nbformat_minor": 0
}